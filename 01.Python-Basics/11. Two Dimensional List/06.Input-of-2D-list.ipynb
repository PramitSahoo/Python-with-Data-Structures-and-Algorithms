{
 "cells": [
  {
   "cell_type": "code",
   "execution_count": 5,
   "id": "7c532368",
   "metadata": {},
   "outputs": [
    {
     "name": "stdout",
     "output_type": "stream",
     "text": [
      "3 4\n",
      "1 2 3 4 5 6 7 8 9 10 11 12\n"
     ]
    },
    {
     "data": {
      "text/plain": [
       "[[1, 2, 3, 4], [5, 6, 7, 8], [9, 10, 11, 12]]"
      ]
     },
     "execution_count": 5,
     "metadata": {},
     "output_type": "execute_result"
    }
   ],
   "source": [
    "str = input().split()\n",
    "n,m = int(str[0]),int(str[1])\n",
    "b = input().split()\n",
    "li_2D = [[int(b[m*i+j]) for j in range(m)]for i in range(n) ]\n",
    "li_2D"
   ]
  },
  {
   "cell_type": "code",
   "execution_count": 7,
   "id": "aecfbe78",
   "metadata": {},
   "outputs": [
    {
     "name": "stdout",
     "output_type": "stream",
     "text": [
      "3 4 1 2 3 4 5 6 7 8 9 10 11 12\n"
     ]
    },
    {
     "data": {
      "text/plain": [
       "[[1, 2, 3, 4], [5, 6, 7, 8], [9, 10, 11, 12]]"
      ]
     },
     "execution_count": 7,
     "metadata": {},
     "output_type": "execute_result"
    }
   ],
   "source": [
    "# every input is given in a single line\n",
    "str = input().split()\n",
    "n,m = int(str[0]),int(str[1])\n",
    "b = str[2:]\n",
    "li_2d = [[int(b[m*i+j]) for j in range(m)]for i in range(n) ]\n",
    "li_2d"
   ]
  },
  {
   "cell_type": "code",
   "execution_count": null,
   "id": "0820b3b7",
   "metadata": {},
   "outputs": [],
   "source": []
  },
  {
   "cell_type": "code",
   "execution_count": null,
   "id": "2763ff5b",
   "metadata": {},
   "outputs": [],
   "source": []
  }
 ],
 "metadata": {
  "kernelspec": {
   "display_name": "Python 3",
   "language": "python",
   "name": "python3"
  },
  "language_info": {
   "codemirror_mode": {
    "name": "ipython",
    "version": 3
   },
   "file_extension": ".py",
   "mimetype": "text/x-python",
   "name": "python",
   "nbconvert_exporter": "python",
   "pygments_lexer": "ipython3",
   "version": "3.8.10"
  }
 },
 "nbformat": 4,
 "nbformat_minor": 5
}
