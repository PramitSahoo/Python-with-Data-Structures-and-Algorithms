{
 "cells": [
  {
   "cell_type": "code",
   "execution_count": 3,
   "id": "e091af83",
   "metadata": {},
   "outputs": [
    {
     "name": "stdout",
     "output_type": "stream",
     "text": [
      "3 4\n",
      "1 2 3 4\n",
      "5 6 7 8\n",
      "9 10 11 12\n"
     ]
    },
    {
     "data": {
      "text/plain": [
       "[[1, 2, 3, 4], [5, 6, 7, 8], [9, 10, 11, 12]]"
      ]
     },
     "execution_count": 3,
     "metadata": {},
     "output_type": "execute_result"
    }
   ],
   "source": [
    "str = input().split()\n",
    "n,m = int(str[0]),int(str[1])\n",
    "# input of 2d list\n",
    "li_2d = [[int(ele) for ele in input().split()] for i in range(n)]\n",
    "li_2d"
   ]
  },
  {
   "cell_type": "code",
   "execution_count": 7,
   "id": "2f9f61dd",
   "metadata": {},
   "outputs": [
    {
     "name": "stdout",
     "output_type": "stream",
     "text": [
      "3\n",
      "1 2 3 4\n",
      "5 6 \n",
      "7 8 9\n"
     ]
    },
    {
     "data": {
      "text/plain": [
       "[[1, 2, 3, 4], [5, 6], [7, 8, 9]]"
      ]
     },
     "execution_count": 7,
     "metadata": {},
     "output_type": "execute_result"
    }
   ],
   "source": [
    "#str = input().split()\n",
    "#n,m = int(str[0]),int(str[1])  # no need to take column in jagged list\n",
    "n = int(input())\n",
    "# input of jagged list\n",
    "li_jagged = [[int(ele) for ele in input().split()] for i in range(n)]\n",
    "li_jagged"
   ]
  },
  {
   "cell_type": "code",
   "execution_count": null,
   "id": "f0cc5f44",
   "metadata": {},
   "outputs": [],
   "source": []
  }
 ],
 "metadata": {
  "kernelspec": {
   "display_name": "Python 3",
   "language": "python",
   "name": "python3"
  },
  "language_info": {
   "codemirror_mode": {
    "name": "ipython",
    "version": 3
   },
   "file_extension": ".py",
   "mimetype": "text/x-python",
   "name": "python",
   "nbconvert_exporter": "python",
   "pygments_lexer": "ipython3",
   "version": "3.8.10"
  }
 },
 "nbformat": 4,
 "nbformat_minor": 5
}
