{
 "cells": [
  {
   "cell_type": "code",
   "execution_count": 5,
   "id": "115ad5f2",
   "metadata": {},
   "outputs": [],
   "source": [
    "li = [1,2,3,4]\n",
    "# i want square of every element in new list"
   ]
  },
  {
   "cell_type": "code",
   "execution_count": 6,
   "id": "a9de6efd",
   "metadata": {},
   "outputs": [
    {
     "name": "stdout",
     "output_type": "stream",
     "text": [
      "[1, 4, 9, 16]\n"
     ]
    }
   ],
   "source": [
    "li_new = []\n",
    "for i in li:\n",
    "    li_new.append(i**2)\n",
    "print(li_new)"
   ]
  },
  {
   "cell_type": "code",
   "execution_count": 8,
   "id": "581fe0b4",
   "metadata": {},
   "outputs": [
    {
     "data": {
      "text/plain": [
       "[1, 4, 9, 16]"
      ]
     },
     "execution_count": 8,
     "metadata": {},
     "output_type": "execute_result"
    }
   ],
   "source": [
    "li_new_c = [ele**2 for ele in li]\n",
    "li_new_c"
   ]
  },
  {
   "cell_type": "code",
   "execution_count": 10,
   "id": "a727f2a1",
   "metadata": {},
   "outputs": [
    {
     "data": {
      "text/plain": [
       "[4, 16]"
      ]
     },
     "execution_count": 10,
     "metadata": {},
     "output_type": "execute_result"
    }
   ],
   "source": [
    "li_new_even = [ele**2 for ele in li if(ele % 2== 0) ]\n",
    "li_new_even"
   ]
  },
  {
   "cell_type": "code",
   "execution_count": 11,
   "id": "49b76f76",
   "metadata": {},
   "outputs": [
    {
     "data": {
      "text/plain": [
       "[2, 3, 4, 6, 8, 9]"
      ]
     },
     "execution_count": 11,
     "metadata": {},
     "output_type": "execute_result"
    }
   ],
   "source": [
    "li = [1,2,3,4,5,6,7,8,9]\n",
    "# i want a new list of ele which are multiple of 2 or 3\n",
    "li_new = [ele for ele in li if((ele%2==0) or (ele%3 == 0))]\n",
    "li_new"
   ]
  },
  {
   "cell_type": "code",
   "execution_count": 13,
   "id": "d5d2caea",
   "metadata": {},
   "outputs": [
    {
     "data": {
      "text/plain": [
       "[6]"
      ]
     },
     "execution_count": 13,
     "metadata": {},
     "output_type": "execute_result"
    }
   ],
   "source": [
    "# i want a new list of ele which are multiple of 2 and 3\n",
    "li_new_and = [ele for ele in li if ele % 2 == 0 if ele%3 == 0]\n",
    "li_new_and"
   ]
  },
  {
   "cell_type": "code",
   "execution_count": 14,
   "id": "59061620",
   "metadata": {},
   "outputs": [
    {
     "data": {
      "text/plain": [
       "[2, 4]"
      ]
     },
     "execution_count": 14,
     "metadata": {},
     "output_type": "execute_result"
    }
   ],
   "source": [
    "# multiple for loop\n",
    "li_1 = [1,2,3,4,5]\n",
    "li_2 = [2,4,6,7]\n",
    "# i want common of both list\n",
    "li_common = [i for i in li_1 for j in li_2 if(i == j) ]\n",
    "li_common"
   ]
  },
  {
   "cell_type": "code",
   "execution_count": 16,
   "id": "cdd6623b",
   "metadata": {},
   "outputs": [
    {
     "data": {
      "text/plain": [
       "[1, 4, 3, 16, 5]"
      ]
     },
     "execution_count": 16,
     "metadata": {},
     "output_type": "execute_result"
    }
   ],
   "source": [
    "# if else condition\n",
    "li = [1,2,3,4,5]\n",
    "# if multiple of 2 then ele**2  or ele only\n",
    "li_ie = [ele**2 if (ele % 2 == 0) else ele for ele in li]\n",
    "li_ie"
   ]
  },
  {
   "cell_type": "code",
   "execution_count": 17,
   "id": "988e3bc2",
   "metadata": {},
   "outputs": [
    {
     "data": {
      "text/plain": [
       "[['P'], ['r'], ['a'], ['m'], ['i'], ['t']]"
      ]
     },
     "execution_count": 17,
     "metadata": {},
     "output_type": "execute_result"
    }
   ],
   "source": [
    "# generating list of lists\n",
    "a = \"Pramit\"\n",
    "# i want every char in a list\n",
    "li_char = [list(char) for char in a]\n",
    "li_char"
   ]
  },
  {
   "cell_type": "code",
   "execution_count": 18,
   "id": "feeda4ae",
   "metadata": {},
   "outputs": [
    {
     "data": {
      "text/plain": [
       "['p', 'r', 'a', 'm', 'i', 't']"
      ]
     },
     "execution_count": 18,
     "metadata": {},
     "output_type": "execute_result"
    }
   ],
   "source": [
    "a = \"pramit\"\n",
    "li_char1 = [char for char in a]\n",
    "li_char1"
   ]
  },
  {
   "cell_type": "code",
   "execution_count": 20,
   "id": "2ace8a2a",
   "metadata": {},
   "outputs": [
    {
     "data": {
      "text/plain": [
       "[['p', 'r', 'a', 'm', 'i', 't'],\n",
       " ['s', 'h', 'i', 'r', 's', 'e', 'n', 'd', 'u'],\n",
       " ['r', 'a', 'j', 'e', 's', 'h']]"
      ]
     },
     "execution_count": 20,
     "metadata": {},
     "output_type": "execute_result"
    }
   ],
   "source": [
    "#list of list\n",
    "li = [\"pramit\",\"shirsendu\",\"rajesh\"]\n",
    "li_nested = [list(ele) for ele in li]\n",
    "li_nested"
   ]
  },
  {
   "cell_type": "code",
   "execution_count": 21,
   "id": "34e2cf37",
   "metadata": {},
   "outputs": [
    {
     "data": {
      "text/plain": [
       "[['p', 'r', 'a', 'm', 'i', 't'],\n",
       " ['s', 'h', 'i', 'r', 's', 'e', 'n', 'd', 'u'],\n",
       " ['r', 'a', 'j', 'e', 's', 'h']]"
      ]
     },
     "execution_count": 21,
     "metadata": {},
     "output_type": "execute_result"
    }
   ],
   "source": [
    "li = [\"pramit\",\"shirsendu\",\"rajesh\"]\n",
    "li_nested1 = [[i for i in ele] for ele in li]\n",
    "li_nested1"
   ]
  },
  {
   "cell_type": "code",
   "execution_count": null,
   "id": "24013b51",
   "metadata": {},
   "outputs": [],
   "source": []
  }
 ],
 "metadata": {
  "kernelspec": {
   "display_name": "Python 3",
   "language": "python",
   "name": "python3"
  },
  "language_info": {
   "codemirror_mode": {
    "name": "ipython",
    "version": 3
   },
   "file_extension": ".py",
   "mimetype": "text/x-python",
   "name": "python",
   "nbconvert_exporter": "python",
   "pygments_lexer": "ipython3",
   "version": "3.8.10"
  }
 },
 "nbformat": 4,
 "nbformat_minor": 5
}
