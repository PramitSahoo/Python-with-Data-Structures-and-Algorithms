{
 "cells": [
  {
   "cell_type": "code",
   "execution_count": 1,
   "id": "1f73fe68",
   "metadata": {},
   "outputs": [],
   "source": [
    "li = [[1,2,3,4],[5,6,7,8]]"
   ]
  },
  {
   "cell_type": "code",
   "execution_count": 2,
   "id": "76cf223e",
   "metadata": {},
   "outputs": [
    {
     "data": {
      "text/plain": [
       "[1, 2, 3, 4]"
      ]
     },
     "execution_count": 2,
     "metadata": {},
     "output_type": "execute_result"
    }
   ],
   "source": [
    "li[0]"
   ]
  },
  {
   "cell_type": "code",
   "execution_count": 3,
   "id": "3939a7c0",
   "metadata": {},
   "outputs": [
    {
     "data": {
      "text/plain": [
       "list"
      ]
     },
     "execution_count": 3,
     "metadata": {},
     "output_type": "execute_result"
    }
   ],
   "source": [
    "type(li[0])"
   ]
  },
  {
   "cell_type": "code",
   "execution_count": 4,
   "id": "a4051f2b",
   "metadata": {},
   "outputs": [],
   "source": [
    "li[0][1] = 4"
   ]
  },
  {
   "cell_type": "code",
   "execution_count": 5,
   "id": "e05ecd34",
   "metadata": {},
   "outputs": [
    {
     "data": {
      "text/plain": [
       "[[1, 4, 3, 4], [5, 6, 7, 8]]"
      ]
     },
     "execution_count": 5,
     "metadata": {},
     "output_type": "execute_result"
    }
   ],
   "source": [
    "li"
   ]
  },
  {
   "cell_type": "code",
   "execution_count": 6,
   "id": "bd8381cf",
   "metadata": {},
   "outputs": [
    {
     "data": {
      "text/plain": [
       "2357202320896"
      ]
     },
     "execution_count": 6,
     "metadata": {},
     "output_type": "execute_result"
    }
   ],
   "source": [
    "id(li)"
   ]
  },
  {
   "cell_type": "code",
   "execution_count": 8,
   "id": "a2e9926c",
   "metadata": {},
   "outputs": [
    {
     "data": {
      "text/plain": [
       "2357202546240"
      ]
     },
     "execution_count": 8,
     "metadata": {},
     "output_type": "execute_result"
    }
   ],
   "source": [
    "id(li[0])"
   ]
  },
  {
   "cell_type": "code",
   "execution_count": 9,
   "id": "fc652829",
   "metadata": {},
   "outputs": [],
   "source": [
    "li[1] = \"Pramit\""
   ]
  },
  {
   "cell_type": "code",
   "execution_count": 11,
   "id": "32e7ab8f",
   "metadata": {},
   "outputs": [
    {
     "data": {
      "text/plain": [
       "[[1, 4, 3, 4], 'Pramit']"
      ]
     },
     "execution_count": 11,
     "metadata": {},
     "output_type": "execute_result"
    }
   ],
   "source": [
    "li  # it contains list and string .. this is not a 2d list.. 2d list is list of lists"
   ]
  },
  {
   "cell_type": "code",
   "execution_count": 12,
   "id": "e892386e",
   "metadata": {},
   "outputs": [],
   "source": [
    "li[1] = [8,9,15,13]"
   ]
  },
  {
   "cell_type": "code",
   "execution_count": 13,
   "id": "8b068f1e",
   "metadata": {},
   "outputs": [
    {
     "data": {
      "text/plain": [
       "[[1, 4, 3, 4], [8, 9, 15, 13]]"
      ]
     },
     "execution_count": 13,
     "metadata": {},
     "output_type": "execute_result"
    }
   ],
   "source": [
    "li"
   ]
  },
  {
   "cell_type": "code",
   "execution_count": null,
   "id": "16e7877f",
   "metadata": {},
   "outputs": [],
   "source": []
  }
 ],
 "metadata": {
  "kernelspec": {
   "display_name": "Python 3",
   "language": "python",
   "name": "python3"
  },
  "language_info": {
   "codemirror_mode": {
    "name": "ipython",
    "version": 3
   },
   "file_extension": ".py",
   "mimetype": "text/x-python",
   "name": "python",
   "nbconvert_exporter": "python",
   "pygments_lexer": "ipython3",
   "version": "3.8.10"
  }
 },
 "nbformat": 4,
 "nbformat_minor": 5
}
