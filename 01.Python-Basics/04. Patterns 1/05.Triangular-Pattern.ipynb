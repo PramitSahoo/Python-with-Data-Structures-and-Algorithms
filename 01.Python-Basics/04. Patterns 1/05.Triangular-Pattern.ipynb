{
 "cells": [
  {
   "cell_type": "code",
   "execution_count": 1,
   "id": "12bfbf87",
   "metadata": {},
   "outputs": [
    {
     "name": "stdout",
     "output_type": "stream",
     "text": [
      "4\n",
      "1\n",
      "12\n",
      "123\n",
      "1234\n"
     ]
    }
   ],
   "source": [
    "n = int(input())\n",
    "i = 1\n",
    "while(i <= n):\n",
    "    j = 1\n",
    "    while(j <= i):\n",
    "        print(j,end='')\n",
    "        j += 1\n",
    "    print()\n",
    "    i += 1"
   ]
  },
  {
   "cell_type": "code",
   "execution_count": 2,
   "id": "4acaf8f0",
   "metadata": {},
   "outputs": [
    {
     "name": "stdout",
     "output_type": "stream",
     "text": [
      "4\n",
      "1\n",
      "23\n",
      "456\n",
      "78910\n"
     ]
    }
   ],
   "source": [
    "n = int(input())\n",
    "i = 1\n",
    "p = 1\n",
    "while(i <= n):\n",
    "    j = 1\n",
    "    while(j <= i):\n",
    "        print(p,end='')\n",
    "        p+= 1\n",
    "        j += 1\n",
    "    print()\n",
    "    i += 1"
   ]
  },
  {
   "cell_type": "code",
   "execution_count": 6,
   "id": "4ed0e38f",
   "metadata": {},
   "outputs": [
    {
     "name": "stdout",
     "output_type": "stream",
     "text": [
      "4\n",
      "1\n",
      "23\n",
      "345\n",
      "4567\n"
     ]
    }
   ],
   "source": [
    "n = int(input())\n",
    "i = 1\n",
    "while(i <= n):\n",
    "    j = 1\n",
    "    while(j <= i):\n",
    "        print(i+j-1,end='') \n",
    "        j += 1\n",
    "    print()\n",
    "    i += 1"
   ]
  },
  {
   "cell_type": "code",
   "execution_count": null,
   "id": "fee26c57",
   "metadata": {},
   "outputs": [],
   "source": []
  }
 ],
 "metadata": {
  "kernelspec": {
   "display_name": "Python 3",
   "language": "python",
   "name": "python3"
  },
  "language_info": {
   "codemirror_mode": {
    "name": "ipython",
    "version": 3
   },
   "file_extension": ".py",
   "mimetype": "text/x-python",
   "name": "python",
   "nbconvert_exporter": "python",
   "pygments_lexer": "ipython3",
   "version": "3.8.10"
  }
 },
 "nbformat": 4,
 "nbformat_minor": 5
}
