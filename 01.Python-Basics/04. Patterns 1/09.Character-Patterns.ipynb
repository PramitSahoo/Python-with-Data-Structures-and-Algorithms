{
 "cells": [
  {
   "cell_type": "code",
   "execution_count": 6,
   "id": "97719c22",
   "metadata": {},
   "outputs": [
    {
     "name": "stdout",
     "output_type": "stream",
     "text": [
      "4\n",
      "ABCD\n",
      "ABCD\n",
      "ABCD\n",
      "ABCD\n"
     ]
    }
   ],
   "source": [
    "n = int(input())\n",
    "i = 1\n",
    "\n",
    "while(i <= n):\n",
    "    j = 1\n",
    "    while(j <= n):\n",
    "        ch = chr(ord('A')+j -1)\n",
    "        print(ch,end='')\n",
    "        j += 1\n",
    "    print()\n",
    "    i += 1"
   ]
  },
  {
   "cell_type": "code",
   "execution_count": 19,
   "id": "8acf20b2",
   "metadata": {},
   "outputs": [
    {
     "name": "stdout",
     "output_type": "stream",
     "text": [
      "4\n",
      "ABCD\n",
      "BCDE\n",
      "CDEF\n",
      "DEFG\n"
     ]
    }
   ],
   "source": [
    "n = int(input())\n",
    "i = 1\n",
    "while(i <= n):\n",
    "    j = 1\n",
    "    start_char = chr(ord('A')+i-1)\n",
    "\n",
    "    \n",
    "    while(j <= n):\n",
    "        ch = chr(ord(start_char)+j-1)\n",
    "        print(ch,end='')\n",
    "        j += 1\n",
    "    print()\n",
    "    i += 1"
   ]
  },
  {
   "cell_type": "code",
   "execution_count": null,
   "id": "3f1108a1",
   "metadata": {},
   "outputs": [],
   "source": []
  }
 ],
 "metadata": {
  "kernelspec": {
   "display_name": "Python 3",
   "language": "python",
   "name": "python3"
  },
  "language_info": {
   "codemirror_mode": {
    "name": "ipython",
    "version": 3
   },
   "file_extension": ".py",
   "mimetype": "text/x-python",
   "name": "python",
   "nbconvert_exporter": "python",
   "pygments_lexer": "ipython3",
   "version": "3.8.10"
  }
 },
 "nbformat": 4,
 "nbformat_minor": 5
}
