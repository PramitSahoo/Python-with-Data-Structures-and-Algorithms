{
 "cells": [
  {
   "cell_type": "code",
   "execution_count": 5,
   "id": "d2fde54b",
   "metadata": {},
   "outputs": [],
   "source": [
    "def isFib(n):\n",
    "    if(n == 0 or n == 1 or n == 2):\n",
    "        return True\n",
    "    first = 0\n",
    "    second = 1\n",
    "    while(second < n):\n",
    "        nextno = first + second\n",
    "        first = second\n",
    "        second = nextno\n",
    "    if(second == n):\n",
    "        return True\n",
    "    return False"
   ]
  },
  {
   "cell_type": "code",
   "execution_count": 8,
   "id": "382d1c52",
   "metadata": {},
   "outputs": [
    {
     "name": "stdout",
     "output_type": "stream",
     "text": [
      "14\n"
     ]
    },
    {
     "data": {
      "text/plain": [
       "False"
      ]
     },
     "execution_count": 8,
     "metadata": {},
     "output_type": "execute_result"
    }
   ],
   "source": [
    "n = int(input())\n",
    "isFib(n)"
   ]
  },
  {
   "cell_type": "code",
   "execution_count": null,
   "id": "e1c27ee3",
   "metadata": {},
   "outputs": [],
   "source": []
  }
 ],
 "metadata": {
  "kernelspec": {
   "display_name": "Python 3",
   "language": "python",
   "name": "python3"
  },
  "language_info": {
   "codemirror_mode": {
    "name": "ipython",
    "version": 3
   },
   "file_extension": ".py",
   "mimetype": "text/x-python",
   "name": "python",
   "nbconvert_exporter": "python",
   "pygments_lexer": "ipython3",
   "version": "3.8.10"
  }
 },
 "nbformat": 4,
 "nbformat_minor": 5
}
