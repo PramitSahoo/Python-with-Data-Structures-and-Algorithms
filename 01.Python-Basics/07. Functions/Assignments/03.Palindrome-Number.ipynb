{
 "cells": [
  {
   "cell_type": "code",
   "execution_count": 8,
   "id": "6ddc6508",
   "metadata": {},
   "outputs": [],
   "source": [
    "def ispalindrome(n):\n",
    "    # check the no and rev of that number\n",
    "    temp = n\n",
    "    rev = 0\n",
    "    while(temp != 0):\n",
    "        rem = temp % 10\n",
    "        rev = (rev * 10) + rem\n",
    "        temp = temp // 10\n",
    "    if(n == rev):\n",
    "        return True\n",
    "    else:\n",
    "        return False"
   ]
  },
  {
   "cell_type": "code",
   "execution_count": 9,
   "id": "0f401e91",
   "metadata": {},
   "outputs": [
    {
     "name": "stdout",
     "output_type": "stream",
     "text": [
      "121\n"
     ]
    },
    {
     "data": {
      "text/plain": [
       "True"
      ]
     },
     "execution_count": 9,
     "metadata": {},
     "output_type": "execute_result"
    }
   ],
   "source": [
    "n = int(input())\n",
    "ispalindrome(n)"
   ]
  },
  {
   "cell_type": "code",
   "execution_count": null,
   "id": "a5dee349",
   "metadata": {},
   "outputs": [],
   "source": []
  }
 ],
 "metadata": {
  "kernelspec": {
   "display_name": "Python 3",
   "language": "python",
   "name": "python3"
  },
  "language_info": {
   "codemirror_mode": {
    "name": "ipython",
    "version": 3
   },
   "file_extension": ".py",
   "mimetype": "text/x-python",
   "name": "python",
   "nbconvert_exporter": "python",
   "pygments_lexer": "ipython3",
   "version": "3.8.10"
  }
 },
 "nbformat": 4,
 "nbformat_minor": 5
}
