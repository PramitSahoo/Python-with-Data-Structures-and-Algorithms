{
 "cells": [
  {
   "cell_type": "code",
   "execution_count": 1,
   "id": "268dbf4a",
   "metadata": {},
   "outputs": [],
   "source": [
    "def checkArmstrong(n):\n",
    "    num = n\n",
    "    digit = 0\n",
    "    while(num > 0):\n",
    "        digit = digit + 1\n",
    "        num //= 10\n",
    "        \n",
    "    newNum = 0\n",
    "    num = n\n",
    "    while(num >0):\n",
    "        rem = num % 10\n",
    "        newNum = newNum + (rem**digit)\n",
    "        num //= 10\n",
    "    if(newNum == n):\n",
    "        return True\n",
    "    else:\n",
    "        return False\n",
    "    "
   ]
  },
  {
   "cell_type": "code",
   "execution_count": 2,
   "id": "0061fb39",
   "metadata": {},
   "outputs": [
    {
     "name": "stdout",
     "output_type": "stream",
     "text": [
      "371\n"
     ]
    },
    {
     "data": {
      "text/plain": [
       "True"
      ]
     },
     "execution_count": 2,
     "metadata": {},
     "output_type": "execute_result"
    }
   ],
   "source": [
    "n = int(input())\n",
    "checkArmstrong(n)"
   ]
  },
  {
   "cell_type": "code",
   "execution_count": null,
   "id": "59b01753",
   "metadata": {},
   "outputs": [],
   "source": []
  }
 ],
 "metadata": {
  "kernelspec": {
   "display_name": "Python 3",
   "language": "python",
   "name": "python3"
  },
  "language_info": {
   "codemirror_mode": {
    "name": "ipython",
    "version": 3
   },
   "file_extension": ".py",
   "mimetype": "text/x-python",
   "name": "python",
   "nbconvert_exporter": "python",
   "pygments_lexer": "ipython3",
   "version": "3.8.10"
  }
 },
 "nbformat": 4,
 "nbformat_minor": 5
}
