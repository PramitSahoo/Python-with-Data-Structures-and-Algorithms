{
 "cells": [
  {
   "cell_type": "markdown",
   "id": "ed5615c5",
   "metadata": {},
   "source": [
    "1.Check Primality"
   ]
  },
  {
   "cell_type": "code",
   "execution_count": 30,
   "id": "a754e0de",
   "metadata": {},
   "outputs": [],
   "source": [
    "# def isPrime(n):\n",
    "#     for i in range(2,n):\n",
    "#         if(n % i == 0):\n",
    "#             break\n",
    "#             return False\n",
    "#     return True\n",
    "\n",
    "def isPrime(n):\n",
    "    for d in range(2,n):\n",
    "        if(n % d == 0):\n",
    "            break\n",
    "    else:\n",
    "        return True"
   ]
  },
  {
   "cell_type": "code",
   "execution_count": 32,
   "id": "67e73b4a",
   "metadata": {},
   "outputs": [
    {
     "name": "stdout",
     "output_type": "stream",
     "text": [
      "5\n"
     ]
    },
    {
     "data": {
      "text/plain": [
       "True"
      ]
     },
     "execution_count": 32,
     "metadata": {},
     "output_type": "execute_result"
    }
   ],
   "source": [
    "n = int(input())\n",
    "isPrime(n)"
   ]
  },
  {
   "cell_type": "markdown",
   "id": "48a3028f",
   "metadata": {},
   "source": [
    "2. Print all prime no from 2 to n "
   ]
  },
  {
   "cell_type": "code",
   "execution_count": 35,
   "id": "78b3db70",
   "metadata": {},
   "outputs": [],
   "source": [
    "def prime2toN(n):\n",
    "    for k in range(2,n+1):\n",
    "        is_k_prime = isPrime(k)\n",
    "        if(is_k_prime):\n",
    "            print(k)"
   ]
  },
  {
   "cell_type": "code",
   "execution_count": 38,
   "id": "fe6a622c",
   "metadata": {},
   "outputs": [
    {
     "name": "stdout",
     "output_type": "stream",
     "text": [
      "2\n",
      "3\n",
      "5\n",
      "7\n",
      "11\n",
      "13\n",
      "17\n",
      "19\n"
     ]
    }
   ],
   "source": [
    "prime2toN(20)"
   ]
  },
  {
   "cell_type": "markdown",
   "id": "510ae5ef",
   "metadata": {},
   "source": [
    "3. Calculating ncr"
   ]
  },
  {
   "cell_type": "code",
   "execution_count": 39,
   "id": "e0f1a66f",
   "metadata": {},
   "outputs": [],
   "source": [
    "def fact(n):\n",
    "    fact = 1\n",
    "    for i in range(1,n+1):\n",
    "        fact = fact * i\n",
    "    return fact\n",
    "    "
   ]
  },
  {
   "cell_type": "code",
   "execution_count": 43,
   "id": "7a9492da",
   "metadata": {},
   "outputs": [],
   "source": [
    "def ncr(n,r):\n",
    "    ans_ncr = fact(n)//(fact(r)*fact(n-r))\n",
    "    return ans_ncr"
   ]
  },
  {
   "cell_type": "code",
   "execution_count": 44,
   "id": "73994bd0",
   "metadata": {},
   "outputs": [
    {
     "data": {
      "text/plain": [
       "10"
      ]
     },
     "execution_count": 44,
     "metadata": {},
     "output_type": "execute_result"
    }
   ],
   "source": [
    "ncr(5,2)"
   ]
  },
  {
   "cell_type": "code",
   "execution_count": null,
   "id": "d062e735",
   "metadata": {},
   "outputs": [],
   "source": []
  }
 ],
 "metadata": {
  "kernelspec": {
   "display_name": "Python 3",
   "language": "python",
   "name": "python3"
  },
  "language_info": {
   "codemirror_mode": {
    "name": "ipython",
    "version": 3
   },
   "file_extension": ".py",
   "mimetype": "text/x-python",
   "name": "python",
   "nbconvert_exporter": "python",
   "pygments_lexer": "ipython3",
   "version": "3.8.10"
  }
 },
 "nbformat": 4,
 "nbformat_minor": 5
}
