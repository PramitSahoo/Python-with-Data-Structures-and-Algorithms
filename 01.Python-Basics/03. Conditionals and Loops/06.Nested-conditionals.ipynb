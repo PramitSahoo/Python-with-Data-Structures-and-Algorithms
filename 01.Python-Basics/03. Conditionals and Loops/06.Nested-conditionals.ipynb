{
 "cells": [
  {
   "cell_type": "code",
   "execution_count": 1,
   "id": "8c0d3057",
   "metadata": {},
   "outputs": [
    {
     "name": "stdout",
     "output_type": "stream",
     "text": [
      "0\n",
      "Even\n",
      "Zero\n"
     ]
    }
   ],
   "source": [
    "# print even and zero\n",
    "n = int(input())\n",
    "\n",
    "if (n % 2 == 0):\n",
    "    print(\"Even\")\n",
    "    if(n == 0):\n",
    "        print(\"Zero\")\n",
    "else:\n",
    "    print(\"n is odd\")"
   ]
  },
  {
   "cell_type": "code",
   "execution_count": 3,
   "id": "16debbf2",
   "metadata": {},
   "outputs": [
    {
     "name": "stdout",
     "output_type": "stream",
     "text": [
      "2\n",
      "4\n",
      "1\n"
     ]
    }
   ],
   "source": [
    "# take m and n . check if n is even , if m is even then print 1 and ifm is odd print 2. if n is odd print 3\n",
    "n = int(input())\n",
    "m = int(input())\n",
    "\n",
    "if(n % 2 == 0):\n",
    "    if(m % 2 ==0):\n",
    "        print(1)\n",
    "    else:\n",
    "        print(2)\n",
    "else:\n",
    "    print(3)"
   ]
  },
  {
   "cell_type": "code",
   "execution_count": null,
   "id": "ed478706",
   "metadata": {},
   "outputs": [],
   "source": []
  }
 ],
 "metadata": {
  "kernelspec": {
   "display_name": "Python 3",
   "language": "python",
   "name": "python3"
  },
  "language_info": {
   "codemirror_mode": {
    "name": "ipython",
    "version": 3
   },
   "file_extension": ".py",
   "mimetype": "text/x-python",
   "name": "python",
   "nbconvert_exporter": "python",
   "pygments_lexer": "ipython3",
   "version": "3.8.10"
  }
 },
 "nbformat": 4,
 "nbformat_minor": 5
}
