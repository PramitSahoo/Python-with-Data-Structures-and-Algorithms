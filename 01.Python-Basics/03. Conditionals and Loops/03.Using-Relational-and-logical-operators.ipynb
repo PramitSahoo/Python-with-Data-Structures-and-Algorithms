{
 "cells": [
  {
   "cell_type": "code",
   "execution_count": 1,
   "id": "1512ee34",
   "metadata": {},
   "outputs": [
    {
     "name": "stdout",
     "output_type": "stream",
     "text": [
      "10\n",
      "10\n",
      "both are greater than 10\n"
     ]
    }
   ],
   "source": [
    "# print if both are greater than 10 or not\n",
    "a = int(input())\n",
    "b = int(input())\n",
    "\n",
    "if(a > 10 and b > 10):\n",
    "    print(\"both are greater than 10\")\n",
    "else:\n",
    "    print(\"no both are not \")"
   ]
  },
  {
   "cell_type": "code",
   "execution_count": 2,
   "id": "3844c393",
   "metadata": {},
   "outputs": [
    {
     "name": "stdout",
     "output_type": "stream",
     "text": [
      "7\n",
      "a is 7\n"
     ]
    }
   ],
   "source": [
    "# check if a no is 7 or not\n",
    "a = int(input())\n",
    "if(a == 7):\n",
    "    print(\"a is 7\")\n",
    "else:\n",
    "    print(\"no its not\")"
   ]
  },
  {
   "cell_type": "code",
   "execution_count": 3,
   "id": "3690433f",
   "metadata": {},
   "outputs": [
    {
     "name": "stdout",
     "output_type": "stream",
     "text": [
      "4\n",
      "a is not 7\n"
     ]
    }
   ],
   "source": [
    "# check if a no is 7 or not\n",
    "a = int(input())\n",
    "if(a != 7):\n",
    "    print(\"a is not 7\")\n",
    "else:\n",
    "    print(\"its 7\")"
   ]
  },
  {
   "cell_type": "code",
   "execution_count": null,
   "id": "7594c4a7",
   "metadata": {},
   "outputs": [],
   "source": []
  }
 ],
 "metadata": {
  "kernelspec": {
   "display_name": "Python 3",
   "language": "python",
   "name": "python3"
  },
  "language_info": {
   "codemirror_mode": {
    "name": "ipython",
    "version": 3
   },
   "file_extension": ".py",
   "mimetype": "text/x-python",
   "name": "python",
   "nbconvert_exporter": "python",
   "pygments_lexer": "ipython3",
   "version": "3.8.10"
  }
 },
 "nbformat": 4,
 "nbformat_minor": 5
}
