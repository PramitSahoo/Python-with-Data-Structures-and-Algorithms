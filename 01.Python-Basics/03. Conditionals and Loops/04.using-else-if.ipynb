{
 "cells": [
  {
   "cell_type": "code",
   "execution_count": 3,
   "id": "61839055",
   "metadata": {},
   "outputs": [
    {
     "name": "stdout",
     "output_type": "stream",
     "text": [
      "-1\n",
      "-2\n",
      "3\n",
      "c is largest\n"
     ]
    }
   ],
   "source": [
    "# print largest among three no\n",
    "a = int(input())\n",
    "b = int(input())\n",
    "c = int(input())\n",
    "\n",
    "if(a >=b and a >=c):\n",
    "    print(\"a is largest\")\n",
    "elif(b>=a and b>=c):\n",
    "    print(\"b is largest\")\n",
    "else:\n",
    "    print(\"c is largest\")"
   ]
  },
  {
   "cell_type": "code",
   "execution_count": 6,
   "id": "321309cf",
   "metadata": {},
   "outputs": [
    {
     "name": "stdout",
     "output_type": "stream",
     "text": [
      "Enter n: 10\n",
      "green\n"
     ]
    }
   ],
   "source": [
    "# if n > 10 print red, 10 >=n>=5 print green, 5 >n>0 print yellow\n",
    "\n",
    "n = int(input(\"Enter n: \"))\n",
    "if(n > 10):\n",
    "    print(\"red\")\n",
    "elif(n >=5 and n <=10):\n",
    "    print(\"green\")\n",
    "elif(n < 5 and n >0):\n",
    "    print(\"yellow\")\n",
    "    \n",
    "else:\n",
    "    print(\"Nothing\")"
   ]
  },
  {
   "cell_type": "code",
   "execution_count": null,
   "id": "3b0df355",
   "metadata": {},
   "outputs": [],
   "source": []
  }
 ],
 "metadata": {
  "kernelspec": {
   "display_name": "Python 3",
   "language": "python",
   "name": "python3"
  },
  "language_info": {
   "codemirror_mode": {
    "name": "ipython",
    "version": 3
   },
   "file_extension": ".py",
   "mimetype": "text/x-python",
   "name": "python",
   "nbconvert_exporter": "python",
   "pygments_lexer": "ipython3",
   "version": "3.8.10"
  }
 },
 "nbformat": 4,
 "nbformat_minor": 5
}
