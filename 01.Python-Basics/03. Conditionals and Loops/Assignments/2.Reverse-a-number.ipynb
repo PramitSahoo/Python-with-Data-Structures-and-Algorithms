{
 "cells": [
  {
   "cell_type": "code",
   "execution_count": 1,
   "id": "d6b548d1",
   "metadata": {},
   "outputs": [
    {
     "name": "stdout",
     "output_type": "stream",
     "text": [
      "1234\n",
      "4321\n"
     ]
    }
   ],
   "source": [
    "#Write Your Code Here\n",
    "n = int(input())\n",
    "temp = n\n",
    "revNum = 0\n",
    "while(temp > 0):\n",
    "    rem = temp % 10\n",
    "    temp = temp // 10\n",
    "    revNum = revNum*10 + rem\n",
    "print(revNum)\n",
    "    "
   ]
  },
  {
   "cell_type": "code",
   "execution_count": null,
   "id": "e1f11fd9",
   "metadata": {},
   "outputs": [],
   "source": []
  }
 ],
 "metadata": {
  "kernelspec": {
   "display_name": "Python 3",
   "language": "python",
   "name": "python3"
  },
  "language_info": {
   "codemirror_mode": {
    "name": "ipython",
    "version": 3
   },
   "file_extension": ".py",
   "mimetype": "text/x-python",
   "name": "python",
   "nbconvert_exporter": "python",
   "pygments_lexer": "ipython3",
   "version": "3.8.10"
  }
 },
 "nbformat": 4,
 "nbformat_minor": 5
}
