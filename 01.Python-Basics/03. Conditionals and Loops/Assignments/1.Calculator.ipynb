{
 "cells": [
  {
   "cell_type": "code",
   "execution_count": 9,
   "id": "504569e4",
   "metadata": {},
   "outputs": [
    {
     "name": "stdout",
     "output_type": "stream",
     "text": [
      "6\n"
     ]
    }
   ],
   "source": [
    "# Write your code here\n",
    "ip = int(input())\n",
    "while(ip != 6):\n",
    "    if(ip >= 1 and ip <= 5):\n",
    "        a = int(input())\n",
    "        b = int(input())\n",
    "    if(ip == 1):\n",
    "        print(a + b)\n",
    "           # break\n",
    "    if(ip == 2):\n",
    "        print(a - b)\n",
    "            #break\n",
    "    if(ip == 3):\n",
    "        print(a * b)\n",
    "            #break\n",
    "    if(ip == 4):\n",
    "        print(a // b)\n",
    "            #break\n",
    "    if(ip == 5):\n",
    "        print(a % b)\n",
    "            #break\n",
    "    elif(ip < 1 or ip >6):\n",
    "        print(\"Invalid Operation\")\n",
    "\n",
    "    ip = int(input())"
   ]
  },
  {
   "cell_type": "code",
   "execution_count": null,
   "id": "951e7c8f",
   "metadata": {},
   "outputs": [],
   "source": []
  }
 ],
 "metadata": {
  "kernelspec": {
   "display_name": "Python 3",
   "language": "python",
   "name": "python3"
  },
  "language_info": {
   "codemirror_mode": {
    "name": "ipython",
    "version": 3
   },
   "file_extension": ".py",
   "mimetype": "text/x-python",
   "name": "python",
   "nbconvert_exporter": "python",
   "pygments_lexer": "ipython3",
   "version": "3.8.10"
  }
 },
 "nbformat": 4,
 "nbformat_minor": 5
}
