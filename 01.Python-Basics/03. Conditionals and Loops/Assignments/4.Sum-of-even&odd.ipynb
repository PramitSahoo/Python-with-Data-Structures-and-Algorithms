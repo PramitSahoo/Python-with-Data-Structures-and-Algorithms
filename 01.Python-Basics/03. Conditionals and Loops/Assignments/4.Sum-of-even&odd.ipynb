{
 "cells": [
  {
   "cell_type": "code",
   "execution_count": 1,
   "id": "319d909a",
   "metadata": {},
   "outputs": [
    {
     "name": "stdout",
     "output_type": "stream",
     "text": [
      "1234\n",
      "6  4\n"
     ]
    }
   ],
   "source": [
    "## Note : For printing multiple values in one line, put them inside print separated by space.\n",
    "## You can follow this syntax for printing values of two variables val1 and val2 separaetd by space -\n",
    "## print(val1, \" \", val2)\n",
    "n = int(input())\n",
    "sumEven = 0\n",
    "sumOdd = 0\n",
    "while (n > 0):\n",
    "    rem = n % 10\n",
    "    if(rem % 2 == 0):\n",
    "        sumEven += rem\n",
    "    else:\n",
    "        sumOdd += rem\n",
    "    n = n // 10\n",
    "        \n",
    "print(sumEven, \"\",sumOdd)"
   ]
  },
  {
   "cell_type": "code",
   "execution_count": null,
   "id": "7b145f38",
   "metadata": {},
   "outputs": [],
   "source": []
  }
 ],
 "metadata": {
  "kernelspec": {
   "display_name": "Python 3",
   "language": "python",
   "name": "python3"
  },
  "language_info": {
   "codemirror_mode": {
    "name": "ipython",
    "version": 3
   },
   "file_extension": ".py",
   "mimetype": "text/x-python",
   "name": "python",
   "nbconvert_exporter": "python",
   "pygments_lexer": "ipython3",
   "version": "3.8.10"
  }
 },
 "nbformat": 4,
 "nbformat_minor": 5
}
