{
 "cells": [
  {
   "cell_type": "code",
   "execution_count": 2,
   "id": "aa6afdd3",
   "metadata": {},
   "outputs": [
    {
     "name": "stdout",
     "output_type": "stream",
     "text": [
      "10\n",
      "2\n",
      "3\n",
      "5\n",
      "7\n"
     ]
    }
   ],
   "source": [
    "# check prime between 2 to n\n",
    "n = int(input())\n",
    "k = 2\n",
    "\n",
    "while(k <= n):\n",
    "    div = 2\n",
    "    isDivided = False\n",
    "    while(div < k):\n",
    "        if(k % div == 0):\n",
    "            isDivided = True\n",
    "        div = div + 1\n",
    "    if not(isDivided):\n",
    "        print(k)\n",
    "    k = k + 1"
   ]
  },
  {
   "cell_type": "code",
   "execution_count": null,
   "id": "f3843e25",
   "metadata": {},
   "outputs": [],
   "source": []
  }
 ],
 "metadata": {
  "kernelspec": {
   "display_name": "Python 3",
   "language": "python",
   "name": "python3"
  },
  "language_info": {
   "codemirror_mode": {
    "name": "ipython",
    "version": 3
   },
   "file_extension": ".py",
   "mimetype": "text/x-python",
   "name": "python",
   "nbconvert_exporter": "python",
   "pygments_lexer": "ipython3",
   "version": "3.8.10"
  }
 },
 "nbformat": 4,
 "nbformat_minor": 5
}
