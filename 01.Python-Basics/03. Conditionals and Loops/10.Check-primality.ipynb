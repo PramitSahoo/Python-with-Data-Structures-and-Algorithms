{
 "cells": [
  {
   "cell_type": "code",
   "execution_count": 7,
   "id": "ec8e86c8",
   "metadata": {},
   "outputs": [
    {
     "name": "stdout",
     "output_type": "stream",
     "text": [
      "10\n",
      "Not Prime\n"
     ]
    }
   ],
   "source": [
    "# check if a no is prime or not\n",
    "n = int(input())\n",
    "div = 2\n",
    "isDivided = False\n",
    "while(div < n):\n",
    "    if(n % div == 0):\n",
    "        isDivided = True\n",
    "    div = div + 1\n",
    "if(isDivided):\n",
    "    print(\"Not Prime\")\n",
    "else:\n",
    "    print(\"Prime\")"
   ]
  },
  {
   "cell_type": "code",
   "execution_count": 8,
   "id": "f23b83cb",
   "metadata": {},
   "outputs": [
    {
     "name": "stdout",
     "output_type": "stream",
     "text": [
      "10\n",
      "Not Prime\n"
     ]
    }
   ],
   "source": [
    "import math\n",
    "n = int(input())\n",
    "div = 2\n",
    "isDivided = False\n",
    "while(div < math.sqrt(n)):\n",
    "    if(n % div == 0):\n",
    "        isDivided = True\n",
    "    div = div + 1\n",
    "if(isDivided):\n",
    "    print(\"Not Prime\")\n",
    "else:\n",
    "    print(\"Prime\")"
   ]
  },
  {
   "cell_type": "code",
   "execution_count": null,
   "id": "3ed04e64",
   "metadata": {},
   "outputs": [],
   "source": []
  }
 ],
 "metadata": {
  "kernelspec": {
   "display_name": "Python 3",
   "language": "python",
   "name": "python3"
  },
  "language_info": {
   "codemirror_mode": {
    "name": "ipython",
    "version": 3
   },
   "file_extension": ".py",
   "mimetype": "text/x-python",
   "name": "python",
   "nbconvert_exporter": "python",
   "pygments_lexer": "ipython3",
   "version": "3.8.10"
  }
 },
 "nbformat": 4,
 "nbformat_minor": 5
}
