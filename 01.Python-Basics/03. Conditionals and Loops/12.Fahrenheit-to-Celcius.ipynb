{
 "cells": [
  {
   "cell_type": "code",
   "execution_count": 4,
   "id": "a01243f9",
   "metadata": {},
   "outputs": [
    {
     "name": "stdout",
     "output_type": "stream",
     "text": [
      "20\n",
      "119\n",
      "13\n",
      "20 \t -6\n",
      "33 \t 0\n",
      "46 \t 7\n",
      "59 \t 15\n",
      "72 \t 22\n",
      "85 \t 29\n",
      "98 \t 36\n",
      "111 \t 43\n"
     ]
    }
   ],
   "source": [
    "startFahVal = int(input())\n",
    "EndFahVal = int(input())\n",
    "StepSize = int(input())\n",
    "\n",
    "while(startFahVal <= EndFahVal):\n",
    "    CelciusVal = int(((startFahVal-32)*5)/9)\n",
    "    print(startFahVal, \"\\t\", CelciusVal)\n",
    "    startFahVal = startFahVal+StepSize\n",
    "    "
   ]
  },
  {
   "cell_type": "code",
   "execution_count": null,
   "id": "548245b7",
   "metadata": {},
   "outputs": [],
   "source": []
  }
 ],
 "metadata": {
  "kernelspec": {
   "display_name": "Python 3",
   "language": "python",
   "name": "python3"
  },
  "language_info": {
   "codemirror_mode": {
    "name": "ipython",
    "version": 3
   },
   "file_extension": ".py",
   "mimetype": "text/x-python",
   "name": "python",
   "nbconvert_exporter": "python",
   "pygments_lexer": "ipython3",
   "version": "3.8.10"
  }
 },
 "nbformat": 4,
 "nbformat_minor": 5
}
