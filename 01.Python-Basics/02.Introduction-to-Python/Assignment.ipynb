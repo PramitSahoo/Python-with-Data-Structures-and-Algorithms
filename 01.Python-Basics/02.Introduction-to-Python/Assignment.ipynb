{
 "cells": [
  {
   "cell_type": "markdown",
   "id": "1402bdc7",
   "metadata": {},
   "source": [
    "1. Find X raised to the power N"
   ]
  },
  {
   "cell_type": "code",
   "execution_count": 2,
   "id": "e9fdb41f",
   "metadata": {},
   "outputs": [
    {
     "name": "stdout",
     "output_type": "stream",
     "text": [
      "3\n",
      "4\n",
      "81\n"
     ]
    }
   ],
   "source": [
    "X = int(input())\n",
    "N = int(input())\n",
    "print(X**N)"
   ]
  },
  {
   "cell_type": "markdown",
   "id": "1952a879",
   "metadata": {},
   "source": [
    "2. Arithmetic Progression"
   ]
  },
  {
   "cell_type": "code",
   "execution_count": 3,
   "id": "9961b8e0",
   "metadata": {},
   "outputs": [
    {
     "name": "stdout",
     "output_type": "stream",
     "text": [
      "1\n",
      "3\n",
      "5\n",
      "2\n"
     ]
    }
   ],
   "source": [
    "a = int(input())\n",
    "b = int(input())\n",
    "c = int(input())\n",
    "\n",
    "# difference\n",
    "d = b - a\n",
    "print(d)"
   ]
  },
  {
   "cell_type": "markdown",
   "id": "3ce6f2f6",
   "metadata": {},
   "source": [
    "3. Rectangular Area"
   ]
  },
  {
   "cell_type": "code",
   "execution_count": 4,
   "id": "14e90006",
   "metadata": {},
   "outputs": [
    {
     "name": "stdout",
     "output_type": "stream",
     "text": [
      "1\n",
      "1\n",
      "3\n",
      "3\n",
      "4\n"
     ]
    }
   ],
   "source": [
    "# Write your code here\n",
    "x1 = int(input())\n",
    "y1 = int(input())\n",
    "x2 = int(input())\n",
    "y2 = int(input())\n",
    "\n",
    "area = (x2-x1)*(y2-y1)\n",
    "print(area)"
   ]
  },
  {
   "cell_type": "code",
   "execution_count": null,
   "id": "ed93e9d4",
   "metadata": {},
   "outputs": [],
   "source": []
  }
 ],
 "metadata": {
  "kernelspec": {
   "display_name": "Python 3",
   "language": "python",
   "name": "python3"
  },
  "language_info": {
   "codemirror_mode": {
    "name": "ipython",
    "version": 3
   },
   "file_extension": ".py",
   "mimetype": "text/x-python",
   "name": "python",
   "nbconvert_exporter": "python",
   "pygments_lexer": "ipython3",
   "version": "3.8.10"
  }
 },
 "nbformat": 4,
 "nbformat_minor": 5
}
