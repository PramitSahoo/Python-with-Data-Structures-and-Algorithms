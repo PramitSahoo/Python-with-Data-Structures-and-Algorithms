{
 "cells": [
  {
   "cell_type": "code",
   "execution_count": 7,
   "id": "c230e6e4",
   "metadata": {},
   "outputs": [],
   "source": [
    "def swapAlternate(li):\n",
    "    for i in range(len(li)):\n",
    "        temp = li[i]\n",
    "        li[i] = li[i+1]\n",
    "        li[i + 1] = temp\n",
    "        return li"
   ]
  },
  {
   "cell_type": "code",
   "execution_count": 11,
   "id": "ed48cce9",
   "metadata": {},
   "outputs": [
    {
     "name": "stdout",
     "output_type": "stream",
     "text": [
      "6\n",
      "9 3 6 12 4 32\n",
      "3 9 6 12 4 32 "
     ]
    }
   ],
   "source": [
    "n = int(input())\n",
    "li = [int(x) for x in input().split()]\n",
    "\n",
    "# alter_li = swapAlternate(li)\n",
    "# print(alter_li)\n",
    "swapAlternate(li)\n",
    "\n",
    "for k in range(len(li)):\n",
    "    print(li[k],end=' ')"
   ]
  },
  {
   "cell_type": "code",
   "execution_count": null,
   "id": "c4ec6196",
   "metadata": {},
   "outputs": [],
   "source": []
  }
 ],
 "metadata": {
  "kernelspec": {
   "display_name": "Python 3",
   "language": "python",
   "name": "python3"
  },
  "language_info": {
   "codemirror_mode": {
    "name": "ipython",
    "version": 3
   },
   "file_extension": ".py",
   "mimetype": "text/x-python",
   "name": "python",
   "nbconvert_exporter": "python",
   "pygments_lexer": "ipython3",
   "version": "3.8.10"
  }
 },
 "nbformat": 4,
 "nbformat_minor": 5
}
