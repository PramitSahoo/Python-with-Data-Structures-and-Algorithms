{
 "cells": [
  {
   "cell_type": "markdown",
   "id": "db5d6b0a",
   "metadata": {},
   "source": [
    "Linear Search"
   ]
  },
  {
   "cell_type": "code",
   "execution_count": 17,
   "id": "75e488c6",
   "metadata": {},
   "outputs": [],
   "source": [
    "def LinearSearch(li,target):\n",
    "    for i in range(len(li)):\n",
    "        if(li[i] == target):\n",
    "            return i\n",
    "    return -1"
   ]
  },
  {
   "cell_type": "code",
   "execution_count": 20,
   "id": "0c807453",
   "metadata": {},
   "outputs": [
    {
     "name": "stdout",
     "output_type": "stream",
     "text": [
      "7\n",
      "8 4 5 6 7 8 9\n"
     ]
    },
    {
     "data": {
      "text/plain": [
       "4"
      ]
     },
     "execution_count": 20,
     "metadata": {},
     "output_type": "execute_result"
    }
   ],
   "source": [
    "# take a list as an input and search 7\n",
    "n = int(input())\n",
    "li = [int(x) for x in input().split()]\n",
    "# target = int(input())\n",
    "\n",
    "\n",
    "LinearSearch(li,7)"
   ]
  },
  {
   "cell_type": "code",
   "execution_count": null,
   "id": "0f017728",
   "metadata": {},
   "outputs": [],
   "source": []
  }
 ],
 "metadata": {
  "kernelspec": {
   "display_name": "Python 3",
   "language": "python",
   "name": "python3"
  },
  "language_info": {
   "codemirror_mode": {
    "name": "ipython",
    "version": 3
   },
   "file_extension": ".py",
   "mimetype": "text/x-python",
   "name": "python",
   "nbconvert_exporter": "python",
   "pygments_lexer": "ipython3",
   "version": "3.8.10"
  }
 },
 "nbformat": 4,
 "nbformat_minor": 5
}
