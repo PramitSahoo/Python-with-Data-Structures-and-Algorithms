{
 "cells": [
  {
   "cell_type": "markdown",
   "id": "0dcd521d",
   "metadata": {},
   "source": [
    "Immutable"
   ]
  },
  {
   "cell_type": "code",
   "execution_count": 1,
   "id": "2f2d88b7",
   "metadata": {},
   "outputs": [],
   "source": [
    "x = 3\n",
    "a = 3"
   ]
  },
  {
   "cell_type": "code",
   "execution_count": 2,
   "id": "28b6dff0",
   "metadata": {},
   "outputs": [
    {
     "name": "stdout",
     "output_type": "stream",
     "text": [
      "140710487795664\n"
     ]
    }
   ],
   "source": [
    "print(id(x))"
   ]
  },
  {
   "cell_type": "code",
   "execution_count": 3,
   "id": "a81e4544",
   "metadata": {},
   "outputs": [
    {
     "data": {
      "text/plain": [
       "140710487795664"
      ]
     },
     "execution_count": 3,
     "metadata": {},
     "output_type": "execute_result"
    }
   ],
   "source": [
    "id(a)"
   ]
  },
  {
   "cell_type": "markdown",
   "id": "482e8fd0",
   "metadata": {},
   "source": [
    "Mutable"
   ]
  },
  {
   "cell_type": "code",
   "execution_count": 4,
   "id": "7f6e1430",
   "metadata": {},
   "outputs": [],
   "source": [
    "li = [1,2,3,4]\n",
    "li2 = li\n",
    "li[1] = 4"
   ]
  },
  {
   "cell_type": "code",
   "execution_count": 5,
   "id": "c0b69af7",
   "metadata": {},
   "outputs": [
    {
     "data": {
      "text/plain": [
       "[1, 4, 3, 4]"
      ]
     },
     "execution_count": 5,
     "metadata": {},
     "output_type": "execute_result"
    }
   ],
   "source": [
    "li"
   ]
  },
  {
   "cell_type": "code",
   "execution_count": 6,
   "id": "eb73be22",
   "metadata": {},
   "outputs": [
    {
     "name": "stdout",
     "output_type": "stream",
     "text": [
      "[1, 4, 3, 4]\n",
      "[3, 4, 4]\n"
     ]
    }
   ],
   "source": [
    "li = [1,2,3,4]\n",
    "li2 = li\n",
    "li2 = [3,4,4]\n",
    "li[1] = 4\n",
    "print(li)\n",
    "print(li2)"
   ]
  },
  {
   "cell_type": "code",
   "execution_count": null,
   "id": "04ee46d8",
   "metadata": {},
   "outputs": [],
   "source": []
  }
 ],
 "metadata": {
  "kernelspec": {
   "display_name": "Python 3",
   "language": "python",
   "name": "python3"
  },
  "language_info": {
   "codemirror_mode": {
    "name": "ipython",
    "version": 3
   },
   "file_extension": ".py",
   "mimetype": "text/x-python",
   "name": "python",
   "nbconvert_exporter": "python",
   "pygments_lexer": "ipython3",
   "version": "3.8.10"
  }
 },
 "nbformat": 4,
 "nbformat_minor": 5
}
