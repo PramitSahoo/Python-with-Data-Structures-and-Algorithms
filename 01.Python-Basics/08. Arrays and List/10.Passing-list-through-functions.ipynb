{
 "cells": [
  {
   "cell_type": "code",
   "execution_count": 4,
   "id": "afd36133",
   "metadata": {},
   "outputs": [
    {
     "name": "stdout",
     "output_type": "stream",
     "text": [
      "[3, 3, 4]\n"
     ]
    }
   ],
   "source": [
    "def increment(li):\n",
    "    #li[0] += 1\n",
    "    li = [3,3,4]\n",
    "    return li\n",
    "\n",
    "\n",
    "li = [1,2,3,4]\n",
    "li = increment(li)\n",
    "print(li)"
   ]
  },
  {
   "cell_type": "code",
   "execution_count": null,
   "id": "eea24168",
   "metadata": {},
   "outputs": [],
   "source": []
  }
 ],
 "metadata": {
  "kernelspec": {
   "display_name": "Python 3",
   "language": "python",
   "name": "python3"
  },
  "language_info": {
   "codemirror_mode": {
    "name": "ipython",
    "version": 3
   },
   "file_extension": ".py",
   "mimetype": "text/x-python",
   "name": "python",
   "nbconvert_exporter": "python",
   "pygments_lexer": "ipython3",
   "version": "3.8.10"
  }
 },
 "nbformat": 4,
 "nbformat_minor": 5
}
