{
 "cells": [
  {
   "cell_type": "code",
   "execution_count": 2,
   "id": "7aa4c797",
   "metadata": {},
   "outputs": [
    {
     "name": "stdout",
     "output_type": "stream",
     "text": [
      "5\n",
      "1 2 3 4 5\n",
      "5 4 3 2 1 "
     ]
    }
   ],
   "source": [
    "def reverseList(li):\n",
    "    length = len(li)\n",
    "    for i in range(length//2):\n",
    "        li[i],li[length -i - 1] = li[length - i -1], li[i]\n",
    "        \n",
    "        \n",
    "n = int(input())\n",
    "li = [int(x) for x in input().split()]\n",
    "reverseList(li)\n",
    "for k in range(len(li)):\n",
    "    print(li[k],end=' ')"
   ]
  },
  {
   "cell_type": "code",
   "execution_count": 3,
   "id": "05187c46",
   "metadata": {},
   "outputs": [
    {
     "name": "stdout",
     "output_type": "stream",
     "text": [
      "5\n",
      "1 2 3 4 5 \n",
      "5 4 3 2 1 "
     ]
    }
   ],
   "source": [
    "# use negative inddexing\n",
    "def reverseList(li):\n",
    "    length = len(li)\n",
    "    for i in range(length//2):\n",
    "        li[i],li[-i - 1] = li[- i -1], li[i]\n",
    "        \n",
    "        \n",
    "n = int(input())\n",
    "li = [int(x) for x in input().split()]\n",
    "reverseList(li)\n",
    "for k in range(len(li)):\n",
    "    print(li[k],end=' ')"
   ]
  },
  {
   "cell_type": "code",
   "execution_count": 4,
   "id": "47c739c7",
   "metadata": {},
   "outputs": [
    {
     "data": {
      "text/plain": [
       "[5, 4, 3, 2, 1]"
      ]
     },
     "execution_count": 4,
     "metadata": {},
     "output_type": "execute_result"
    }
   ],
   "source": [
    "li"
   ]
  },
  {
   "cell_type": "code",
   "execution_count": 5,
   "id": "deda8f1b",
   "metadata": {},
   "outputs": [
    {
     "data": {
      "text/plain": [
       "[2, 3]"
      ]
     },
     "execution_count": 5,
     "metadata": {},
     "output_type": "execute_result"
    }
   ],
   "source": [
    "li[3:1:-1]"
   ]
  },
  {
   "cell_type": "code",
   "execution_count": 6,
   "id": "9c7793e4",
   "metadata": {},
   "outputs": [
    {
     "data": {
      "text/plain": [
       "[1, 2, 3]"
      ]
     },
     "execution_count": 6,
     "metadata": {},
     "output_type": "execute_result"
    }
   ],
   "source": [
    "li[:1:-1]"
   ]
  },
  {
   "cell_type": "code",
   "execution_count": 8,
   "id": "b5b32dfa",
   "metadata": {},
   "outputs": [
    {
     "data": {
      "text/plain": [
       "[1, 2, 3, 4, 5]"
      ]
     },
     "execution_count": 8,
     "metadata": {},
     "output_type": "execute_result"
    }
   ],
   "source": [
    "# just reverse using this\n",
    "li[::-1]"
   ]
  },
  {
   "cell_type": "code",
   "execution_count": 9,
   "id": "f26499b4",
   "metadata": {},
   "outputs": [],
   "source": [
    "li = li[::-1]"
   ]
  },
  {
   "cell_type": "code",
   "execution_count": 10,
   "id": "70e82411",
   "metadata": {},
   "outputs": [
    {
     "data": {
      "text/plain": [
       "[1, 2, 3, 4, 5]"
      ]
     },
     "execution_count": 10,
     "metadata": {},
     "output_type": "execute_result"
    }
   ],
   "source": [
    "li"
   ]
  },
  {
   "cell_type": "code",
   "execution_count": 11,
   "id": "753b885a",
   "metadata": {},
   "outputs": [
    {
     "data": {
      "text/plain": [
       "[3, 6, 5, 4, 2]"
      ]
     },
     "execution_count": 11,
     "metadata": {},
     "output_type": "execute_result"
    }
   ],
   "source": [
    "# reverse list\n",
    "li = [2,4,5,6,3]\n",
    "reversed_li = li[::-1]\n",
    "reversed_li"
   ]
  },
  {
   "cell_type": "code",
   "execution_count": null,
   "id": "48bb9c0a",
   "metadata": {},
   "outputs": [],
   "source": []
  }
 ],
 "metadata": {
  "kernelspec": {
   "display_name": "Python 3",
   "language": "python",
   "name": "python3"
  },
  "language_info": {
   "codemirror_mode": {
    "name": "ipython",
    "version": 3
   },
   "file_extension": ".py",
   "mimetype": "text/x-python",
   "name": "python",
   "nbconvert_exporter": "python",
   "pygments_lexer": "ipython3",
   "version": "3.8.10"
  }
 },
 "nbformat": 4,
 "nbformat_minor": 5
}
