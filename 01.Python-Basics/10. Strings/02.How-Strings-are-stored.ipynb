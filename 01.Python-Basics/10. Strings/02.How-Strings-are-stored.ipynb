{
 "cells": [
  {
   "cell_type": "code",
   "execution_count": 1,
   "id": "a0b29187",
   "metadata": {},
   "outputs": [],
   "source": [
    "s = \"Pramit\""
   ]
  },
  {
   "cell_type": "code",
   "execution_count": 2,
   "id": "35c5b475",
   "metadata": {},
   "outputs": [
    {
     "data": {
      "text/plain": [
       "1797289728176"
      ]
     },
     "execution_count": 2,
     "metadata": {},
     "output_type": "execute_result"
    }
   ],
   "source": [
    "id(s)"
   ]
  },
  {
   "cell_type": "code",
   "execution_count": 3,
   "id": "0689a8aa",
   "metadata": {},
   "outputs": [],
   "source": [
    "a = \"Pritam\""
   ]
  },
  {
   "cell_type": "code",
   "execution_count": 4,
   "id": "c257e201",
   "metadata": {},
   "outputs": [
    {
     "data": {
      "text/plain": [
       "1797289727280"
      ]
     },
     "execution_count": 4,
     "metadata": {},
     "output_type": "execute_result"
    }
   ],
   "source": [
    "id(a)"
   ]
  },
  {
   "cell_type": "code",
   "execution_count": 5,
   "id": "a00787cf",
   "metadata": {},
   "outputs": [],
   "source": [
    "a = \"Pramit\""
   ]
  },
  {
   "cell_type": "code",
   "execution_count": 6,
   "id": "10f1e76a",
   "metadata": {},
   "outputs": [
    {
     "data": {
      "text/plain": [
       "1797289728176"
      ]
     },
     "execution_count": 6,
     "metadata": {},
     "output_type": "execute_result"
    }
   ],
   "source": [
    "id(a)"
   ]
  },
  {
   "cell_type": "markdown",
   "id": "f92d1dca",
   "metadata": {},
   "source": [
    "Strings are immutable in Python"
   ]
  },
  {
   "cell_type": "code",
   "execution_count": 7,
   "id": "80c61c3f",
   "metadata": {},
   "outputs": [
    {
     "name": "stdout",
     "output_type": "stream",
     "text": [
      "P\n"
     ]
    }
   ],
   "source": [
    "s = \"Pramit\"\n",
    "print(s[0])"
   ]
  },
  {
   "cell_type": "code",
   "execution_count": 9,
   "id": "38cfeb17",
   "metadata": {},
   "outputs": [
    {
     "ename": "TypeError",
     "evalue": "'str' object does not support item assignment",
     "output_type": "error",
     "traceback": [
      "\u001b[1;31m---------------------------------------------------------------------------\u001b[0m",
      "\u001b[1;31mTypeError\u001b[0m                                 Traceback (most recent call last)",
      "\u001b[1;32m<ipython-input-9-1aee6d1dd757>\u001b[0m in \u001b[0;36m<module>\u001b[1;34m\u001b[0m\n\u001b[1;32m----> 1\u001b[1;33m \u001b[0ms\u001b[0m\u001b[1;33m[\u001b[0m\u001b[1;36m0\u001b[0m\u001b[1;33m]\u001b[0m \u001b[1;33m=\u001b[0m \u001b[1;34m'k'\u001b[0m \u001b[1;31m# strings are immutable\u001b[0m\u001b[1;33m\u001b[0m\u001b[1;33m\u001b[0m\u001b[0m\n\u001b[0m",
      "\u001b[1;31mTypeError\u001b[0m: 'str' object does not support item assignment"
     ]
    }
   ],
   "source": [
    "s[0] = 'k' # strings are immutable"
   ]
  },
  {
   "cell_type": "code",
   "execution_count": null,
   "id": "88b83200",
   "metadata": {},
   "outputs": [],
   "source": []
  }
 ],
 "metadata": {
  "kernelspec": {
   "display_name": "Python 3",
   "language": "python",
   "name": "python3"
  },
  "language_info": {
   "codemirror_mode": {
    "name": "ipython",
    "version": 3
   },
   "file_extension": ".py",
   "mimetype": "text/x-python",
   "name": "python",
   "nbconvert_exporter": "python",
   "pygments_lexer": "ipython3",
   "version": "3.8.10"
  }
 },
 "nbformat": 4,
 "nbformat_minor": 5
}
