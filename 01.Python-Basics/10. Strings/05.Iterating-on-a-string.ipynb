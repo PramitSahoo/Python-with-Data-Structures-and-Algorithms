{
 "cells": [
  {
   "cell_type": "code",
   "execution_count": 1,
   "id": "e3830e1a",
   "metadata": {},
   "outputs": [],
   "source": [
    "str = \"Hello World\""
   ]
  },
  {
   "cell_type": "code",
   "execution_count": 3,
   "id": "8f8bf020",
   "metadata": {},
   "outputs": [
    {
     "name": "stdout",
     "output_type": "stream",
     "text": [
      "3\n"
     ]
    }
   ],
   "source": [
    "# count no of l present in the string\n",
    "count = 0\n",
    "for letter in str:\n",
    "    if(letter == 'l'):\n",
    "        count += 1\n",
    "print(count)"
   ]
  },
  {
   "cell_type": "code",
   "execution_count": 7,
   "id": "bd97021c",
   "metadata": {},
   "outputs": [
    {
     "name": "stdout",
     "output_type": "stream",
     "text": [
      "2\n"
     ]
    }
   ],
   "source": [
    "str = \"Hello World\"\n",
    "count = 0\n",
    "for letter in range(len(str)):\n",
    "    if(str[letter] == 'o'):\n",
    "        count += 1\n",
    "print(count)"
   ]
  },
  {
   "cell_type": "markdown",
   "id": "dcd12cac",
   "metadata": {},
   "source": [
    "in and not in operation"
   ]
  },
  {
   "cell_type": "code",
   "execution_count": 8,
   "id": "0f30156f",
   "metadata": {},
   "outputs": [],
   "source": [
    "str = \"Hello\"\n"
   ]
  },
  {
   "cell_type": "code",
   "execution_count": 12,
   "id": "e3c1aef6",
   "metadata": {},
   "outputs": [
    {
     "name": "stdout",
     "output_type": "stream",
     "text": [
      "Not a substring\n"
     ]
    }
   ],
   "source": [
    "if 'Heo' in str:\n",
    "    print(\"It is a substring\")\n",
    "else:\n",
    "    print(\"Not a substring\")"
   ]
  },
  {
   "cell_type": "code",
   "execution_count": null,
   "id": "e7cd935a",
   "metadata": {},
   "outputs": [],
   "source": []
  }
 ],
 "metadata": {
  "kernelspec": {
   "display_name": "Python 3",
   "language": "python",
   "name": "python3"
  },
  "language_info": {
   "codemirror_mode": {
    "name": "ipython",
    "version": 3
   },
   "file_extension": ".py",
   "mimetype": "text/x-python",
   "name": "python",
   "nbconvert_exporter": "python",
   "pygments_lexer": "ipython3",
   "version": "3.8.10"
  }
 },
 "nbformat": 4,
 "nbformat_minor": 5
}
