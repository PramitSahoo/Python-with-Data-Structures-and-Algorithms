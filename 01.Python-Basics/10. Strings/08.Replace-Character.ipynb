{
 "cells": [
  {
   "cell_type": "code",
   "execution_count": 1,
   "id": "7fa180e4",
   "metadata": {},
   "outputs": [],
   "source": [
    "# we have to replace every 'a' with 'c'"
   ]
  },
  {
   "cell_type": "code",
   "execution_count": 2,
   "id": "83b9faf3",
   "metadata": {},
   "outputs": [],
   "source": [
    "def replaceChar(str,char1,char2):\n",
    "    newstr = \"\"\n",
    "    for i in range(len(str)):\n",
    "        if(str[i] == char1):\n",
    "            newstr += char2\n",
    "        else:\n",
    "            newstr += char1\n",
    "    return newstr"
   ]
  },
  {
   "cell_type": "code",
   "execution_count": 5,
   "id": "51e8e268",
   "metadata": {},
   "outputs": [
    {
     "name": "stdout",
     "output_type": "stream",
     "text": [
      "cacacaacac\n"
     ]
    }
   ],
   "source": [
    "str = 'abacabdama'\n",
    "rep_str = replaceChar(str,'a','c')\n",
    "print(rep_str)"
   ]
  },
  {
   "cell_type": "code",
   "execution_count": null,
   "id": "ebbada57",
   "metadata": {},
   "outputs": [],
   "source": []
  }
 ],
 "metadata": {
  "kernelspec": {
   "display_name": "Python 3",
   "language": "python",
   "name": "python3"
  },
  "language_info": {
   "codemirror_mode": {
    "name": "ipython",
    "version": 3
   },
   "file_extension": ".py",
   "mimetype": "text/x-python",
   "name": "python",
   "nbconvert_exporter": "python",
   "pygments_lexer": "ipython3",
   "version": "3.8.10"
  }
 },
 "nbformat": 4,
 "nbformat_minor": 5
}
