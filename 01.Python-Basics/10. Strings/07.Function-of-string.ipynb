{
 "cells": [
  {
   "cell_type": "markdown",
   "id": "8a1e9a5a",
   "metadata": {},
   "source": [
    "split"
   ]
  },
  {
   "cell_type": "code",
   "execution_count": 2,
   "id": "2f4629c1",
   "metadata": {},
   "outputs": [
    {
     "name": "stdout",
     "output_type": "stream",
     "text": [
      "['My', 'name', 'is pramit']\n"
     ]
    }
   ],
   "source": [
    "str = \"My name is pramit\"\n",
    "li = str.split(' ',2)\n",
    "print(li)"
   ]
  },
  {
   "cell_type": "markdown",
   "id": "63813694",
   "metadata": {},
   "source": [
    "replace"
   ]
  },
  {
   "cell_type": "code",
   "execution_count": 3,
   "id": "9f0b9d90",
   "metadata": {},
   "outputs": [
    {
     "name": "stdout",
     "output_type": "stream",
     "text": [
      "MY name is Rajesh\n"
     ]
    }
   ],
   "source": [
    "str = \"MY name is pramit\"\n",
    "str = str.replace(\"pramit\",\"Rajesh\")\n",
    "print(str)"
   ]
  },
  {
   "cell_type": "code",
   "execution_count": 4,
   "id": "35498806",
   "metadata": {},
   "outputs": [
    {
     "name": "stdout",
     "output_type": "stream",
     "text": [
      "MY name is Rajesh Rajesh pramit pramit pramit\n"
     ]
    }
   ],
   "source": [
    "str = \"MY name is pramit pramit pramit pramit pramit\"\n",
    "str = str.replace(\"pramit\",\"Rajesh\",2)\n",
    "print(str)"
   ]
  },
  {
   "cell_type": "markdown",
   "id": "b3270a5a",
   "metadata": {},
   "source": [
    "find"
   ]
  },
  {
   "cell_type": "code",
   "execution_count": 7,
   "id": "2f8581cc",
   "metadata": {},
   "outputs": [
    {
     "name": "stdout",
     "output_type": "stream",
     "text": [
      "3\n"
     ]
    }
   ],
   "source": [
    "# finds a substring in the string\n",
    "# it returns index\n",
    "\n",
    "str = \"MY name is pramit\"\n",
    "index = str.find(\"na\")\n",
    "print(index)"
   ]
  },
  {
   "cell_type": "code",
   "execution_count": 11,
   "id": "21dccc93",
   "metadata": {},
   "outputs": [
    {
     "name": "stdout",
     "output_type": "stream",
     "text": [
      "-1\n"
     ]
    }
   ],
   "source": [
    "str = \"MY name is pramit pramit pramit\"\n",
    "index = str.find(\"pra\",16,20)\n",
    "print(index)"
   ]
  },
  {
   "cell_type": "markdown",
   "id": "98be8599",
   "metadata": {},
   "source": [
    "lower and upper()"
   ]
  },
  {
   "cell_type": "code",
   "execution_count": 14,
   "id": "8bbe1f12",
   "metadata": {},
   "outputs": [
    {
     "name": "stdout",
     "output_type": "stream",
     "text": [
      "MY NAME IS PRAMIT\n"
     ]
    }
   ],
   "source": [
    "str = \"my Name is Pramit\"\n",
    "str = str.lower()\n",
    "str = str.upper()\n",
    "print(str)"
   ]
  },
  {
   "cell_type": "markdown",
   "id": "c332d874",
   "metadata": {},
   "source": [
    "startswith"
   ]
  },
  {
   "cell_type": "code",
   "execution_count": 19,
   "id": "981bae3a",
   "metadata": {},
   "outputs": [
    {
     "name": "stdout",
     "output_type": "stream",
     "text": [
      "False\n"
     ]
    }
   ],
   "source": [
    "str = \"My name is Pramit\"\n",
    "ans = str.startswith(\"My name\",11,25) # here we are finding between starting index of 11 and end index of 25\n",
    "print(ans) "
   ]
  },
  {
   "cell_type": "code",
   "execution_count": null,
   "id": "d69163f4",
   "metadata": {},
   "outputs": [],
   "source": []
  }
 ],
 "metadata": {
  "kernelspec": {
   "display_name": "Python 3",
   "language": "python",
   "name": "python3"
  },
  "language_info": {
   "codemirror_mode": {
    "name": "ipython",
    "version": 3
   },
   "file_extension": ".py",
   "mimetype": "text/x-python",
   "name": "python",
   "nbconvert_exporter": "python",
   "pygments_lexer": "ipython3",
   "version": "3.8.10"
  }
 },
 "nbformat": 4,
 "nbformat_minor": 5
}
