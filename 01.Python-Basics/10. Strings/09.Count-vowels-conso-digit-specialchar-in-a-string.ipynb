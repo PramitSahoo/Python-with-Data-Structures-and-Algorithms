{
 "cells": [
  {
   "cell_type": "markdown",
   "id": "f0c57b86",
   "metadata": {},
   "source": [
    "Count no of vowels, consonents, digit, special char in a string"
   ]
  },
  {
   "cell_type": "code",
   "execution_count": 4,
   "id": "406176ee",
   "metadata": {},
   "outputs": [],
   "source": [
    "def countVCDS(str):\n",
    "    vowel,conso,digit,specialChar = 0,0,0,0\n",
    "    for char in str:\n",
    "        if((char >= 'a' and char <='z')or (char>='A' and char <='Z')):\n",
    "            char = char.lower()\n",
    "            if(char == 'a' or char == 'e' or char == 'i' or char == 'o' or char == 'u'):\n",
    "                vowel += 1\n",
    "            else:\n",
    "                conso += 1\n",
    "        elif(char >= '0' and char <= '9'):\n",
    "            digit += 1\n",
    "        else:\n",
    "            specialChar += 1\n",
    "    return vowel,conso,digit,specialChar"
   ]
  },
  {
   "cell_type": "code",
   "execution_count": 6,
   "id": "6c6a9cac",
   "metadata": {},
   "outputs": [
    {
     "name": "stdout",
     "output_type": "stream",
     "text": [
      "(8, 16, 11, 1)\n"
     ]
    }
   ],
   "source": [
    "str = \"sfssApL4758748DfhGihr upoueoyDhu5854\"\n",
    "vcds = countVCDS(str)\n",
    "print(vcds)"
   ]
  },
  {
   "cell_type": "code",
   "execution_count": null,
   "id": "cf68628e",
   "metadata": {},
   "outputs": [],
   "source": []
  }
 ],
 "metadata": {
  "kernelspec": {
   "display_name": "Python 3",
   "language": "python",
   "name": "python3"
  },
  "language_info": {
   "codemirror_mode": {
    "name": "ipython",
    "version": 3
   },
   "file_extension": ".py",
   "mimetype": "text/x-python",
   "name": "python",
   "nbconvert_exporter": "python",
   "pygments_lexer": "ipython3",
   "version": "3.8.10"
  }
 },
 "nbformat": 4,
 "nbformat_minor": 5
}
