{
 "cells": [
  {
   "cell_type": "code",
   "execution_count": 3,
   "id": "55568f2f",
   "metadata": {},
   "outputs": [],
   "source": [
    "def InsertionSort(arr):\n",
    "    length = len(arr)\n",
    "    for i in range(1,len(arr)):\n",
    "        j = i -1\n",
    "        temp = arr[i]\n",
    "        # shifting elements till the condition holds\n",
    "        while(j >= 0 and arr[j] > temp):\n",
    "            arr[j + 1] = arr[j]\n",
    "            j -= 1\n",
    "        arr[j + 1] = temp"
   ]
  },
  {
   "cell_type": "code",
   "execution_count": 5,
   "id": "9752b121",
   "metadata": {},
   "outputs": [
    {
     "name": "stdout",
     "output_type": "stream",
     "text": [
      "6\n",
      "9 8 5 6 7 1\n",
      "1 5 6 7 8 9 "
     ]
    }
   ],
   "source": [
    "n = int(input())\n",
    "li = [int(x) for x in input().split()]\n",
    "InsertionSort(li)\n",
    "for k in range(len(li)):\n",
    "    print(li[k],end=\" \")"
   ]
  },
  {
   "cell_type": "code",
   "execution_count": null,
   "id": "c6f7e534",
   "metadata": {},
   "outputs": [],
   "source": []
  }
 ],
 "metadata": {
  "kernelspec": {
   "display_name": "Python 3",
   "language": "python",
   "name": "python3"
  },
  "language_info": {
   "codemirror_mode": {
    "name": "ipython",
    "version": 3
   },
   "file_extension": ".py",
   "mimetype": "text/x-python",
   "name": "python",
   "nbconvert_exporter": "python",
   "pygments_lexer": "ipython3",
   "version": "3.8.10"
  }
 },
 "nbformat": 4,
 "nbformat_minor": 5
}
