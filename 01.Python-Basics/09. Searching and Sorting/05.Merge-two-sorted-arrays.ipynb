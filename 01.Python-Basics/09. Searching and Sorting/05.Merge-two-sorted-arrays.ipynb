{
 "cells": [
  {
   "cell_type": "code",
   "execution_count": 1,
   "id": "02c17275",
   "metadata": {},
   "outputs": [],
   "source": [
    "\n",
    "def mergeSortedArr(arr1,arr2):\n",
    "    i = 0\n",
    "    j = 0\n",
    "    len1 = len(arr1)\n",
    "    len2 = len(arr2)\n",
    "    arr = []\n",
    "    while(i < len1 and j < len2):\n",
    "        if(arr1[i] < arr2[j]):\n",
    "            arr.append(arr1[i])\n",
    "            i += 1\n",
    "        else:\n",
    "            arr.append(arr2[j])\n",
    "            j += 1\n",
    "    while(i <len1):\n",
    "        arr.append(arr1[i])\n",
    "        i += 1\n",
    "    while(j < len2):\n",
    "        arr.append(arr2[j])\n",
    "        j += 1\n",
    "    return arr"
   ]
  },
  {
   "cell_type": "code",
   "execution_count": 5,
   "id": "60b08f5a",
   "metadata": {},
   "outputs": [
    {
     "name": "stdout",
     "output_type": "stream",
     "text": [
      "4\n",
      "1 4 9 10\n",
      "6\n",
      "2 3 6 7 8 11\n",
      "1 2 3 4 6 7 8 9 10 11 "
     ]
    }
   ],
   "source": [
    "n1 = int(input())\n",
    "arr1 = [int(x) for x in input().split()]\n",
    "n2 = int(input())\n",
    "arr2 = [int(x) for x in input().split()]\n",
    "\n",
    "arr = mergeSortedArr(arr1,arr2)\n",
    "for k in range(len(arr)):\n",
    "    print(arr[k],end=\" \")"
   ]
  },
  {
   "cell_type": "code",
   "execution_count": null,
   "id": "11ddb171",
   "metadata": {},
   "outputs": [],
   "source": []
  }
 ],
 "metadata": {
  "kernelspec": {
   "display_name": "Python 3",
   "language": "python",
   "name": "python3"
  },
  "language_info": {
   "codemirror_mode": {
    "name": "ipython",
    "version": 3
   },
   "file_extension": ".py",
   "mimetype": "text/x-python",
   "name": "python",
   "nbconvert_exporter": "python",
   "pygments_lexer": "ipython3",
   "version": "3.8.10"
  }
 },
 "nbformat": 4,
 "nbformat_minor": 5
}
