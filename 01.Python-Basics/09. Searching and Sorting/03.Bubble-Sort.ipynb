{
 "cells": [
  {
   "cell_type": "code",
   "execution_count": 10,
   "id": "e5cf4679",
   "metadata": {},
   "outputs": [],
   "source": [
    "def BubbleSort(li):\n",
    "    length = len(li)\n",
    "    # i is for n-1 rounds\n",
    "    # j is for in each iteration you need to go till len - 1 - i \n",
    "    for i in range(length - 1):\n",
    "        for j in range(length- 1 -i):\n",
    "            if(li[j]>li[j+1]):\n",
    "                #swap\n",
    "                li[j],li[j+1] = li[j+1],li[j]\n",
    "                "
   ]
  },
  {
   "cell_type": "code",
   "execution_count": 12,
   "id": "33a9366a",
   "metadata": {},
   "outputs": [
    {
     "name": "stdout",
     "output_type": "stream",
     "text": [
      "7\n",
      "6 4 5 2 1 7 3\n",
      "1 2 3 4 5 6 7 "
     ]
    }
   ],
   "source": [
    "n = int(input())\n",
    "li = [int(x) for x in input().split()]\n",
    "BubbleSort(li)\n",
    "for k in range(len(li)):\n",
    "    print(li[k],end=' ')"
   ]
  },
  {
   "cell_type": "code",
   "execution_count": null,
   "id": "2345d8b4",
   "metadata": {},
   "outputs": [],
   "source": []
  }
 ],
 "metadata": {
  "kernelspec": {
   "display_name": "Python 3",
   "language": "python",
   "name": "python3"
  },
  "language_info": {
   "codemirror_mode": {
    "name": "ipython",
    "version": 3
   },
   "file_extension": ".py",
   "mimetype": "text/x-python",
   "name": "python",
   "nbconvert_exporter": "python",
   "pygments_lexer": "ipython3",
   "version": "3.8.10"
  }
 },
 "nbformat": 4,
 "nbformat_minor": 5
}
