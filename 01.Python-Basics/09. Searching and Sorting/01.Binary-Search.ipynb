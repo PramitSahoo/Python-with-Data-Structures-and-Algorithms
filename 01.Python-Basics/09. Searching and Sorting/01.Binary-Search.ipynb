{
 "cells": [
  {
   "cell_type": "code",
   "execution_count": 3,
   "id": "1fbcdb42",
   "metadata": {},
   "outputs": [],
   "source": [
    "def binarySearch(arr,target):\n",
    "    length = len(arr)\n",
    "    start = 0\n",
    "    end = length - 1\n",
    "    while(start <= end):\n",
    "        mid = (start + end )//2\n",
    "        if(arr[mid] == target):\n",
    "            return mid\n",
    "        elif(target > arr[mid]):\n",
    "            start = mid + 1\n",
    "        else:\n",
    "            end = mid - 1\n",
    "    return - 1"
   ]
  },
  {
   "cell_type": "code",
   "execution_count": 5,
   "id": "fe52d5a8",
   "metadata": {
    "scrolled": true
   },
   "outputs": [
    {
     "name": "stdout",
     "output_type": "stream",
     "text": [
      "7\n",
      "1 3 7 9 11 12 45\n",
      "3\n",
      "1\n"
     ]
    }
   ],
   "source": [
    "n = int(input())\n",
    "arr = [int(x) for x in input().split()]\n",
    "target = int(input())\n",
    "print(binarySearch(arr,target))"
   ]
  },
  {
   "cell_type": "code",
   "execution_count": null,
   "id": "807eff8c",
   "metadata": {},
   "outputs": [],
   "source": []
  }
 ],
 "metadata": {
  "kernelspec": {
   "display_name": "Python 3",
   "language": "python",
   "name": "python3"
  },
  "language_info": {
   "codemirror_mode": {
    "name": "ipython",
    "version": 3
   },
   "file_extension": ".py",
   "mimetype": "text/x-python",
   "name": "python",
   "nbconvert_exporter": "python",
   "pygments_lexer": "ipython3",
   "version": "3.8.10"
  }
 },
 "nbformat": 4,
 "nbformat_minor": 5
}
