{
 "cells": [
  {
   "cell_type": "code",
   "execution_count": 11,
   "id": "196d514c",
   "metadata": {},
   "outputs": [
    {
     "name": "stdout",
     "output_type": "stream",
     "text": [
      "5\n",
      "    1\n",
      "   232\n",
      "  34543\n",
      " 4567654\n",
      "567898765\n"
     ]
    }
   ],
   "source": [
    "n = int(input())\n",
    "\n",
    "for i in range(1,n+1,1):\n",
    "    for spaces in range(n-i):\n",
    "        print(\" \",end='')\n",
    "    for j in range(i,2*i,1):\n",
    "            print(j,end='')\n",
    "    #dec part.. we have to start form 2*i -2 and go till i\n",
    "    for d in range(2*i-2,i-1,-1):\n",
    "        print(d,end='')\n",
    "    print()\n",
    "    "
   ]
  },
  {
   "cell_type": "code",
   "execution_count": null,
   "id": "83ca26b3",
   "metadata": {},
   "outputs": [],
   "source": []
  }
 ],
 "metadata": {
  "kernelspec": {
   "display_name": "Python 3",
   "language": "python",
   "name": "python3"
  },
  "language_info": {
   "codemirror_mode": {
    "name": "ipython",
    "version": 3
   },
   "file_extension": ".py",
   "mimetype": "text/x-python",
   "name": "python",
   "nbconvert_exporter": "python",
   "pygments_lexer": "ipython3",
   "version": "3.8.10"
  }
 },
 "nbformat": 4,
 "nbformat_minor": 5
}
