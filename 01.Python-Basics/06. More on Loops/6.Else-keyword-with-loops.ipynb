{
 "cells": [
  {
   "cell_type": "code",
   "execution_count": 1,
   "id": "4c658d48",
   "metadata": {},
   "outputs": [
    {
     "name": "stdout",
     "output_type": "stream",
     "text": [
      "1\n",
      "2\n",
      "3\n",
      "4\n",
      "5\n",
      "6\n",
      "7\n",
      "8\n",
      "9\n",
      "this will be printed once at the end\n"
     ]
    }
   ],
   "source": [
    "i = 1\n",
    "while(i < 10):\n",
    "    print(i)\n",
    "    i += 1\n",
    "else:\n",
    "    print(\"this will be printed once at the end\")"
   ]
  },
  {
   "cell_type": "code",
   "execution_count": 3,
   "id": "ad611db2",
   "metadata": {},
   "outputs": [
    {
     "name": "stdout",
     "output_type": "stream",
     "text": [
      "1\n",
      "2\n",
      "3\n",
      "4\n",
      "5\n",
      "6\n",
      "7\n",
      "8\n",
      "9\n",
      "This will also be printed\n"
     ]
    }
   ],
   "source": [
    "for i  in range(1,10):\n",
    "    print(i)\n",
    "else:\n",
    "    print(\"This will also be printed\")"
   ]
  },
  {
   "cell_type": "code",
   "execution_count": 4,
   "id": "5aab1af7",
   "metadata": {},
   "outputs": [
    {
     "name": "stdout",
     "output_type": "stream",
     "text": [
      "1\n",
      "2\n",
      "3\n",
      "4\n"
     ]
    }
   ],
   "source": [
    "# else will not be executed if your loop is terminated by a break statement\n",
    "for i in range(1,10):\n",
    "    if(i == 5):\n",
    "        break\n",
    "    print(i)\n",
    "else:\n",
    "    print(\"This will not be printed as the loop is terminated by a break condition\")"
   ]
  },
  {
   "cell_type": "code",
   "execution_count": 5,
   "id": "53815b72",
   "metadata": {},
   "outputs": [
    {
     "name": "stdout",
     "output_type": "stream",
     "text": [
      "5\n",
      "Prime\n"
     ]
    }
   ],
   "source": [
    "# primality\n",
    "n = int(input())\n",
    "for d in range(2,n,1):\n",
    "    if(n % d == 0):\n",
    "        break\n",
    "else:\n",
    "    print(\"Prime\")"
   ]
  },
  {
   "cell_type": "code",
   "execution_count": null,
   "id": "d37aa194",
   "metadata": {},
   "outputs": [],
   "source": []
  }
 ],
 "metadata": {
  "kernelspec": {
   "display_name": "Python 3",
   "language": "python",
   "name": "python3"
  },
  "language_info": {
   "codemirror_mode": {
    "name": "ipython",
    "version": 3
   },
   "file_extension": ".py",
   "mimetype": "text/x-python",
   "name": "python",
   "nbconvert_exporter": "python",
   "pygments_lexer": "ipython3",
   "version": "3.8.10"
  }
 },
 "nbformat": 4,
 "nbformat_minor": 5
}
