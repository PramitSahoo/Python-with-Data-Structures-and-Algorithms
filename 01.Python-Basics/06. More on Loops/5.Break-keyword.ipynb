{
 "cells": [
  {
   "cell_type": "code",
   "execution_count": 1,
   "id": "fcadd8b2",
   "metadata": {},
   "outputs": [
    {
     "name": "stdout",
     "output_type": "stream",
     "text": [
      "1\n",
      "2\n",
      "3\n",
      "4\n"
     ]
    }
   ],
   "source": [
    "i = 1\n",
    "while(i < 10):\n",
    "    if(i == 5):\n",
    "        break   # as soon as i will be 5 it will come out of the loop\n",
    "    print(i)\n",
    "    i += 1"
   ]
  },
  {
   "cell_type": "code",
   "execution_count": 8,
   "id": "791682a4",
   "metadata": {},
   "outputs": [
    {
     "name": "stdout",
     "output_type": "stream",
     "text": [
      "4544211388\n",
      "Not Prime\n"
     ]
    }
   ],
   "source": [
    "# primality checking\n",
    "n = int(input())\n",
    "d = 2\n",
    "isDivided = False\n",
    "while(d < n):\n",
    "    if(n % d == 0):\n",
    "        isDivided = True\n",
    "        break\n",
    "    d += 1\n",
    "\n",
    "if(isDivided):\n",
    "    print(\"Not Prime\")\n",
    "else:\n",
    "    print(\"Prime\")"
   ]
  },
  {
   "cell_type": "code",
   "execution_count": 11,
   "id": "37f31c53",
   "metadata": {},
   "outputs": [
    {
     "name": "stdout",
     "output_type": "stream",
     "text": [
      "10\n",
      "2\n",
      "3\n",
      "5\n",
      "7\n"
     ]
    }
   ],
   "source": [
    "# prime no from 2 to n\n",
    "n = int(input())\n",
    "k = 2\n",
    "while(k <= n):\n",
    "    d = 2\n",
    "    isDivided = False\n",
    "    while(d < k):\n",
    "        if(k % d == 0):\n",
    "            isDivided = True\n",
    "            break;\n",
    "        d += 1\n",
    "    if(not (isDivided)):\n",
    "        print(k)\n",
    "    k += 1"
   ]
  },
  {
   "cell_type": "code",
   "execution_count": null,
   "id": "fc5a7f05",
   "metadata": {},
   "outputs": [],
   "source": []
  }
 ],
 "metadata": {
  "kernelspec": {
   "display_name": "Python 3",
   "language": "python",
   "name": "python3"
  },
  "language_info": {
   "codemirror_mode": {
    "name": "ipython",
    "version": 3
   },
   "file_extension": ".py",
   "mimetype": "text/x-python",
   "name": "python",
   "nbconvert_exporter": "python",
   "pygments_lexer": "ipython3",
   "version": "3.8.10"
  }
 },
 "nbformat": 4,
 "nbformat_minor": 5
}
