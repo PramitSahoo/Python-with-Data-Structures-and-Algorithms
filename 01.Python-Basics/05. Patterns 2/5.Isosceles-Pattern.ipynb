{
 "cells": [
  {
   "cell_type": "code",
   "execution_count": 4,
   "id": "2ca204b6",
   "metadata": {},
   "outputs": [
    {
     "name": "stdout",
     "output_type": "stream",
     "text": [
      "4\n",
      "    1\n",
      "   121\n",
      "  12321\n",
      " 1234321\n"
     ]
    }
   ],
   "source": [
    "n = int(input())\n",
    "i = 1\n",
    "while(i <= n ):\n",
    "    spaces = 1\n",
    "    while(spaces <= n - i + 1):\n",
    "        print(\" \", end='')\n",
    "        spaces += 1\n",
    "    colsNo = 1\n",
    "    while(colsNo <= i):\n",
    "        print(colsNo,end='')\n",
    "        colsNo += 1\n",
    "    p = i - 1\n",
    "    while(p >= 1):\n",
    "        print(p,end='')\n",
    "        p -= 1\n",
    "    print()\n",
    "    i += 1"
   ]
  },
  {
   "cell_type": "code",
   "execution_count": null,
   "id": "c1f13538",
   "metadata": {},
   "outputs": [],
   "source": []
  }
 ],
 "metadata": {
  "kernelspec": {
   "display_name": "Python 3",
   "language": "python",
   "name": "python3"
  },
  "language_info": {
   "codemirror_mode": {
    "name": "ipython",
    "version": 3
   },
   "file_extension": ".py",
   "mimetype": "text/x-python",
   "name": "python",
   "nbconvert_exporter": "python",
   "pygments_lexer": "ipython3",
   "version": "3.8.10"
  }
 },
 "nbformat": 4,
 "nbformat_minor": 5
}
