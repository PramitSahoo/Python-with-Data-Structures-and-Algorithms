{
 "cells": [
  {
   "cell_type": "code",
   "execution_count": 34,
   "id": "da0dc3ce",
   "metadata": {},
   "outputs": [
    {
     "name": "stdout",
     "output_type": "stream",
     "text": [
      "4\n",
      "    1\n",
      "   23\n",
      "  345\n",
      " 4567\n"
     ]
    }
   ],
   "source": [
    "n = int(input())\n",
    "i = 1\n",
    "while(i <= n):\n",
    "    spaces = 1\n",
    "    j = 1\n",
    "    p = i\n",
    "    while(spaces <= n-i+1):\n",
    "        print(\" \",end='')\n",
    "        spaces += 1\n",
    "    while(j <= i):\n",
    "        print(p,end='')\n",
    "        p += 1\n",
    "        j += 1\n",
    "    \n",
    "    print()\n",
    "    i += 1"
   ]
  },
  {
   "cell_type": "code",
   "execution_count": null,
   "id": "4653558d",
   "metadata": {},
   "outputs": [],
   "source": []
  }
 ],
 "metadata": {
  "kernelspec": {
   "display_name": "Python 3",
   "language": "python",
   "name": "python3"
  },
  "language_info": {
   "codemirror_mode": {
    "name": "ipython",
    "version": 3
   },
   "file_extension": ".py",
   "mimetype": "text/x-python",
   "name": "python",
   "nbconvert_exporter": "python",
   "pygments_lexer": "ipython3",
   "version": "3.8.10"
  }
 },
 "nbformat": 4,
 "nbformat_minor": 5
}
