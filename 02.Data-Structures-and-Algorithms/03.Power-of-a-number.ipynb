{
 "cells": [
  {
   "cell_type": "code",
   "execution_count": 6,
   "id": "e773e39f",
   "metadata": {
    "scrolled": true
   },
   "outputs": [
    {
     "name": "stdout",
     "output_type": "stream",
     "text": [
      "3 4\n"
     ]
    },
    {
     "data": {
      "text/plain": [
       "81"
      ]
     },
     "execution_count": 6,
     "metadata": {},
     "output_type": "execute_result"
    }
   ],
   "source": [
    "x, n = [int(i) for i in input().split()]\n",
    "\n",
    "def power(x,n):\n",
    "    if (n == 0):\n",
    "        return 1\n",
    "    smalloutput = power(x,n-1)\n",
    "    return x*smalloutput\n",
    "\n",
    "power(x,n)"
   ]
  },
  {
   "cell_type": "code",
   "execution_count": null,
   "id": "c4bd4a3a",
   "metadata": {},
   "outputs": [
    {
     "name": "stdout",
     "output_type": "stream",
     "text": [
      "3 4\n"
     ]
    }
   ],
   "source": [
    "x,n = [int(i) for i in input().split()]\n",
    "def power2(x,n):\n",
    "    if(x == 0 and n == 0):\n",
    "        return 1\n",
    "    if (x == 0):\n",
    "        return 0\n",
    "    if(n == 0):\n",
    "        return 1\n",
    "    smalloutput = power2(x,n/2)\n",
    "    if(n % 2 == 0):\n",
    "        return smalloutput * smalloutput\n",
    "    else:\n",
    "        return x*smalloutput*smalloutput\n",
    "    \n",
    "\n",
    "\n",
    "    \n",
    "power2(x,n)"
   ]
  },
  {
   "cell_type": "code",
   "execution_count": null,
   "id": "4a84fea3",
   "metadata": {},
   "outputs": [],
   "source": []
  }
 ],
 "metadata": {
  "kernelspec": {
   "display_name": "Python 3",
   "language": "python",
   "name": "python3"
  },
  "language_info": {
   "codemirror_mode": {
    "name": "ipython",
    "version": 3
   },
   "file_extension": ".py",
   "mimetype": "text/x-python",
   "name": "python",
   "nbconvert_exporter": "python",
   "pygments_lexer": "ipython3",
   "version": "3.8.10"
  }
 },
 "nbformat": 4,
 "nbformat_minor": 5
}
