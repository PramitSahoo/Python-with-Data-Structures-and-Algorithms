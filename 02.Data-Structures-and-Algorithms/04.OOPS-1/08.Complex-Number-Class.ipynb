{
 "cells": [
  {
   "cell_type": "code",
   "execution_count": 24,
   "id": "462d95da",
   "metadata": {},
   "outputs": [],
   "source": [
    "class ComplexNO:\n",
    "    def __init__(self,real,imaginary):\n",
    "        self.real = real\n",
    "        self.imaginary = imaginary\n",
    "    def Print(self):\n",
    "        if self.imaginary < 0:\n",
    "            print(self.real,'+ i',end='')\n",
    "            print(self.imaginary* - 1)\n",
    "        else:\n",
    "            print(self.real,'+ i',end='')\n",
    "            print(self.imaginary)\n",
    "    def plus(self,otherNumber):\n",
    "        newReal = self.real + otherNumber.real\n",
    "        newImag = self.imaginary + otherNumber.imaginary\n",
    "        \n",
    "        self.real = newReal\n",
    "        self.imaginary = newImag\n",
    "    def multiply(self,otherNumber):\n",
    "        newReal = self.real*otherNumber.real - self.imaginary*otherNumber.imaginary\n",
    "        newImag = self.imaginary*otherNumber.real + self.real*otherNumber.imaginary\n",
    "        self.real = newReal\n",
    "        self.imaginary = newImag\n",
    "    def conjunction(self):\n",
    "        self.real = self.real\n",
    "        self.imaginary = self.imaginary * - 1"
   ]
  },
  {
   "cell_type": "code",
   "execution_count": 25,
   "id": "1e5f9e33",
   "metadata": {},
   "outputs": [],
   "source": [
    "c1 = ComplexNO(4,5)\n",
    "c2 = ComplexNO(1,2)"
   ]
  },
  {
   "cell_type": "code",
   "execution_count": 26,
   "id": "79e26a70",
   "metadata": {},
   "outputs": [
    {
     "name": "stdout",
     "output_type": "stream",
     "text": [
      "5 + i7\n"
     ]
    }
   ],
   "source": [
    "c1.plus(c2)\n",
    "c1.Print()"
   ]
  },
  {
   "cell_type": "code",
   "execution_count": 27,
   "id": "df16067a",
   "metadata": {},
   "outputs": [
    {
     "name": "stdout",
     "output_type": "stream",
     "text": [
      "-6 + i13\n"
     ]
    }
   ],
   "source": [
    "c1 = ComplexNO(4,5)\n",
    "c2 = ComplexNO(1,2)\n",
    "c1.multiply(c2)\n",
    "c1.Print()"
   ]
  },
  {
   "cell_type": "code",
   "execution_count": 28,
   "id": "8a76b59a",
   "metadata": {},
   "outputs": [
    {
     "name": "stdout",
     "output_type": "stream",
     "text": [
      "2 + i3\n"
     ]
    }
   ],
   "source": [
    "c3 = ComplexNO(2,3)\n",
    "c3.conjunction()\n",
    "c3.Print()"
   ]
  },
  {
   "cell_type": "code",
   "execution_count": null,
   "id": "a37b87d7",
   "metadata": {},
   "outputs": [],
   "source": []
  }
 ],
 "metadata": {
  "kernelspec": {
   "display_name": "Python 3",
   "language": "python",
   "name": "python3"
  },
  "language_info": {
   "codemirror_mode": {
    "name": "ipython",
    "version": 3
   },
   "file_extension": ".py",
   "mimetype": "text/x-python",
   "name": "python",
   "nbconvert_exporter": "python",
   "pygments_lexer": "ipython3",
   "version": "3.8.10"
  }
 },
 "nbformat": 4,
 "nbformat_minor": 5
}
