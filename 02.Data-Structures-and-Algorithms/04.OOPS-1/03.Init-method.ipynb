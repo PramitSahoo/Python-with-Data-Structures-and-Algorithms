{
 "cells": [
  {
   "cell_type": "code",
   "execution_count": 13,
   "id": "ff57e657",
   "metadata": {},
   "outputs": [],
   "source": [
    "class Student:\n",
    "    def __init__(self,name,rollNo):\n",
    "        self.name = name\n",
    "        self.rollNo = rollNo"
   ]
  },
  {
   "cell_type": "code",
   "execution_count": 23,
   "id": "e60a3988",
   "metadata": {},
   "outputs": [],
   "source": [
    "s1 = Student(\"Pramit\",13)"
   ]
  },
  {
   "cell_type": "code",
   "execution_count": 24,
   "id": "c01bc064",
   "metadata": {},
   "outputs": [
    {
     "data": {
      "text/plain": [
       "{'name': 'Pramit', 'rollNo': 13}"
      ]
     },
     "execution_count": 24,
     "metadata": {},
     "output_type": "execute_result"
    }
   ],
   "source": [
    "s1.__dict__"
   ]
  },
  {
   "cell_type": "code",
   "execution_count": 25,
   "id": "c8fafd5c",
   "metadata": {},
   "outputs": [],
   "source": [
    "s2 = Student(\"Shirsendu\", 14)"
   ]
  },
  {
   "cell_type": "code",
   "execution_count": 26,
   "id": "5bc83200",
   "metadata": {},
   "outputs": [
    {
     "data": {
      "text/plain": [
       "{'name': 'Shirsendu', 'rollNo': 14}"
      ]
     },
     "execution_count": 26,
     "metadata": {},
     "output_type": "execute_result"
    }
   ],
   "source": [
    "s2.__dict__"
   ]
  },
  {
   "cell_type": "code",
   "execution_count": 27,
   "id": "56de6ba3",
   "metadata": {},
   "outputs": [
    {
     "data": {
      "text/plain": [
       "(<__main__.Student at 0x24a485751f0>, <__main__.Student at 0x24a48575a30>)"
      ]
     },
     "execution_count": 27,
     "metadata": {},
     "output_type": "execute_result"
    }
   ],
   "source": [
    "s1,s2"
   ]
  },
  {
   "cell_type": "code",
   "execution_count": 28,
   "id": "07fcf400",
   "metadata": {},
   "outputs": [],
   "source": [
    "s3 = Student(\"Pritam\", 14)"
   ]
  },
  {
   "cell_type": "code",
   "execution_count": 29,
   "id": "2efa0aad",
   "metadata": {},
   "outputs": [
    {
     "data": {
      "text/plain": [
       "{'name': 'Pritam', 'rollNo': 14}"
      ]
     },
     "execution_count": 29,
     "metadata": {},
     "output_type": "execute_result"
    }
   ],
   "source": [
    "s3.__dict__"
   ]
  },
  {
   "cell_type": "code",
   "execution_count": null,
   "id": "1e6c58db",
   "metadata": {},
   "outputs": [],
   "source": []
  }
 ],
 "metadata": {
  "kernelspec": {
   "display_name": "Python 3",
   "language": "python",
   "name": "python3"
  },
  "language_info": {
   "codemirror_mode": {
    "name": "ipython",
    "version": 3
   },
   "file_extension": ".py",
   "mimetype": "text/x-python",
   "name": "python",
   "nbconvert_exporter": "python",
   "pygments_lexer": "ipython3",
   "version": "3.8.10"
  }
 },
 "nbformat": 4,
 "nbformat_minor": 5
}
