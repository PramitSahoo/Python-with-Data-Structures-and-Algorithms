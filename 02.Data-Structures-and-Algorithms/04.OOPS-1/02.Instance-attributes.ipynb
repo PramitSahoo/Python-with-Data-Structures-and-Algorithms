{
 "cells": [
  {
   "cell_type": "code",
   "execution_count": 41,
   "id": "e3435a33",
   "metadata": {},
   "outputs": [],
   "source": [
    "class Student:\n",
    "    pass"
   ]
  },
  {
   "cell_type": "code",
   "execution_count": 42,
   "id": "48000075",
   "metadata": {},
   "outputs": [],
   "source": [
    "s1 = Student()\n",
    "s2 = Student()\n",
    "s3 = Student()"
   ]
  },
  {
   "cell_type": "code",
   "execution_count": 43,
   "id": "40faed05",
   "metadata": {},
   "outputs": [],
   "source": [
    "s1.name = \"Pramit\""
   ]
  },
  {
   "cell_type": "code",
   "execution_count": 44,
   "id": "89a8cb8f",
   "metadata": {},
   "outputs": [],
   "source": [
    "s2.rollNumber = 13"
   ]
  },
  {
   "cell_type": "code",
   "execution_count": 45,
   "id": "f2c76e10",
   "metadata": {},
   "outputs": [],
   "source": [
    "s3.name = \"Rajesh\"\n",
    "s3.rollNumber = 21"
   ]
  },
  {
   "cell_type": "code",
   "execution_count": 46,
   "id": "23ea6fad",
   "metadata": {},
   "outputs": [
    {
     "data": {
      "text/plain": [
       "'Pramit'"
      ]
     },
     "execution_count": 46,
     "metadata": {},
     "output_type": "execute_result"
    }
   ],
   "source": [
    "s1.name"
   ]
  },
  {
   "cell_type": "code",
   "execution_count": 47,
   "id": "006cb0b6",
   "metadata": {},
   "outputs": [
    {
     "data": {
      "text/plain": [
       "'Rajesh'"
      ]
     },
     "execution_count": 47,
     "metadata": {},
     "output_type": "execute_result"
    }
   ],
   "source": [
    "s3.name"
   ]
  },
  {
   "cell_type": "code",
   "execution_count": 48,
   "id": "e9e99838",
   "metadata": {},
   "outputs": [
    {
     "ename": "AttributeError",
     "evalue": "'Student' object has no attribute 'name'",
     "output_type": "error",
     "traceback": [
      "\u001b[1;31m---------------------------------------------------------------------------\u001b[0m",
      "\u001b[1;31mAttributeError\u001b[0m                            Traceback (most recent call last)",
      "\u001b[1;32m<ipython-input-48-709594944e69>\u001b[0m in \u001b[0;36m<module>\u001b[1;34m\u001b[0m\n\u001b[1;32m----> 1\u001b[1;33m \u001b[0ms2\u001b[0m\u001b[1;33m.\u001b[0m\u001b[0mname\u001b[0m\u001b[1;33m\u001b[0m\u001b[1;33m\u001b[0m\u001b[0m\n\u001b[0m",
      "\u001b[1;31mAttributeError\u001b[0m: 'Student' object has no attribute 'name'"
     ]
    }
   ],
   "source": [
    "s2.name"
   ]
  },
  {
   "cell_type": "code",
   "execution_count": 49,
   "id": "dba44f9b",
   "metadata": {},
   "outputs": [
    {
     "data": {
      "text/plain": [
       "{'name': 'Pramit'}"
      ]
     },
     "execution_count": 49,
     "metadata": {},
     "output_type": "execute_result"
    }
   ],
   "source": [
    "s1.__dict__ # you can see all attributes "
   ]
  },
  {
   "cell_type": "code",
   "execution_count": 50,
   "id": "bbb1137d",
   "metadata": {},
   "outputs": [
    {
     "data": {
      "text/plain": [
       "{'rollNumber': 13}"
      ]
     },
     "execution_count": 50,
     "metadata": {},
     "output_type": "execute_result"
    }
   ],
   "source": [
    "s2.__dict__"
   ]
  },
  {
   "cell_type": "code",
   "execution_count": 51,
   "id": "8fd2f831",
   "metadata": {},
   "outputs": [
    {
     "data": {
      "text/plain": [
       "{'name': 'Rajesh', 'rollNumber': 21}"
      ]
     },
     "execution_count": 51,
     "metadata": {},
     "output_type": "execute_result"
    }
   ],
   "source": [
    "s3.__dict__"
   ]
  },
  {
   "cell_type": "code",
   "execution_count": 52,
   "id": "7906542b",
   "metadata": {},
   "outputs": [
    {
     "data": {
      "text/plain": [
       "True"
      ]
     },
     "execution_count": 52,
     "metadata": {},
     "output_type": "execute_result"
    }
   ],
   "source": [
    " hasattr(s1,'name')  # it checks if the attribute present in s1 or not"
   ]
  },
  {
   "cell_type": "code",
   "execution_count": 53,
   "id": "d47864f2",
   "metadata": {},
   "outputs": [
    {
     "data": {
      "text/plain": [
       "False"
      ]
     },
     "execution_count": 53,
     "metadata": {},
     "output_type": "execute_result"
    }
   ],
   "source": [
    "hasattr(s2,'name')"
   ]
  },
  {
   "cell_type": "code",
   "execution_count": 54,
   "id": "9209c0e4",
   "metadata": {},
   "outputs": [
    {
     "data": {
      "text/plain": [
       "'Pramit'"
      ]
     },
     "execution_count": 54,
     "metadata": {},
     "output_type": "execute_result"
    }
   ],
   "source": [
    "getattr(s1,'name') # it gives the value for the attribute"
   ]
  },
  {
   "cell_type": "code",
   "execution_count": 55,
   "id": "2e193a5c",
   "metadata": {},
   "outputs": [
    {
     "ename": "AttributeError",
     "evalue": "'Student' object has no attribute 'name'",
     "output_type": "error",
     "traceback": [
      "\u001b[1;31m---------------------------------------------------------------------------\u001b[0m",
      "\u001b[1;31mAttributeError\u001b[0m                            Traceback (most recent call last)",
      "\u001b[1;32m<ipython-input-55-ff670ab04ded>\u001b[0m in \u001b[0;36m<module>\u001b[1;34m\u001b[0m\n\u001b[1;32m----> 1\u001b[1;33m \u001b[0mgetattr\u001b[0m\u001b[1;33m(\u001b[0m\u001b[0ms2\u001b[0m\u001b[1;33m,\u001b[0m\u001b[1;34m'name'\u001b[0m\u001b[1;33m)\u001b[0m\u001b[1;33m\u001b[0m\u001b[1;33m\u001b[0m\u001b[0m\n\u001b[0m",
      "\u001b[1;31mAttributeError\u001b[0m: 'Student' object has no attribute 'name'"
     ]
    }
   ],
   "source": [
    "getattr(s2,'name')"
   ]
  },
  {
   "cell_type": "code",
   "execution_count": 56,
   "id": "22a98f72",
   "metadata": {},
   "outputs": [
    {
     "data": {
      "text/plain": [
       "''"
      ]
     },
     "execution_count": 56,
     "metadata": {},
     "output_type": "execute_result"
    }
   ],
   "source": [
    "getattr(s2,'name','')  # third argument is only needed when you dont have the value in the attr"
   ]
  },
  {
   "cell_type": "code",
   "execution_count": 57,
   "id": "31c1549c",
   "metadata": {},
   "outputs": [
    {
     "data": {
      "text/plain": [
       "'Pramit'"
      ]
     },
     "execution_count": 57,
     "metadata": {},
     "output_type": "execute_result"
    }
   ],
   "source": [
    "getattr(s1,'name','')"
   ]
  },
  {
   "cell_type": "code",
   "execution_count": 58,
   "id": "949a9cf3",
   "metadata": {},
   "outputs": [],
   "source": [
    "delattr(s1,'name') # it will delte name attribute"
   ]
  },
  {
   "cell_type": "code",
   "execution_count": 59,
   "id": "d8758f0e",
   "metadata": {},
   "outputs": [
    {
     "data": {
      "text/plain": [
       "{}"
      ]
     },
     "execution_count": 59,
     "metadata": {},
     "output_type": "execute_result"
    }
   ],
   "source": [
    "s1.__dict__"
   ]
  },
  {
   "cell_type": "code",
   "execution_count": null,
   "id": "b39779b6",
   "metadata": {},
   "outputs": [],
   "source": []
  }
 ],
 "metadata": {
  "kernelspec": {
   "display_name": "Python 3",
   "language": "python",
   "name": "python3"
  },
  "language_info": {
   "codemirror_mode": {
    "name": "ipython",
    "version": 3
   },
   "file_extension": ".py",
   "mimetype": "text/x-python",
   "name": "python",
   "nbconvert_exporter": "python",
   "pygments_lexer": "ipython3",
   "version": "3.8.10"
  }
 },
 "nbformat": 4,
 "nbformat_minor": 5
}
