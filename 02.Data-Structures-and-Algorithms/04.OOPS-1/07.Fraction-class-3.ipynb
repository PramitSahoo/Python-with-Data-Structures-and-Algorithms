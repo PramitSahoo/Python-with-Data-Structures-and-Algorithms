{
 "cells": [
  {
   "cell_type": "code",
   "execution_count": 49,
   "id": "72c39deb",
   "metadata": {},
   "outputs": [],
   "source": [
    "class Fraction:\n",
    "    def __init__(self,num = 0,den = 1):\n",
    "        if den == 0:\n",
    "            den = 1\n",
    "        self.den = den\n",
    "        self.num = num\n",
    "    \n",
    "    def Print(self):\n",
    "        if(self.num == 0):\n",
    "            print(0)\n",
    "        elif(self.den == 1):\n",
    "            print(self.num)\n",
    "        else:\n",
    "            print(self.num,'/',self.den)\n",
    "            \n",
    "    def simplify(self):\n",
    "        if self.num == 0:\n",
    "            self.den = 1\n",
    "            return \n",
    "        current = min(self.num,self.den)\n",
    "        while current > 1:\n",
    "            if(self.num % current == 0 and self.den % current == 0):\n",
    "                break\n",
    "            current -= 1\n",
    "        self.num = self.num // current\n",
    "        self.den = self.den // current\n",
    "        \n",
    "    def add(self,otherFraction):\n",
    "        newNum = otherFraction.den*self.num + otherFraction.num*self.den\n",
    "        newDen = otherFraction.den * self.den\n",
    "        \n",
    "        self.num = newNum\n",
    "        self.den = newDen\n",
    "        self.simplify()\n",
    "        \n",
    "    def multiply(self,otherFraction1):\n",
    "        newNum1 = otherFraction1.num * self.num\n",
    "        newDen1 = otherFraction1.den * self.den\n",
    "        \n",
    "        self.num = newNum1\n",
    "        self.den = newDen1\n",
    "        self.simplify()"
   ]
  },
  {
   "cell_type": "code",
   "execution_count": 58,
   "id": "a4dbc88b",
   "metadata": {},
   "outputs": [],
   "source": [
    "f1 = Fraction(1,5)\n",
    "f2 = Fraction(2,5)"
   ]
  },
  {
   "cell_type": "code",
   "execution_count": 59,
   "id": "972daee6",
   "metadata": {},
   "outputs": [
    {
     "name": "stdout",
     "output_type": "stream",
     "text": [
      "3 / 5\n"
     ]
    }
   ],
   "source": [
    "f1.add(f2)\n",
    "f1.Print()"
   ]
  },
  {
   "cell_type": "code",
   "execution_count": 60,
   "id": "d032cdec",
   "metadata": {},
   "outputs": [
    {
     "name": "stdout",
     "output_type": "stream",
     "text": [
      "6 / 25\n"
     ]
    }
   ],
   "source": [
    "f1.multiply(f2)\n",
    "f1.Print()"
   ]
  },
  {
   "cell_type": "code",
   "execution_count": null,
   "id": "544dee61",
   "metadata": {},
   "outputs": [],
   "source": []
  },
  {
   "cell_type": "code",
   "execution_count": null,
   "id": "e8144ad1",
   "metadata": {},
   "outputs": [],
   "source": []
  }
 ],
 "metadata": {
  "kernelspec": {
   "display_name": "Python 3",
   "language": "python",
   "name": "python3"
  },
  "language_info": {
   "codemirror_mode": {
    "name": "ipython",
    "version": 3
   },
   "file_extension": ".py",
   "mimetype": "text/x-python",
   "name": "python",
   "nbconvert_exporter": "python",
   "pygments_lexer": "ipython3",
   "version": "3.8.10"
  }
 },
 "nbformat": 4,
 "nbformat_minor": 5
}
