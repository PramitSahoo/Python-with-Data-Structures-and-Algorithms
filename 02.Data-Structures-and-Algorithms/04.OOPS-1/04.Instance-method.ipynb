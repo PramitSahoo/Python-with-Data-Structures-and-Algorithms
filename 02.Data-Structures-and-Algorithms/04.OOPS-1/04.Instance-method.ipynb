{
 "cells": [
  {
   "cell_type": "code",
   "execution_count": 18,
   "id": "b9fa425b",
   "metadata": {},
   "outputs": [],
   "source": [
    "class Student:\n",
    "    def __init__(self,name,rollNo):\n",
    "        self.name = name\n",
    "        self.rollNo = rollNo\n",
    "        \n",
    "    def Print(self):\n",
    "        print(\"My name is {} and my roll number is {}\".format(self.name,self.rollNo))"
   ]
  },
  {
   "cell_type": "code",
   "execution_count": 19,
   "id": "bfb0ce94",
   "metadata": {},
   "outputs": [],
   "source": [
    "s1 = Student(\"Pramit\",13)"
   ]
  },
  {
   "cell_type": "code",
   "execution_count": 20,
   "id": "3e0bf7b5",
   "metadata": {},
   "outputs": [
    {
     "data": {
      "text/plain": [
       "{'name': 'Pramit', 'rollNo': 13}"
      ]
     },
     "execution_count": 20,
     "metadata": {},
     "output_type": "execute_result"
    }
   ],
   "source": [
    "s1.__dict__"
   ]
  },
  {
   "cell_type": "code",
   "execution_count": 21,
   "id": "ee0640da",
   "metadata": {},
   "outputs": [
    {
     "name": "stdout",
     "output_type": "stream",
     "text": [
      "My name is Pramit and my roll number is 13\n"
     ]
    }
   ],
   "source": [
    "s1.Print()"
   ]
  },
  {
   "cell_type": "code",
   "execution_count": 23,
   "id": "2410c93e",
   "metadata": {},
   "outputs": [
    {
     "name": "stdout",
     "output_type": "stream",
     "text": [
      "My name is Pramit and my roll number is 13\n"
     ]
    }
   ],
   "source": [
    "Student.Print(s1)"
   ]
  },
  {
   "cell_type": "code",
   "execution_count": null,
   "id": "703a7e87",
   "metadata": {},
   "outputs": [],
   "source": []
  }
 ],
 "metadata": {
  "kernelspec": {
   "display_name": "Python 3",
   "language": "python",
   "name": "python3"
  },
  "language_info": {
   "codemirror_mode": {
    "name": "ipython",
    "version": 3
   },
   "file_extension": ".py",
   "mimetype": "text/x-python",
   "name": "python",
   "nbconvert_exporter": "python",
   "pygments_lexer": "ipython3",
   "version": "3.8.10"
  }
 },
 "nbformat": 4,
 "nbformat_minor": 5
}
