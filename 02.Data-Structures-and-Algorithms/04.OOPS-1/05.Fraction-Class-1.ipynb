{
 "cells": [
  {
   "cell_type": "code",
   "execution_count": 7,
   "id": "c7a6bb6a",
   "metadata": {},
   "outputs": [],
   "source": [
    "class Fraction:\n",
    "    def __init__(self,numerator = 0 ,denominator = 1):\n",
    "        self.numerator = numerator\n",
    "        self.denominator = denominator"
   ]
  },
  {
   "cell_type": "code",
   "execution_count": 8,
   "id": "a9fa1f92",
   "metadata": {},
   "outputs": [],
   "source": [
    "f = Fraction(2,3)"
   ]
  },
  {
   "cell_type": "code",
   "execution_count": 9,
   "id": "60c61c0f",
   "metadata": {},
   "outputs": [
    {
     "data": {
      "text/plain": [
       "{'numerator': 2, 'denominator': 3}"
      ]
     },
     "execution_count": 9,
     "metadata": {},
     "output_type": "execute_result"
    }
   ],
   "source": [
    "f.__dict__"
   ]
  },
  {
   "cell_type": "code",
   "execution_count": 10,
   "id": "a365ade9",
   "metadata": {},
   "outputs": [],
   "source": [
    "f2 = Fraction()"
   ]
  },
  {
   "cell_type": "code",
   "execution_count": 11,
   "id": "5316242e",
   "metadata": {},
   "outputs": [
    {
     "data": {
      "text/plain": [
       "{'numerator': 0, 'denominator': 1}"
      ]
     },
     "execution_count": 11,
     "metadata": {},
     "output_type": "execute_result"
    }
   ],
   "source": [
    "f2.__dict__"
   ]
  },
  {
   "cell_type": "code",
   "execution_count": 12,
   "id": "3c0d61da",
   "metadata": {},
   "outputs": [],
   "source": [
    "f3 = Fraction(3)"
   ]
  },
  {
   "cell_type": "code",
   "execution_count": 13,
   "id": "7f057d94",
   "metadata": {},
   "outputs": [
    {
     "data": {
      "text/plain": [
       "{'numerator': 3, 'denominator': 1}"
      ]
     },
     "execution_count": 13,
     "metadata": {},
     "output_type": "execute_result"
    }
   ],
   "source": [
    "f3.__dict__"
   ]
  },
  {
   "cell_type": "code",
   "execution_count": null,
   "id": "5723227e",
   "metadata": {},
   "outputs": [],
   "source": []
  }
 ],
 "metadata": {
  "kernelspec": {
   "display_name": "Python 3",
   "language": "python",
   "name": "python3"
  },
  "language_info": {
   "codemirror_mode": {
    "name": "ipython",
    "version": 3
   },
   "file_extension": ".py",
   "mimetype": "text/x-python",
   "name": "python",
   "nbconvert_exporter": "python",
   "pygments_lexer": "ipython3",
   "version": "3.8.10"
  }
 },
 "nbformat": 4,
 "nbformat_minor": 5
}
