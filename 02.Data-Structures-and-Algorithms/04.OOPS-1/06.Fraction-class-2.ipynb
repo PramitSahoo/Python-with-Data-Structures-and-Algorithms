{
 "cells": [
  {
   "cell_type": "code",
   "execution_count": 55,
   "id": "6191b2a6",
   "metadata": {},
   "outputs": [],
   "source": [
    "class Fraction:\n",
    "    def __init__(self,num = 0, den = 1):\n",
    "        \n",
    "        if den == 0:\n",
    "            # throw error\n",
    "            den = 1\n",
    "        \n",
    "        self.num = num\n",
    "        self.den = den\n",
    "        \n",
    "    def print(self):\n",
    "        if(self.num == 0):\n",
    "            print(0)\n",
    "        elif(self.den == 1):\n",
    "            print(self.num)\n",
    "        else:\n",
    "            print(self.num, '/',self.den)\n",
    "            \n",
    "    def simplify(self):\n",
    "        if self.num == 0:\n",
    "            self.den = 1\n",
    "            return \n",
    "        current = min(self.num,self.den)\n",
    "        while current > 1:\n",
    "            if(self.num % current == 0 and self.den % current == 0):\n",
    "                break\n",
    "            current -= 1\n",
    "        self.num = self.num // current\n",
    "        self.den = self.den // current"
   ]
  },
  {
   "cell_type": "code",
   "execution_count": 56,
   "id": "65e0ac49",
   "metadata": {},
   "outputs": [],
   "source": [
    "f = Fraction(0,5)"
   ]
  },
  {
   "cell_type": "code",
   "execution_count": 57,
   "id": "afed5bf5",
   "metadata": {},
   "outputs": [
    {
     "name": "stdout",
     "output_type": "stream",
     "text": [
      "0\n"
     ]
    }
   ],
   "source": [
    "f.print()"
   ]
  },
  {
   "cell_type": "code",
   "execution_count": 58,
   "id": "90ed6cc4",
   "metadata": {},
   "outputs": [],
   "source": [
    "f.simplify()"
   ]
  },
  {
   "cell_type": "code",
   "execution_count": 59,
   "id": "7733f922",
   "metadata": {},
   "outputs": [
    {
     "name": "stdout",
     "output_type": "stream",
     "text": [
      "0\n"
     ]
    }
   ],
   "source": [
    "f.print()"
   ]
  },
  {
   "cell_type": "code",
   "execution_count": null,
   "id": "5fb56bd3",
   "metadata": {},
   "outputs": [],
   "source": []
  }
 ],
 "metadata": {
  "kernelspec": {
   "display_name": "Python 3",
   "language": "python",
   "name": "python3"
  },
  "language_info": {
   "codemirror_mode": {
    "name": "ipython",
    "version": 3
   },
   "file_extension": ".py",
   "mimetype": "text/x-python",
   "name": "python",
   "nbconvert_exporter": "python",
   "pygments_lexer": "ipython3",
   "version": "3.8.10"
  }
 },
 "nbformat": 4,
 "nbformat_minor": 5
}
