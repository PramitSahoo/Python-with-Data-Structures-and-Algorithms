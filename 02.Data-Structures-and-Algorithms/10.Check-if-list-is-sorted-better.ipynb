{
 "cells": [
  {
   "cell_type": "code",
   "execution_count": 1,
   "id": "ba6c369f",
   "metadata": {},
   "outputs": [],
   "source": [
    "def isSorted(li,si):\n",
    "    l = len(li)\n",
    "    if (si == l or si ==  l-1):\n",
    "        return True\n",
    "    if(li[si] > li[si+1]):\n",
    "        return False\n",
    "    smallerlist = isSorted(li,si+1)\n",
    "    return smallerlist\n",
    "    "
   ]
  },
  {
   "cell_type": "code",
   "execution_count": 3,
   "id": "579c1f13",
   "metadata": {},
   "outputs": [
    {
     "name": "stdout",
     "output_type": "stream",
     "text": [
      "5\n",
      "1 2 3 4 5\n"
     ]
    },
    {
     "data": {
      "text/plain": [
       "True"
      ]
     },
     "execution_count": 3,
     "metadata": {},
     "output_type": "execute_result"
    }
   ],
   "source": [
    "n = int(input())\n",
    "li = [int(ele) for ele in input().split()]\n",
    "isSorted(li,0)"
   ]
  },
  {
   "cell_type": "code",
   "execution_count": null,
   "id": "a3397e01",
   "metadata": {},
   "outputs": [],
   "source": []
  }
 ],
 "metadata": {
  "kernelspec": {
   "display_name": "Python 3",
   "language": "python",
   "name": "python3"
  },
  "language_info": {
   "codemirror_mode": {
    "name": "ipython",
    "version": 3
   },
   "file_extension": ".py",
   "mimetype": "text/x-python",
   "name": "python",
   "nbconvert_exporter": "python",
   "pygments_lexer": "ipython3",
   "version": "3.8.10"
  }
 },
 "nbformat": 4,
 "nbformat_minor": 5
}
