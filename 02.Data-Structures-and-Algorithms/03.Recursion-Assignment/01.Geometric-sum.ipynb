{
 "cells": [
  {
   "cell_type": "code",
   "execution_count": 19,
   "id": "962a70b8",
   "metadata": {},
   "outputs": [],
   "source": [
    "def geosum(k):\n",
    "    if k == 0:\n",
    "        return 1\n",
    "    return 1/(2**k) + geosum(k-1)"
   ]
  },
  {
   "cell_type": "code",
   "execution_count": 20,
   "id": "221aba0f",
   "metadata": {},
   "outputs": [
    {
     "name": "stdout",
     "output_type": "stream",
     "text": [
      "3\n",
      "1.875\n"
     ]
    }
   ],
   "source": [
    "k = int(input())\n",
    "print(geosum(k))"
   ]
  },
  {
   "cell_type": "code",
   "execution_count": null,
   "id": "beae9e39",
   "metadata": {},
   "outputs": [],
   "source": []
  }
 ],
 "metadata": {
  "kernelspec": {
   "display_name": "Python 3",
   "language": "python",
   "name": "python3"
  },
  "language_info": {
   "codemirror_mode": {
    "name": "ipython",
    "version": 3
   },
   "file_extension": ".py",
   "mimetype": "text/x-python",
   "name": "python",
   "nbconvert_exporter": "python",
   "pygments_lexer": "ipython3",
   "version": "3.8.10"
  }
 },
 "nbformat": 4,
 "nbformat_minor": 5
}
