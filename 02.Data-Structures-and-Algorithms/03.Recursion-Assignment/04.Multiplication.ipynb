{
 "cells": [
  {
   "cell_type": "code",
   "execution_count": 1,
   "id": "2818f285",
   "metadata": {},
   "outputs": [],
   "source": [
    "def multiplication(m,n):\n",
    "    if (m == 0 or n == 0):\n",
    "        return 0\n",
    "    return m+multiplication(m,n-1)"
   ]
  },
  {
   "cell_type": "code",
   "execution_count": 3,
   "id": "bf2fd283",
   "metadata": {},
   "outputs": [
    {
     "name": "stdout",
     "output_type": "stream",
     "text": [
      "4\n",
      "0\n"
     ]
    },
    {
     "data": {
      "text/plain": [
       "0"
      ]
     },
     "execution_count": 3,
     "metadata": {},
     "output_type": "execute_result"
    }
   ],
   "source": [
    "m = int(input())\n",
    "n = int(input())\n",
    "\n",
    "multiplication(m,n)"
   ]
  },
  {
   "cell_type": "code",
   "execution_count": null,
   "id": "11a87bbf",
   "metadata": {},
   "outputs": [],
   "source": []
  }
 ],
 "metadata": {
  "kernelspec": {
   "display_name": "Python 3",
   "language": "python",
   "name": "python3"
  },
  "language_info": {
   "codemirror_mode": {
    "name": "ipython",
    "version": 3
   },
   "file_extension": ".py",
   "mimetype": "text/x-python",
   "name": "python",
   "nbconvert_exporter": "python",
   "pygments_lexer": "ipython3",
   "version": "3.8.10"
  }
 },
 "nbformat": 4,
 "nbformat_minor": 5
}
