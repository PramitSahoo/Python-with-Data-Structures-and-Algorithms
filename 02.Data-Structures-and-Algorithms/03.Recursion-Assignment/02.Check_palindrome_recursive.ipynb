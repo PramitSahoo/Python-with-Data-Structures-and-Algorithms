{
 "cells": [
  {
   "cell_type": "code",
   "execution_count": 10,
   "id": "7cc3c4b6",
   "metadata": {},
   "outputs": [],
   "source": [
    "def checkPalindrome(str,si,ei):\n",
    "    if(si == ei):\n",
    "        return True\n",
    "    if(str[si] != str[ei]):\n",
    "        return False\n",
    "    if(si < ei +1):\n",
    "        return checkPalindrome(str,si+1,ei-1)\n",
    "    return True"
   ]
  },
  {
   "cell_type": "code",
   "execution_count": 14,
   "id": "1eb06475",
   "metadata": {},
   "outputs": [
    {
     "name": "stdout",
     "output_type": "stream",
     "text": [
      "racecar\n"
     ]
    },
    {
     "data": {
      "text/plain": [
       "True"
      ]
     },
     "execution_count": 14,
     "metadata": {},
     "output_type": "execute_result"
    }
   ],
   "source": [
    "str = input()\n",
    "checkPalindrome(str,0,len(str)-1)"
   ]
  },
  {
   "cell_type": "code",
   "execution_count": 15,
   "id": "4b5601aa",
   "metadata": {},
   "outputs": [],
   "source": [
    "def isPali(str):\n",
    "    if(len(str) == 0):\n",
    "        return True\n",
    "    return checkPalindrome(str,0,len(str) - 1)"
   ]
  },
  {
   "cell_type": "code",
   "execution_count": 16,
   "id": "7456f131",
   "metadata": {},
   "outputs": [
    {
     "name": "stdout",
     "output_type": "stream",
     "text": [
      "racecar\n"
     ]
    },
    {
     "data": {
      "text/plain": [
       "True"
      ]
     },
     "execution_count": 16,
     "metadata": {},
     "output_type": "execute_result"
    }
   ],
   "source": [
    "str = input()\n",
    "isPali(str)"
   ]
  },
  {
   "cell_type": "code",
   "execution_count": null,
   "id": "1d4a89f5",
   "metadata": {},
   "outputs": [],
   "source": []
  }
 ],
 "metadata": {
  "kernelspec": {
   "display_name": "Python 3",
   "language": "python",
   "name": "python3"
  },
  "language_info": {
   "codemirror_mode": {
    "name": "ipython",
    "version": 3
   },
   "file_extension": ".py",
   "mimetype": "text/x-python",
   "name": "python",
   "nbconvert_exporter": "python",
   "pygments_lexer": "ipython3",
   "version": "3.8.10"
  }
 },
 "nbformat": 4,
 "nbformat_minor": 5
}
