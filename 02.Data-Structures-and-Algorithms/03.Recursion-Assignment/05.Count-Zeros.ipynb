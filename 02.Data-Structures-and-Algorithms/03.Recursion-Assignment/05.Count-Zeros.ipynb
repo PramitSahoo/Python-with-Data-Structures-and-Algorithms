{
 "cells": [
  {
   "cell_type": "code",
   "execution_count": 46,
   "id": "2eefd6c9",
   "metadata": {},
   "outputs": [],
   "source": [
    "def countZeros(n):\n",
    "    count = 0\n",
    "    if (n < 10):\n",
    "        if(n == 0):\n",
    "            return 1\n",
    "        else:\n",
    "            return 0\n",
    "    smallAns = countZeros(n /10)\n",
    "    if(smallAns % 10  == 0):\n",
    "        count = count + 1\n",
    "    return count"
   ]
  },
  {
   "cell_type": "code",
   "execution_count": 47,
   "id": "206d94dc",
   "metadata": {},
   "outputs": [
    {
     "name": "stdout",
     "output_type": "stream",
     "text": [
      "4004\n"
     ]
    },
    {
     "data": {
      "text/plain": [
       "1"
      ]
     },
     "execution_count": 47,
     "metadata": {},
     "output_type": "execute_result"
    }
   ],
   "source": [
    "n = int(input())\n",
    "countZeros(n)"
   ]
  },
  {
   "cell_type": "code",
   "execution_count": null,
   "id": "4a2e4b4c",
   "metadata": {},
   "outputs": [],
   "source": []
  }
 ],
 "metadata": {
  "kernelspec": {
   "display_name": "Python 3",
   "language": "python",
   "name": "python3"
  },
  "language_info": {
   "codemirror_mode": {
    "name": "ipython",
    "version": 3
   },
   "file_extension": ".py",
   "mimetype": "text/x-python",
   "name": "python",
   "nbconvert_exporter": "python",
   "pygments_lexer": "ipython3",
   "version": "3.8.10"
  }
 },
 "nbformat": 4,
 "nbformat_minor": 5
}
