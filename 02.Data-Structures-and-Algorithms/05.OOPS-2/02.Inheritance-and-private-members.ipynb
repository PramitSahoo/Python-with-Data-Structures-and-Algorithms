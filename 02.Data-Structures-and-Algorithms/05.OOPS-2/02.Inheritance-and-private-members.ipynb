{
 "cells": [
  {
   "cell_type": "code",
   "execution_count": 19,
   "id": "97709bfc",
   "metadata": {},
   "outputs": [],
   "source": [
    "class Vehicle:\n",
    "    def __init__(self,color,maxSpeed):\n",
    "        self.color = color\n",
    "        self.__maxSpeed = maxSpeed\n",
    "        # we can make any properties private using __ \n",
    "        # we can access the maxspeed by using getter and setter\n",
    "        \n",
    "    def getMaxSpeed(self):\n",
    "        return self.__maxSpeed\n",
    "    def setMaxSpeed(self,maxSpeed):\n",
    "        self.__maxSpeed = maxSpeed\n",
    "        \n",
    "class Car(Vehicle):\n",
    "    def __init__(self,color,maxSpeed,numGears,isConvertible):\n",
    "        super().__init__(color,maxSpeed)\n",
    "        self.numGears = numGears\n",
    "        self.isConvertible = isConvertible\n",
    "        \n",
    "    def printCar(self):\n",
    "        print(\"color: \",self.color)\n",
    "        print(\"maxSpeed: \",self.getMaxSpeed())\n",
    "        print(\"num of gears: \",self.numGears)\n",
    "        print(\"isConvertible: \",self.isConvertible)"
   ]
  },
  {
   "cell_type": "code",
   "execution_count": 20,
   "id": "dd73e065",
   "metadata": {},
   "outputs": [
    {
     "name": "stdout",
     "output_type": "stream",
     "text": [
      "color:  red\n",
      "maxSpeed:  15\n",
      "num of gears:  3\n",
      "isConvertible:  False\n"
     ]
    }
   ],
   "source": [
    "c = Car('red',15,3,False)\n",
    "c.printCar()"
   ]
  },
  {
   "cell_type": "code",
   "execution_count": null,
   "id": "8f1832ad",
   "metadata": {},
   "outputs": [],
   "source": []
  }
 ],
 "metadata": {
  "kernelspec": {
   "display_name": "Python 3",
   "language": "python",
   "name": "python3"
  },
  "language_info": {
   "codemirror_mode": {
    "name": "ipython",
    "version": 3
   },
   "file_extension": ".py",
   "mimetype": "text/x-python",
   "name": "python",
   "nbconvert_exporter": "python",
   "pygments_lexer": "ipython3",
   "version": "3.8.10"
  }
 },
 "nbformat": 4,
 "nbformat_minor": 5
}
