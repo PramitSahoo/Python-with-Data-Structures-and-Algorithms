{
 "cells": [
  {
   "cell_type": "code",
   "execution_count": 14,
   "id": "7ed71712",
   "metadata": {},
   "outputs": [],
   "source": [
    "# protected members are declared through single underscore(_)\n",
    "# we should not modify it until and unless very much needing case\n"
   ]
  },
  {
   "cell_type": "code",
   "execution_count": 15,
   "id": "5fbc5292",
   "metadata": {},
   "outputs": [],
   "source": [
    "class Vehicle:\n",
    "    def __init__(self,color,maxSpeed):\n",
    "        self.color = color\n",
    "        self._maxSpeed = maxSpeed   \n",
    "        \n",
    "    def getMaxSpeed(self):\n",
    "        return self._maxSpeed\n",
    "    def setMaxSpeed(self,maxSpeed):\n",
    "        self._maxSpeed = maxSpeed\n",
    "        \n",
    "    def Print(self):\n",
    "        print('color: ',self.color)\n",
    "        print('maxSpeed: ',self._maxSpeed)\n",
    "        \n",
    "class Car(Vehicle):\n",
    "    def __init__(self,color,maxSpeed,numGears,isConvertible):\n",
    "        super().__init__(color,maxSpeed)\n",
    "        self.numGears = numGears\n",
    "        self.isConvertible = isConvertible\n",
    "        \n",
    "    def Print(self):\n",
    "#         super().Print()\n",
    "        print(\"color: \",self.color)\n",
    "        print(\"maxSpeed: \",self._maxSpeed)\n",
    "        print(\"num of gears: \",self.numGears)\n",
    "        print(\"isConvertible: \",self.isConvertible)"
   ]
  },
  {
   "cell_type": "code",
   "execution_count": 16,
   "id": "9f9dbfc7",
   "metadata": {},
   "outputs": [
    {
     "name": "stdout",
     "output_type": "stream",
     "text": [
      "color:  red\n",
      "maxSpeed:  15\n",
      "num of gears:  3\n",
      "isConvertible:  False\n"
     ]
    }
   ],
   "source": [
    "c = Car('red',15,3,False)\n",
    "c.Print()"
   ]
  },
  {
   "cell_type": "code",
   "execution_count": 17,
   "id": "c82b1409",
   "metadata": {},
   "outputs": [
    {
     "name": "stdout",
     "output_type": "stream",
     "text": [
      "color:  red\n",
      "maxSpeed:  18\n"
     ]
    }
   ],
   "source": [
    "v = Vehicle('red',18)\n",
    "v.Print()"
   ]
  },
  {
   "cell_type": "code",
   "execution_count": 18,
   "id": "05fe70d4",
   "metadata": {},
   "outputs": [
    {
     "name": "stdout",
     "output_type": "stream",
     "text": [
      "color:  red\n",
      "maxSpeed:  19\n"
     ]
    }
   ],
   "source": [
    "v._maxSpeed = 19\n",
    "v.Print()"
   ]
  },
  {
   "cell_type": "code",
   "execution_count": null,
   "id": "cbdf2b40",
   "metadata": {},
   "outputs": [],
   "source": []
  }
 ],
 "metadata": {
  "kernelspec": {
   "display_name": "Python 3",
   "language": "python",
   "name": "python3"
  },
  "language_info": {
   "codemirror_mode": {
    "name": "ipython",
    "version": 3
   },
   "file_extension": ".py",
   "mimetype": "text/x-python",
   "name": "python",
   "nbconvert_exporter": "python",
   "pygments_lexer": "ipython3",
   "version": "3.8.10"
  }
 },
 "nbformat": 4,
 "nbformat_minor": 5
}
