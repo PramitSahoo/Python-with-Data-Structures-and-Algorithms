{
 "cells": [
  {
   "cell_type": "code",
   "execution_count": 22,
   "id": "a0cad4ea",
   "metadata": {},
   "outputs": [],
   "source": [
    "class Vehicle:\n",
    "    def __init__(self,color,maxSpeed):\n",
    "        self.color = color\n",
    "        self.__maxSpeed = maxSpeed\n",
    "        # we can make any properties private using __ \n",
    "        # we can access the maxspeed by using getter and setter\n",
    "        \n",
    "    def getMaxSpeed(self):\n",
    "        return self.__maxSpeed\n",
    "    def setMaxSpeed(self,maxSpeed):\n",
    "        self.__maxSpeed = maxSpeed\n",
    "        \n",
    "    def Print(self):\n",
    "        print('color: ',self.color)\n",
    "        print('maxSpeed: ',self.__maxSpeed)\n",
    "        \n",
    "class Car(Vehicle):\n",
    "    def __init__(self,color,maxSpeed,numGears,isConvertible):\n",
    "        super().__init__(color,maxSpeed)\n",
    "        self.numGears = numGears\n",
    "        self.isConvertible = isConvertible\n",
    "        \n",
    "        # if we write both as Print then car's print is getting called\n",
    "        # if print was not there then vehicle's print would be printed\n",
    "        # this is called method overriding\n",
    "    def Print(self):\n",
    "#         print(\"color: \",self.color)\n",
    "#         print(\"maxSpeed: \",self.getMaxSpeed())\n",
    "#         self.Print()\n",
    "        super().Print()\n",
    "        print(\"num of gears: \",self.numGears)\n",
    "        print(\"isConvertible: \",self.isConvertible)"
   ]
  },
  {
   "cell_type": "code",
   "execution_count": 23,
   "id": "48ece098",
   "metadata": {},
   "outputs": [
    {
     "name": "stdout",
     "output_type": "stream",
     "text": [
      "color:  red\n",
      "maxSpeed:  15\n",
      "num of gears:  3\n",
      "isConvertible:  False\n"
     ]
    }
   ],
   "source": [
    "c = Car('red',15,3,False)\n",
    "c.Print()"
   ]
  },
  {
   "cell_type": "code",
   "execution_count": 24,
   "id": "b728a219",
   "metadata": {},
   "outputs": [
    {
     "name": "stdout",
     "output_type": "stream",
     "text": [
      "color:  red\n",
      "maxSpeed:  18\n"
     ]
    }
   ],
   "source": [
    "v = Vehicle('red',18)\n",
    "v.Print()"
   ]
  },
  {
   "cell_type": "code",
   "execution_count": null,
   "id": "8ee8e6b8",
   "metadata": {},
   "outputs": [],
   "source": []
  }
 ],
 "metadata": {
  "kernelspec": {
   "display_name": "Python 3",
   "language": "python",
   "name": "python3"
  },
  "language_info": {
   "codemirror_mode": {
    "name": "ipython",
    "version": 3
   },
   "file_extension": ".py",
   "mimetype": "text/x-python",
   "name": "python",
   "nbconvert_exporter": "python",
   "pygments_lexer": "ipython3",
   "version": "3.8.10"
  }
 },
 "nbformat": 4,
 "nbformat_minor": 5
}
