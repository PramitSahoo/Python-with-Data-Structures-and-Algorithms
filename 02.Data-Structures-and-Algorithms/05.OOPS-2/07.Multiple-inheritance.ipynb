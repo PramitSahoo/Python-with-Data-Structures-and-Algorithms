{
 "cells": [
  {
   "cell_type": "code",
   "execution_count": 21,
   "id": "68caba11",
   "metadata": {},
   "outputs": [],
   "source": [
    "class Mother:\n",
    "    \n",
    "    def __init__(self):\n",
    "        self.name = \"Manju\"\n",
    "    \n",
    "    def Print(self):\n",
    "        print(\"Print of Mother called\")\n",
    "        \n",
    "        \n",
    "class Father:\n",
    "    \n",
    "    def __init__(self):\n",
    "        self.name = \"Ajay\"\n",
    "    \n",
    "    def Print(self):\n",
    "        print(\"Print of Father called\")\n",
    "\n",
    "class Child(Father,Mother): #  the order in which we have called , print will be in that order.. here father has been called first so father's print will be called first\n",
    "#     def __init__(self,name):\n",
    "#         self.name = name\n",
    "    def __init__(self):\n",
    "        super().__init__()\n",
    "    def PrintChild(self):\n",
    "        print(\"Name of child: \",self.name)"
   ]
  },
  {
   "cell_type": "code",
   "execution_count": 22,
   "id": "fe52c53e",
   "metadata": {},
   "outputs": [
    {
     "name": "stdout",
     "output_type": "stream",
     "text": [
      "Name of child:  Ajay\n"
     ]
    }
   ],
   "source": [
    "# c = Child(\"Pramit\")\n",
    "c = Child()\n",
    "c.PrintChild()"
   ]
  },
  {
   "cell_type": "code",
   "execution_count": 23,
   "id": "b0b99182",
   "metadata": {},
   "outputs": [],
   "source": [
    "# c = Child(\"pramit\")\n",
    "# c.Print()"
   ]
  },
  {
   "cell_type": "code",
   "execution_count": null,
   "id": "32748297",
   "metadata": {},
   "outputs": [],
   "source": []
  }
 ],
 "metadata": {
  "kernelspec": {
   "display_name": "Python 3",
   "language": "python",
   "name": "python3"
  },
  "language_info": {
   "codemirror_mode": {
    "name": "ipython",
    "version": 3
   },
   "file_extension": ".py",
   "mimetype": "text/x-python",
   "name": "python",
   "nbconvert_exporter": "python",
   "pygments_lexer": "ipython3",
   "version": "3.8.10"
  }
 },
 "nbformat": 4,
 "nbformat_minor": 5
}
