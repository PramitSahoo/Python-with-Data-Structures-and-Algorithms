{
 "cells": [
  {
   "cell_type": "code",
   "execution_count": 7,
   "id": "6a86895a",
   "metadata": {},
   "outputs": [],
   "source": [
    "class Vehicle:\n",
    "    def __init__(self,color,maxSpeed):\n",
    "        self.color = color\n",
    "        self.__maxSpeed = maxSpeed\n",
    "        # we can make any properties private using __ \n",
    "        # we can access the maxspeed by using getter and setter\n",
    "        \n",
    "    def getMaxSpeed(self):\n",
    "        return self.__maxSpeed\n",
    "    def setMaxSpeed(self,maxSpeed):\n",
    "        self.__maxSpeed = maxSpeed\n",
    "        \n",
    "    def Print(self):\n",
    "        print('color: ',self.color)\n",
    "        print('maxSpeed: ',self.__maxSpeed)\n",
    "        \n",
    "class Car(Vehicle):\n",
    "    def __init__(self,color,maxSpeed,numGears,isConvertible):\n",
    "        super().__init__(color,maxSpeed)\n",
    "        self.numGears = numGears\n",
    "        self.isConvertible = isConvertible\n",
    "        \n",
    "    def printCar(self):\n",
    "#         print(\"color: \",self.color)\n",
    "#         print(\"maxSpeed: \",self.getMaxSpeed())\n",
    "        super().Print()\n",
    "    # a car inherits all properties from vehicle so we can also write\n",
    "    # self.Print()\n",
    "        print(\"num of gears: \",self.numGears)\n",
    "        print(\"isConvertible: \",self.isConvertible)"
   ]
  },
  {
   "cell_type": "code",
   "execution_count": 8,
   "id": "102fd1ca",
   "metadata": {},
   "outputs": [
    {
     "name": "stdout",
     "output_type": "stream",
     "text": [
      "color:  red\n",
      "maxSpeed:  15\n",
      "num of gears:  3\n",
      "isConvertible:  False\n"
     ]
    }
   ],
   "source": [
    "c = Car('red',15,3,False)\n",
    "c.printCar()"
   ]
  },
  {
   "cell_type": "code",
   "execution_count": null,
   "id": "df0ede3e",
   "metadata": {},
   "outputs": [],
   "source": []
  }
 ],
 "metadata": {
  "kernelspec": {
   "display_name": "Python 3",
   "language": "python",
   "name": "python3"
  },
  "language_info": {
   "codemirror_mode": {
    "name": "ipython",
    "version": 3
   },
   "file_extension": ".py",
   "mimetype": "text/x-python",
   "name": "python",
   "nbconvert_exporter": "python",
   "pygments_lexer": "ipython3",
   "version": "3.8.10"
  }
 },
 "nbformat": 4,
 "nbformat_minor": 5
}
