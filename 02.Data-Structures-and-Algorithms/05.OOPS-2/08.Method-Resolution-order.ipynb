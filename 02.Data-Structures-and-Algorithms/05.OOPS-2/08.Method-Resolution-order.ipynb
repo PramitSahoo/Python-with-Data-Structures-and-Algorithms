{
 "cells": [
  {
   "cell_type": "code",
   "execution_count": 18,
   "id": "751d2872",
   "metadata": {},
   "outputs": [],
   "source": [
    "class Mother:\n",
    "    \n",
    "    def __init__(self):\n",
    "        self.name = \"Manju\"\n",
    "        super().__init__()\n",
    "    def Print(self):\n",
    "        print(\"Print of Mother called\")\n",
    "        \n",
    "class Father:\n",
    "    \n",
    "    def __init__(self):\n",
    "        self.name = \"Ajay\"\n",
    "        super().__init__()\n",
    "    def Print(self):\n",
    "        print(\"Print of Father called\")\n",
    "\n",
    "class Child(Father,Mother): \n",
    "    def __init__(self):\n",
    "        super().__init__()\n",
    "    def Print(self):\n",
    "        print(\"Name of child: \",self.name)"
   ]
  },
  {
   "cell_type": "code",
   "execution_count": 19,
   "id": "985b55e1",
   "metadata": {},
   "outputs": [
    {
     "name": "stdout",
     "output_type": "stream",
     "text": [
      "Name of child:  Manju\n"
     ]
    }
   ],
   "source": [
    "c = Child()\n",
    "c.Print()"
   ]
  },
  {
   "cell_type": "code",
   "execution_count": 20,
   "id": "27d5f7d1",
   "metadata": {},
   "outputs": [
    {
     "name": "stdout",
     "output_type": "stream",
     "text": [
      "[<class '__main__.Child'>, <class '__main__.Father'>, <class '__main__.Mother'>, <class 'object'>]\n"
     ]
    }
   ],
   "source": [
    "print(Child.mro())  # using this we can get the method resolution order"
   ]
  },
  {
   "cell_type": "code",
   "execution_count": null,
   "id": "05e1da74",
   "metadata": {},
   "outputs": [],
   "source": []
  }
 ],
 "metadata": {
  "kernelspec": {
   "display_name": "Python 3",
   "language": "python",
   "name": "python3"
  },
  "language_info": {
   "codemirror_mode": {
    "name": "ipython",
    "version": 3
   },
   "file_extension": ".py",
   "mimetype": "text/x-python",
   "name": "python",
   "nbconvert_exporter": "python",
   "pygments_lexer": "ipython3",
   "version": "3.8.10"
  }
 },
 "nbformat": 4,
 "nbformat_minor": 5
}
