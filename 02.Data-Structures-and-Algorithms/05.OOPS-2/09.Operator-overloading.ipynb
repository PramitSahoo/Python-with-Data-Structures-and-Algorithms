{
 "cells": [
  {
   "cell_type": "code",
   "execution_count": 1,
   "id": "8e399f50",
   "metadata": {},
   "outputs": [],
   "source": [
    "# python has magic methods or special fucntions for operator overloading\n",
    "# visit   https://python-course.eu/oop/magic-methods.php\n"
   ]
  },
  {
   "cell_type": "code",
   "execution_count": 7,
   "id": "0b2f497c",
   "metadata": {},
   "outputs": [],
   "source": [
    "import math\n",
    "class Point:\n",
    "    def __init__(self,x,y):\n",
    "        self.__x = x\n",
    "        self.__y = y\n",
    "        \n",
    "    def __str__(self):\n",
    "        return \"This point is at (\" + str(self.__x) + \",\" + str(self.__y) +\")\"\n",
    "    \n",
    "    def __add__(self,point_object):\n",
    "        return Point(self.__x + point_object.__x , self.__y + point_object.__y)\n",
    "    \n",
    "    # we are comparing distance\n",
    "    def __lt__(self,point_object):\n",
    "        return math.sqrt(self.__x**2 + self.__y**2) < math.sqrt(point_object.__x**2 + point_object.__y**2)"
   ]
  },
  {
   "cell_type": "code",
   "execution_count": 8,
   "id": "a5e0c09a",
   "metadata": {},
   "outputs": [
    {
     "name": "stdout",
     "output_type": "stream",
     "text": [
      "This point is at (4,6)\n",
      "True\n"
     ]
    }
   ],
   "source": [
    "p1 = Point(1,2)\n",
    "p2 = Point(3,4)\n",
    "p3 = p1 + p2\n",
    "print(p3)\n",
    "print(p1 < p2)"
   ]
  },
  {
   "cell_type": "code",
   "execution_count": null,
   "id": "51300481",
   "metadata": {},
   "outputs": [],
   "source": []
  }
 ],
 "metadata": {
  "kernelspec": {
   "display_name": "Python 3",
   "language": "python",
   "name": "python3"
  },
  "language_info": {
   "codemirror_mode": {
    "name": "ipython",
    "version": 3
   },
   "file_extension": ".py",
   "mimetype": "text/x-python",
   "name": "python",
   "nbconvert_exporter": "python",
   "pygments_lexer": "ipython3",
   "version": "3.8.10"
  }
 },
 "nbformat": 4,
 "nbformat_minor": 5
}
