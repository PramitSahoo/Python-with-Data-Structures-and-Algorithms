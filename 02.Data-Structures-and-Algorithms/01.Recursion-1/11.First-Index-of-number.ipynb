{
 "cells": [
  {
   "cell_type": "code",
   "execution_count": 1,
   "id": "d177a3e1",
   "metadata": {},
   "outputs": [],
   "source": [
    "def first_index(li,si,x):\n",
    "    l = len(li)\n",
    "    if (l == 0):\n",
    "        return -1\n",
    "    if(li[si] == x):\n",
    "        return si\n",
    "    small_index = first_index(li,si+1,x)\n",
    "    return small_index"
   ]
  },
  {
   "cell_type": "code",
   "execution_count": 4,
   "id": "40be9e54",
   "metadata": {},
   "outputs": [
    {
     "name": "stdout",
     "output_type": "stream",
     "text": [
      "7\n",
      "1 2 4 2 5 7 5\n",
      "4\n"
     ]
    },
    {
     "data": {
      "text/plain": [
       "2"
      ]
     },
     "execution_count": 4,
     "metadata": {},
     "output_type": "execute_result"
    }
   ],
   "source": [
    "n = int(input())\n",
    "li = [int(ele) for ele in input().split()]\n",
    "x = int(input())\n",
    "\n",
    "first_index(li,0,x)"
   ]
  },
  {
   "cell_type": "code",
   "execution_count": null,
   "id": "39d11ae5",
   "metadata": {},
   "outputs": [],
   "source": []
  }
 ],
 "metadata": {
  "kernelspec": {
   "display_name": "Python 3",
   "language": "python",
   "name": "python3"
  },
  "language_info": {
   "codemirror_mode": {
    "name": "ipython",
    "version": 3
   },
   "file_extension": ".py",
   "mimetype": "text/x-python",
   "name": "python",
   "nbconvert_exporter": "python",
   "pygments_lexer": "ipython3",
   "version": "3.8.10"
  }
 },
 "nbformat": 4,
 "nbformat_minor": 5
}
