{
 "cells": [
  {
   "cell_type": "code",
   "execution_count": 3,
   "id": "c2aeb2d5",
   "metadata": {},
   "outputs": [],
   "source": [
    "def checknoinarr(li,x):\n",
    "    length = len(li)\n",
    "    if (length == 0):\n",
    "        return False\n",
    "    if(li[0] == x):\n",
    "        return True\n",
    "    smallerarr = checknoinarr(li[1:],x)\n",
    "    return smallerarr"
   ]
  },
  {
   "cell_type": "code",
   "execution_count": 4,
   "id": "43446ded",
   "metadata": {},
   "outputs": [
    {
     "name": "stdout",
     "output_type": "stream",
     "text": [
      "5\n",
      "1 4 2 8 12\n",
      "9\n"
     ]
    },
    {
     "data": {
      "text/plain": [
       "False"
      ]
     },
     "execution_count": 4,
     "metadata": {},
     "output_type": "execute_result"
    }
   ],
   "source": [
    "n = int(input())\n",
    "li = [int(ele) for ele in input().split()]\n",
    "x = int(input())\n",
    "\n",
    "checknoinarr(li,x)"
   ]
  },
  {
   "cell_type": "code",
   "execution_count": null,
   "id": "77fe4b8f",
   "metadata": {},
   "outputs": [],
   "source": []
  }
 ],
 "metadata": {
  "kernelspec": {
   "display_name": "Python 3",
   "language": "python",
   "name": "python3"
  },
  "language_info": {
   "codemirror_mode": {
    "name": "ipython",
    "version": 3
   },
   "file_extension": ".py",
   "mimetype": "text/x-python",
   "name": "python",
   "nbconvert_exporter": "python",
   "pygments_lexer": "ipython3",
   "version": "3.8.10"
  }
 },
 "nbformat": 4,
 "nbformat_minor": 5
}
