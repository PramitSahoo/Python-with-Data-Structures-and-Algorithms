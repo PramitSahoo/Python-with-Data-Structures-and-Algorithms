{
 "cells": [
  {
   "cell_type": "code",
   "execution_count": 1,
   "id": "24793e73",
   "metadata": {},
   "outputs": [
    {
     "name": "stdout",
     "output_type": "stream",
     "text": [
      "10\n"
     ]
    },
    {
     "data": {
      "text/plain": [
       "55"
      ]
     },
     "execution_count": 1,
     "metadata": {},
     "output_type": "execute_result"
    }
   ],
   "source": [
    "# find the sum of first n natural no\n",
    "n = int(input())\n",
    "\n",
    "def sumofn(n):\n",
    "    if n == 0 or n == 1:\n",
    "        return n\n",
    "    smalloutput = sumofn(n-1)\n",
    "    return n + smalloutput\n",
    "\n",
    "sumofn(n)"
   ]
  },
  {
   "cell_type": "code",
   "execution_count": 2,
   "id": "5aa84863",
   "metadata": {},
   "outputs": [
    {
     "data": {
      "text/plain": [
       "55"
      ]
     },
     "execution_count": 2,
     "metadata": {},
     "output_type": "execute_result"
    }
   ],
   "source": [
    "def sumN(n):\n",
    "    if n == 0:\n",
    "        return 0\n",
    "    smalloutput = sumN(n-1)\n",
    "    return n + smalloutput\n",
    "\n",
    "sumN(10)"
   ]
  },
  {
   "cell_type": "code",
   "execution_count": null,
   "id": "d7369735",
   "metadata": {},
   "outputs": [],
   "source": []
  }
 ],
 "metadata": {
  "kernelspec": {
   "display_name": "Python 3",
   "language": "python",
   "name": "python3"
  },
  "language_info": {
   "codemirror_mode": {
    "name": "ipython",
    "version": 3
   },
   "file_extension": ".py",
   "mimetype": "text/x-python",
   "name": "python",
   "nbconvert_exporter": "python",
   "pygments_lexer": "ipython3",
   "version": "3.8.10"
  }
 },
 "nbformat": 4,
 "nbformat_minor": 5
}
