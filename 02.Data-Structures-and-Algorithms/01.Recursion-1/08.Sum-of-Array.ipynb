{
 "cells": [
  {
   "cell_type": "code",
   "execution_count": 12,
   "id": "4b71acf2",
   "metadata": {},
   "outputs": [],
   "source": [
    "def sumofArr(li):\n",
    "    length = len(li)\n",
    "    if (length == 0):\n",
    "        return 0\n",
    "    if (length == 1):\n",
    "        return li[0]\n",
    "    smallerlist = sumofArr(li[1:])\n",
    "    return li[0] + smallerlist"
   ]
  },
  {
   "cell_type": "code",
   "execution_count": 15,
   "id": "97aeca47",
   "metadata": {},
   "outputs": [
    {
     "name": "stdout",
     "output_type": "stream",
     "text": [
      "3\n",
      "9 8 9\n"
     ]
    },
    {
     "data": {
      "text/plain": [
       "26"
      ]
     },
     "execution_count": 15,
     "metadata": {},
     "output_type": "execute_result"
    }
   ],
   "source": [
    "n = int(input())\n",
    "li = [int(ele) for ele in input().split()]\n",
    "sumofArr(li)"
   ]
  },
  {
   "cell_type": "code",
   "execution_count": null,
   "id": "498062e4",
   "metadata": {},
   "outputs": [],
   "source": []
  }
 ],
 "metadata": {
  "kernelspec": {
   "display_name": "Python 3",
   "language": "python",
   "name": "python3"
  },
  "language_info": {
   "codemirror_mode": {
    "name": "ipython",
    "version": 3
   },
   "file_extension": ".py",
   "mimetype": "text/x-python",
   "name": "python",
   "nbconvert_exporter": "python",
   "pygments_lexer": "ipython3",
   "version": "3.8.10"
  }
 },
 "nbformat": 4,
 "nbformat_minor": 5
}
