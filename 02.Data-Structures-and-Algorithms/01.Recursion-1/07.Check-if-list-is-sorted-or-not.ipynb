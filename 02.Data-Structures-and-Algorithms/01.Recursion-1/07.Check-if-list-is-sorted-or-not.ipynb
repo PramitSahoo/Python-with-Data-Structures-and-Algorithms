{
 "cells": [
  {
   "cell_type": "code",
   "execution_count": 5,
   "id": "4acb61c9",
   "metadata": {},
   "outputs": [],
   "source": [
    "def isSorted(li):\n",
    "    length = len(li)\n",
    "    if (length == 0 or length == 1):\n",
    "        return True\n",
    "    if(li[0] > li[1]):\n",
    "        return False\n",
    "    \n",
    "    smalllist = isSorted(li[1:])\n",
    "    return smalllist\n",
    "#     if smalllist:\n",
    "#         return True\n",
    "#     else:\n",
    "#         return False\n",
    "                      "
   ]
  },
  {
   "cell_type": "code",
   "execution_count": 6,
   "id": "7f284ee7",
   "metadata": {},
   "outputs": [
    {
     "name": "stdout",
     "output_type": "stream",
     "text": [
      "1 2 3 4 5\n"
     ]
    },
    {
     "data": {
      "text/plain": [
       "True"
      ]
     },
     "execution_count": 6,
     "metadata": {},
     "output_type": "execute_result"
    }
   ],
   "source": [
    "li = [int(ele) for ele in input().split()]\n",
    "\n",
    "isSorted(li)"
   ]
  },
  {
   "cell_type": "code",
   "execution_count": null,
   "id": "7038d279",
   "metadata": {},
   "outputs": [],
   "source": []
  }
 ],
 "metadata": {
  "kernelspec": {
   "display_name": "Python 3",
   "language": "python",
   "name": "python3"
  },
  "language_info": {
   "codemirror_mode": {
    "name": "ipython",
    "version": 3
   },
   "file_extension": ".py",
   "mimetype": "text/x-python",
   "name": "python",
   "nbconvert_exporter": "python",
   "pygments_lexer": "ipython3",
   "version": "3.8.10"
  }
 },
 "nbformat": 4,
 "nbformat_minor": 5
}
