{
 "cells": [
  {
   "cell_type": "code",
   "execution_count": 9,
   "id": "94979e81",
   "metadata": {},
   "outputs": [],
   "source": [
    "def replaceChar(st,a,b):\n",
    "    if(len(st) == 0):\n",
    "        return st\n",
    "    smalleroutput = replaceChar(st[1:],a,b)\n",
    "    if st[0] == a:\n",
    "        return b + smalleroutput\n",
    "    else:\n",
    "        return st[0] + smalleroutput\n",
    "    "
   ]
  },
  {
   "cell_type": "code",
   "execution_count": 12,
   "id": "16f8add1",
   "metadata": {},
   "outputs": [
    {
     "data": {
      "text/plain": [
       "'xbxbxdcdhxbx'"
      ]
     },
     "execution_count": 12,
     "metadata": {},
     "output_type": "execute_result"
    }
   ],
   "source": [
    "replaceChar('ababadcdhaba','a','x')"
   ]
  },
  {
   "cell_type": "code",
   "execution_count": null,
   "id": "0305c058",
   "metadata": {},
   "outputs": [],
   "source": []
  }
 ],
 "metadata": {
  "kernelspec": {
   "display_name": "Python 3",
   "language": "python",
   "name": "python3"
  },
  "language_info": {
   "codemirror_mode": {
    "name": "ipython",
    "version": 3
   },
   "file_extension": ".py",
   "mimetype": "text/x-python",
   "name": "python",
   "nbconvert_exporter": "python",
   "pygments_lexer": "ipython3",
   "version": "3.8.10"
  }
 },
 "nbformat": 4,
 "nbformat_minor": 5
}
