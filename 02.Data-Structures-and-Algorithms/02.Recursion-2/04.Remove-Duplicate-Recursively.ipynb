{
 "cells": [
  {
   "cell_type": "code",
   "execution_count": 55,
   "id": "a41535b1",
   "metadata": {},
   "outputs": [],
   "source": [
    "# remove consecutive duplicates\n",
    "def removeDupli(st):\n",
    "    if(len(st) == 0 or len(st)==1 ):\n",
    "        return st\n",
    "    \n",
    "    if(st[0] == st[1]):\n",
    "        smalloutput = removeDupli(st[1:])\n",
    "        return smalloutput\n",
    "    else:\n",
    "        smallerop = removeDupli(st[1:])\n",
    "        return st[0] + smallerop"
   ]
  },
  {
   "cell_type": "code",
   "execution_count": 56,
   "id": "f85cbcdc",
   "metadata": {},
   "outputs": [
    {
     "data": {
      "text/plain": [
       "'xyzwz'"
      ]
     },
     "execution_count": 56,
     "metadata": {},
     "output_type": "execute_result"
    }
   ],
   "source": [
    "removeDupli('xxxyyyzwwzzz')"
   ]
  },
  {
   "cell_type": "code",
   "execution_count": null,
   "id": "0c1dedf9",
   "metadata": {},
   "outputs": [],
   "source": []
  },
  {
   "cell_type": "code",
   "execution_count": null,
   "id": "7cc36e73",
   "metadata": {},
   "outputs": [],
   "source": []
  }
 ],
 "metadata": {
  "kernelspec": {
   "display_name": "Python 3",
   "language": "python",
   "name": "python3"
  },
  "language_info": {
   "codemirror_mode": {
    "name": "ipython",
    "version": 3
   },
   "file_extension": ".py",
   "mimetype": "text/x-python",
   "name": "python",
   "nbconvert_exporter": "python",
   "pygments_lexer": "ipython3",
   "version": "3.8.10"
  }
 },
 "nbformat": 4,
 "nbformat_minor": 5
}
