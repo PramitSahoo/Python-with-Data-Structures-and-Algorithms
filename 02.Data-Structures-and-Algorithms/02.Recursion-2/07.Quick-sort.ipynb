{
 "cells": [
  {
   "cell_type": "code",
   "execution_count": 5,
   "id": "aada0b8c",
   "metadata": {},
   "outputs": [],
   "source": [
    "def partition(li,si,ei):\n",
    "    pivot = li[si]\n",
    "    # find no of ele smaller than pivot\n",
    "    count = 0\n",
    "    for i in range(si,ei+1):\n",
    "        if(li[i] < pivot):\n",
    "            count = count + 1\n",
    "    li[si+count],li[si] = li[si],li[si+count]\n",
    "    pivot_index = si+count\n",
    "    \n",
    "    i = si\n",
    "    j = ei\n",
    "    while(i < j):\n",
    "        if(li[i] < pivot):\n",
    "            i += 1\n",
    "        elif(li[j] >= pivot):\n",
    "            j -= 1\n",
    "        else:\n",
    "            li[i],li[j] = li[j],li[i]\n",
    "            i += 1\n",
    "            j -= 1\n",
    "    return pivot_index"
   ]
  },
  {
   "cell_type": "code",
   "execution_count": 6,
   "id": "5faeaf20",
   "metadata": {},
   "outputs": [],
   "source": [
    "def quick_sort(li,si,ei):\n",
    "    if (si >= ei):\n",
    "        return \n",
    "    pivot_index = partition(li,si,ei)\n",
    "    quick_sort(li,si,pivot_index-1)\n",
    "    quick_sort(li,pivot_index+1,ei)"
   ]
  },
  {
   "cell_type": "code",
   "execution_count": 7,
   "id": "ae002dd0",
   "metadata": {},
   "outputs": [
    {
     "data": {
      "text/plain": [
       "[1, 2, 3, 4, 5, 6, 7, 8, 9, 10]"
      ]
     },
     "execution_count": 7,
     "metadata": {},
     "output_type": "execute_result"
    }
   ],
   "source": [
    "a = [6,10,9,8,7,1,3,5,4,2]\n",
    "quick_sort(a,0,len(a)-1)\n",
    "a"
   ]
  },
  {
   "cell_type": "code",
   "execution_count": null,
   "id": "e6c8c21e",
   "metadata": {},
   "outputs": [],
   "source": []
  }
 ],
 "metadata": {
  "kernelspec": {
   "display_name": "Python 3",
   "language": "python",
   "name": "python3"
  },
  "language_info": {
   "codemirror_mode": {
    "name": "ipython",
    "version": 3
   },
   "file_extension": ".py",
   "mimetype": "text/x-python",
   "name": "python",
   "nbconvert_exporter": "python",
   "pygments_lexer": "ipython3",
   "version": "3.8.10"
  }
 },
 "nbformat": 4,
 "nbformat_minor": 5
}
