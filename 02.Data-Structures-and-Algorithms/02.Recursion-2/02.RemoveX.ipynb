{
 "cells": [
  {
   "cell_type": "code",
   "execution_count": 1,
   "id": "5441ddca",
   "metadata": {},
   "outputs": [],
   "source": [
    "def removeX(st):\n",
    "    if(len(st) == 0):\n",
    "        return st\n",
    "    smallerstr = removeX(st[1:])\n",
    "    if st[0] == 'x':\n",
    "        return \"\"+smallerstr\n",
    "    else:\n",
    "        return st[0]+smallerstr"
   ]
  },
  {
   "cell_type": "code",
   "execution_count": 5,
   "id": "2095bd57",
   "metadata": {},
   "outputs": [
    {
     "name": "stdout",
     "output_type": "stream",
     "text": [
      "abc\n",
      "abc\n"
     ]
    }
   ],
   "source": [
    "str = input()\n",
    "print(removeX(str))"
   ]
  },
  {
   "cell_type": "code",
   "execution_count": null,
   "id": "74fb194c",
   "metadata": {},
   "outputs": [],
   "source": []
  }
 ],
 "metadata": {
  "kernelspec": {
   "display_name": "Python 3",
   "language": "python",
   "name": "python3"
  },
  "language_info": {
   "codemirror_mode": {
    "name": "ipython",
    "version": 3
   },
   "file_extension": ".py",
   "mimetype": "text/x-python",
   "name": "python",
   "nbconvert_exporter": "python",
   "pygments_lexer": "ipython3",
   "version": "3.8.10"
  }
 },
 "nbformat": 4,
 "nbformat_minor": 5
}
