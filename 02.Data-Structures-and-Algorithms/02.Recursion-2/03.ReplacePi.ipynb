{
 "cells": [
  {
   "cell_type": "code",
   "execution_count": 3,
   "id": "23bcf194",
   "metadata": {},
   "outputs": [],
   "source": [
    "def replacePi(st):\n",
    "    if (len(st) == 0):\n",
    "        return st\n",
    "    \n",
    "    if(st[0]=='p' and st[1]=='i'):\n",
    "        smallerstr = replacePi(st[2:])\n",
    "        return '3.14'+smallerstr\n",
    "    else:\n",
    "        smallstr = replacePi(st[1:])\n",
    "        return st[0]+smallstr"
   ]
  },
  {
   "cell_type": "code",
   "execution_count": 4,
   "id": "bdec63f4",
   "metadata": {},
   "outputs": [
    {
     "name": "stdout",
     "output_type": "stream",
     "text": [
      "piabcd\n",
      "3.14abcd\n"
     ]
    }
   ],
   "source": [
    "str = input()\n",
    "print(replacePi(str))"
   ]
  },
  {
   "cell_type": "code",
   "execution_count": null,
   "id": "ed43e341",
   "metadata": {},
   "outputs": [],
   "source": []
  }
 ],
 "metadata": {
  "kernelspec": {
   "display_name": "Python 3",
   "language": "python",
   "name": "python3"
  },
  "language_info": {
   "codemirror_mode": {
    "name": "ipython",
    "version": 3
   },
   "file_extension": ".py",
   "mimetype": "text/x-python",
   "name": "python",
   "nbconvert_exporter": "python",
   "pygments_lexer": "ipython3",
   "version": "3.8.10"
  }
 },
 "nbformat": 4,
 "nbformat_minor": 5
}
