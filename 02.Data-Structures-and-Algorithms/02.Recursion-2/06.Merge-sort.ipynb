{
 "cells": [
  {
   "cell_type": "code",
   "execution_count": 15,
   "id": "26d35c76",
   "metadata": {},
   "outputs": [],
   "source": [
    "def merge(li1,li2,li):\n",
    "    i = 0\n",
    "    j = 0\n",
    "    k = 0\n",
    "    while(i<len(li1) and j <len(li2)):\n",
    "        if(li1[i] < li2[j]):\n",
    "            li[k] = li1[i]\n",
    "            k += 1\n",
    "            i += 1\n",
    "        else:\n",
    "            li[k] = li2[j]\n",
    "            k += 1\n",
    "            j += 1\n",
    "    while i < len(li1):\n",
    "        li[k] = li1[i]\n",
    "        k += 1\n",
    "        i += 1\n",
    "    while j < len(li2):\n",
    "        li[k] = li2[j]\n",
    "        k += 1\n",
    "        j += 1"
   ]
  },
  {
   "cell_type": "code",
   "execution_count": 16,
   "id": "dabb5945",
   "metadata": {},
   "outputs": [],
   "source": [
    "def merge_sort(li):\n",
    "    if (len(li) == 0 or len(li) == 1):\n",
    "        return\n",
    "    mid = len(li)//2\n",
    "    li1 = li[0:mid]\n",
    "    li2 = li[mid:]\n",
    "    \n",
    "    merge_sort(li1)\n",
    "    merge_sort(li2)\n",
    "    \n",
    "    merge(li1,li2,li)"
   ]
  },
  {
   "cell_type": "code",
   "execution_count": 17,
   "id": "f1609238",
   "metadata": {},
   "outputs": [
    {
     "data": {
      "text/plain": [
       "[0, 1, 2, 3, 4, 5, 5, 6, 7]"
      ]
     },
     "execution_count": 17,
     "metadata": {},
     "output_type": "execute_result"
    }
   ],
   "source": [
    "li = [1,0,5,2,4,3,5,7,6]\n",
    "merge_sort(li)\n",
    "li"
   ]
  },
  {
   "cell_type": "code",
   "execution_count": null,
   "id": "a2cb9688",
   "metadata": {},
   "outputs": [],
   "source": []
  }
 ],
 "metadata": {
  "kernelspec": {
   "display_name": "Python 3",
   "language": "python",
   "name": "python3"
  },
  "language_info": {
   "codemirror_mode": {
    "name": "ipython",
    "version": 3
   },
   "file_extension": ".py",
   "mimetype": "text/x-python",
   "name": "python",
   "nbconvert_exporter": "python",
   "pygments_lexer": "ipython3",
   "version": "3.8.10"
  }
 },
 "nbformat": 4,
 "nbformat_minor": 5
}
