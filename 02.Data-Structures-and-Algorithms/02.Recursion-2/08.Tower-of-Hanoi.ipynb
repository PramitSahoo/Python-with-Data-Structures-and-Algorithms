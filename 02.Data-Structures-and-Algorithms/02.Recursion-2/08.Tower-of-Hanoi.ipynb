{
 "cells": [
  {
   "cell_type": "code",
   "execution_count": 4,
   "id": "d7265ac4",
   "metadata": {},
   "outputs": [],
   "source": [
    "def towerof_hanoi(n,a,b,c): # a - source, b - helper, c-destination\n",
    "    if(n == 1):\n",
    "        print(\"move 1st disk from \",a,\"to\",c) \n",
    "        return\n",
    "    towerof_hanoi(n-1,a,c,b)    # we are moving n-1 from a to b using c\n",
    "    print(\"move\",n,\"th disk from\",a,\"to\",c)\n",
    "    towerof_hanoi(n-1,b,a,c)\n"
   ]
  },
  {
   "cell_type": "code",
   "execution_count": 6,
   "id": "0068eb5c",
   "metadata": {},
   "outputs": [
    {
     "name": "stdout",
     "output_type": "stream",
     "text": [
      "move 1st disk from  s to h\n",
      "move 2 th disk from s to d\n",
      "move 1st disk from  h to d\n",
      "move 3 th disk from s to h\n",
      "move 1st disk from  d to s\n",
      "move 2 th disk from d to h\n",
      "move 1st disk from  s to h\n",
      "move 4 th disk from s to d\n",
      "move 1st disk from  h to d\n",
      "move 2 th disk from h to s\n",
      "move 1st disk from  d to s\n",
      "move 3 th disk from h to d\n",
      "move 1st disk from  s to h\n",
      "move 2 th disk from s to d\n",
      "move 1st disk from  h to d\n"
     ]
    }
   ],
   "source": [
    "towerof_hanoi(4,\"s\",\"h\",\"d\")"
   ]
  },
  {
   "cell_type": "code",
   "execution_count": null,
   "id": "0b82c899",
   "metadata": {},
   "outputs": [],
   "source": []
  }
 ],
 "metadata": {
  "kernelspec": {
   "display_name": "Python 3",
   "language": "python",
   "name": "python3"
  },
  "language_info": {
   "codemirror_mode": {
    "name": "ipython",
    "version": 3
   },
   "file_extension": ".py",
   "mimetype": "text/x-python",
   "name": "python",
   "nbconvert_exporter": "python",
   "pygments_lexer": "ipython3",
   "version": "3.8.10"
  }
 },
 "nbformat": 4,
 "nbformat_minor": 5
}
