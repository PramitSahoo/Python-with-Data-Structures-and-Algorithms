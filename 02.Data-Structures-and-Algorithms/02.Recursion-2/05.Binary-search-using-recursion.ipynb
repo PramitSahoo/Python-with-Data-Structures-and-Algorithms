{
 "cells": [
  {
   "cell_type": "code",
   "execution_count": 4,
   "id": "1b8209e4",
   "metadata": {},
   "outputs": [],
   "source": [
    "def binary_search(li,x,si,ei):\n",
    "    if (si > ei):\n",
    "        return -1\n",
    "    mid = (si + ei)//2\n",
    "    if(li[mid] == x):\n",
    "        return mid\n",
    "    elif(li[mid] > x):\n",
    "        return binary_search(li,x,si,mid-1)\n",
    "    else:\n",
    "        return binary_search(li,x,mid+1,ei)\n",
    "        "
   ]
  },
  {
   "cell_type": "code",
   "execution_count": 8,
   "id": "06c770a4",
   "metadata": {},
   "outputs": [
    {
     "name": "stdout",
     "output_type": "stream",
     "text": [
      "4\n",
      "1 2 3 4\n",
      "8\n",
      "-1\n"
     ]
    }
   ],
   "source": [
    "n = int(input())\n",
    "li = [int(ele) for ele in input().split()]\n",
    "x = int(input())\n",
    "\n",
    "print(binary_search(li,x,0,len(li)-1))"
   ]
  },
  {
   "cell_type": "code",
   "execution_count": null,
   "id": "7f90e852",
   "metadata": {},
   "outputs": [],
   "source": []
  }
 ],
 "metadata": {
  "kernelspec": {
   "display_name": "Python 3",
   "language": "python",
   "name": "python3"
  },
  "language_info": {
   "codemirror_mode": {
    "name": "ipython",
    "version": 3
   },
   "file_extension": ".py",
   "mimetype": "text/x-python",
   "name": "python",
   "nbconvert_exporter": "python",
   "pygments_lexer": "ipython3",
   "version": "3.8.10"
  }
 },
 "nbformat": 4,
 "nbformat_minor": 5
}
