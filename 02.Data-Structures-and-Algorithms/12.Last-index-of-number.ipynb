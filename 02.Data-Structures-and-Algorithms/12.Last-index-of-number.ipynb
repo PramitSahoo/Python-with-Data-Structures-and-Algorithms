{
 "cells": [
  {
   "cell_type": "code",
   "execution_count": 4,
   "id": "c71ac176",
   "metadata": {},
   "outputs": [],
   "source": [
    "def last_index(li,si,x):\n",
    "    if(si == len(li)):\n",
    "        return -1\n",
    "   \n",
    "    smaller_index = last_index(li,si+1,x)\n",
    "    if smaller_index != -1:\n",
    "        return smaller_index\n",
    "    else:\n",
    "        if (li[si] == x):\n",
    "            return si\n",
    "        else:\n",
    "            return -1"
   ]
  },
  {
   "cell_type": "code",
   "execution_count": 5,
   "id": "413cfa3b",
   "metadata": {},
   "outputs": [
    {
     "name": "stdout",
     "output_type": "stream",
     "text": [
      "3\n",
      "9 8 9 \n",
      "9\n"
     ]
    },
    {
     "data": {
      "text/plain": [
       "2"
      ]
     },
     "execution_count": 5,
     "metadata": {},
     "output_type": "execute_result"
    }
   ],
   "source": [
    "n = int(input())\n",
    "li = [int(ele) for ele in input().split()]\n",
    "x = int(input())\n",
    "\n",
    "last_index(li,0,x)"
   ]
  },
  {
   "cell_type": "code",
   "execution_count": null,
   "id": "19fa701a",
   "metadata": {},
   "outputs": [],
   "source": []
  }
 ],
 "metadata": {
  "kernelspec": {
   "display_name": "Python 3",
   "language": "python",
   "name": "python3"
  },
  "language_info": {
   "codemirror_mode": {
    "name": "ipython",
    "version": 3
   },
   "file_extension": ".py",
   "mimetype": "text/x-python",
   "name": "python",
   "nbconvert_exporter": "python",
   "pygments_lexer": "ipython3",
   "version": "3.8.10"
  }
 },
 "nbformat": 4,
 "nbformat_minor": 5
}
