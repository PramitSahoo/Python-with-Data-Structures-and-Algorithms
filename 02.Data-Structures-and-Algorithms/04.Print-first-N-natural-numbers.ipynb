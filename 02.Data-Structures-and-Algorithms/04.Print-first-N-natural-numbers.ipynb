{
 "cells": [
  {
   "cell_type": "code",
   "execution_count": 2,
   "id": "57929f03",
   "metadata": {},
   "outputs": [],
   "source": [
    "def print_1_to_n(n):\n",
    "    if (n== 0):\n",
    "        return \n",
    "    print_1_to_n(n-1)\n",
    "    print(n)\n",
    "    return"
   ]
  },
  {
   "cell_type": "code",
   "execution_count": 3,
   "id": "6d718533",
   "metadata": {},
   "outputs": [
    {
     "name": "stdout",
     "output_type": "stream",
     "text": [
      "10\n",
      "1\n",
      "2\n",
      "3\n",
      "4\n",
      "5\n",
      "6\n",
      "7\n",
      "8\n",
      "9\n",
      "10\n"
     ]
    }
   ],
   "source": [
    "n = int(input())\n",
    "print_1_to_n(n)"
   ]
  },
  {
   "cell_type": "code",
   "execution_count": 4,
   "id": "51613f5d",
   "metadata": {},
   "outputs": [],
   "source": [
    "# print no from n to 1\n",
    "def print_n_to_1(n):\n",
    "    if n == 0:\n",
    "        return\n",
    "    print(n)\n",
    "    print_n_to_1(n-1)\n",
    "    return"
   ]
  },
  {
   "cell_type": "code",
   "execution_count": 6,
   "id": "999e31b9",
   "metadata": {},
   "outputs": [
    {
     "name": "stdout",
     "output_type": "stream",
     "text": [
      "10\n",
      "10\n",
      "9\n",
      "8\n",
      "7\n",
      "6\n",
      "5\n",
      "4\n",
      "3\n",
      "2\n",
      "1\n"
     ]
    }
   ],
   "source": [
    "n = int(input())\n",
    "print_n_to_1(n)"
   ]
  },
  {
   "cell_type": "code",
   "execution_count": null,
   "id": "bb70ea75",
   "metadata": {},
   "outputs": [],
   "source": []
  }
 ],
 "metadata": {
  "kernelspec": {
   "display_name": "Python 3",
   "language": "python",
   "name": "python3"
  },
  "language_info": {
   "codemirror_mode": {
    "name": "ipython",
    "version": 3
   },
   "file_extension": ".py",
   "mimetype": "text/x-python",
   "name": "python",
   "nbconvert_exporter": "python",
   "pygments_lexer": "ipython3",
   "version": "3.8.10"
  }
 },
 "nbformat": 4,
 "nbformat_minor": 5
}
