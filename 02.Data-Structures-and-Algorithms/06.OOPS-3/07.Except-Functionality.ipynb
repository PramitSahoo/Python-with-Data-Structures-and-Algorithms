{
 "cells": [
  {
   "cell_type": "code",
   "execution_count": 4,
   "id": "b4340f2a",
   "metadata": {},
   "outputs": [
    {
     "name": "stdout",
     "output_type": "stream",
     "text": [
      "Enter the numerator: 5\n",
      "Enter the denominator: 0\n",
      "Division by zero is not allowed\n",
      "Enter the numerator: 5\n",
      "Enter the denominator: 2\n",
      "Hi\n",
      "2.5\n"
     ]
    }
   ],
   "source": [
    "class ZeroDenomError(ZeroDivisionError):\n",
    "    pass\n",
    "while(True):\n",
    "    try:\n",
    "        n = input(\"Enter the numerator: \")\n",
    "        num = int(n)\n",
    "        n = input(\"Enter the denominator: \")\n",
    "        denom = int(n)\n",
    "        if(denom == 0):\n",
    "            raise ZeroDenomError(\"Denominator should not be zero\")\n",
    "        print(\"Hi\")\n",
    "        value = num / denom\n",
    "        print(value)\n",
    "        break\n",
    "    except ValueError:\n",
    "         print(\"Numerator and denominator should be int\")\n",
    "    except ZeroDivisionError:\n",
    "        print(\"Division by zero is not allowed\")\n",
    "    except ZeroDenomError:\n",
    "        print(\"ZeroDenominator Error is raised\")\n",
    "    except: # we should give the default at last\n",
    "        print(\"Some exception is raised\")\n",
    "# we are inheriting from ZeroDivisionError .. this class is parent of zerodenomerror .. so this will execute\n",
    "# if we change the order means if we do zerodenomerror before zerodivisionerror then zerodenomerror will be executed"
   ]
  },
  {
   "cell_type": "code",
   "execution_count": null,
   "id": "9cb40d16",
   "metadata": {},
   "outputs": [],
   "source": []
  }
 ],
 "metadata": {
  "kernelspec": {
   "display_name": "Python 3",
   "language": "python",
   "name": "python3"
  },
  "language_info": {
   "codemirror_mode": {
    "name": "ipython",
    "version": 3
   },
   "file_extension": ".py",
   "mimetype": "text/x-python",
   "name": "python",
   "nbconvert_exporter": "python",
   "pygments_lexer": "ipython3",
   "version": "3.8.10"
  }
 },
 "nbformat": 4,
 "nbformat_minor": 5
}
