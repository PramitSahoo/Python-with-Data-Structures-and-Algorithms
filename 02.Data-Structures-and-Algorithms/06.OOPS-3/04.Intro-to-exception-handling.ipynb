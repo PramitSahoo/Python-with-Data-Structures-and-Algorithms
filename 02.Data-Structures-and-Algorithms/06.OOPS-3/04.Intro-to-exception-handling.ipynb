{
 "cells": [
  {
   "cell_type": "code",
   "execution_count": 10,
   "id": "a9801a22",
   "metadata": {},
   "outputs": [
    {
     "name": "stdout",
     "output_type": "stream",
     "text": [
      "Enter the numerator: a\n",
      "Numerator and denominator should be int\n",
      "Enter the numerator: 5\n",
      "Enter the denominator: 5\n",
      "1.0\n"
     ]
    }
   ],
   "source": [
    "while(True):\n",
    "    try:\n",
    "        n = input(\"Enter the numerator: \")\n",
    "        num = int(n)\n",
    "        n = input(\"Enter the denominator: \")\n",
    "        denom = int(n)\n",
    "\n",
    "        value = num / denom\n",
    "        print(value)\n",
    "        break\n",
    "    # except ValueError:\n",
    "    #     print(\"Numerator and denominator should be int\")\n",
    "    # if you dont specify any errors it will automatically handle the error\n",
    "    except:\n",
    "        print(\"Numerator and denominator should be int\")\n"
   ]
  },
  {
   "cell_type": "code",
   "execution_count": null,
   "id": "cd36d65c",
   "metadata": {},
   "outputs": [],
   "source": []
  },
  {
   "cell_type": "code",
   "execution_count": null,
   "id": "934ab21d",
   "metadata": {},
   "outputs": [],
   "source": []
  }
 ],
 "metadata": {
  "kernelspec": {
   "display_name": "Python 3",
   "language": "python",
   "name": "python3"
  },
  "language_info": {
   "codemirror_mode": {
    "name": "ipython",
    "version": 3
   },
   "file_extension": ".py",
   "mimetype": "text/x-python",
   "name": "python",
   "nbconvert_exporter": "python",
   "pygments_lexer": "ipython3",
   "version": "3.8.10"
  }
 },
 "nbformat": 4,
 "nbformat_minor": 5
}
