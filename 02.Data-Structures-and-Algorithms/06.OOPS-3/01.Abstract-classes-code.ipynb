{
 "cells": [
  {
   "cell_type": "code",
   "execution_count": 11,
   "id": "c90f25d7",
   "metadata": {},
   "outputs": [],
   "source": [
    "from abc import ABC,abstractmethod"
   ]
  },
  {
   "cell_type": "code",
   "execution_count": 12,
   "id": "b4e9a4b0",
   "metadata": {},
   "outputs": [],
   "source": [
    "class Automobile(ABC):\n",
    "    def __init__(self):\n",
    "        print(\"Automobile Created\")\n",
    "         \n",
    "    @abstractmethod   # if you have any abstractmethods then you can not create an object of that class\n",
    "    def start(self):\n",
    "        pass\n",
    "    @abstractmethod\n",
    "    def stop(self):\n",
    "        pass\n",
    "    @abstractmethod\n",
    "    def drive(self):\n",
    "        pass"
   ]
  },
  {
   "cell_type": "code",
   "execution_count": 13,
   "id": "d572246f",
   "metadata": {},
   "outputs": [],
   "source": [
    "# c = Automobile()\n",
    "class Car(Automobile):\n",
    "    def __init__(self,name):\n",
    "        print(\"Car Created\")\n",
    "        self.name = name\n",
    "    # you need to implement every function\n",
    "    def start(self):\n",
    "        pass\n",
    "    \n",
    "    def stop(self):\n",
    "        pass\n",
    "    \n",
    "    def drive(self):\n",
    "        pass"
   ]
  },
  {
   "cell_type": "code",
   "execution_count": 14,
   "id": "201ee1c1",
   "metadata": {},
   "outputs": [
    {
     "name": "stdout",
     "output_type": "stream",
     "text": [
      "Car Created\n"
     ]
    }
   ],
   "source": [
    "c = Car(\"Honda\")"
   ]
  },
  {
   "cell_type": "code",
   "execution_count": 19,
   "id": "95d4cce3",
   "metadata": {},
   "outputs": [],
   "source": [
    "class Car1(Automobile):\n",
    "#     def __init__(self,name):\n",
    "#         print(\"Car Created\")\n",
    "#         self.name = name\n",
    "#     # you need to implement every function\n",
    "    def start(self):\n",
    "        pass\n",
    "    \n",
    "    def stop(self):\n",
    "        pass\n",
    "    \n",
    "    def drive(self):\n",
    "        pass"
   ]
  },
  {
   "cell_type": "code",
   "execution_count": 22,
   "id": "9718afa4",
   "metadata": {},
   "outputs": [
    {
     "name": "stdout",
     "output_type": "stream",
     "text": [
      "Automobile Created\n"
     ]
    }
   ],
   "source": [
    "d = Car1()"
   ]
  },
  {
   "cell_type": "code",
   "execution_count": 27,
   "id": "a2aa87c4",
   "metadata": {},
   "outputs": [],
   "source": [
    "class Bus(Automobile):\n",
    "    def __init__(self,name):\n",
    "        print(\"Bus Created\")\n",
    "        self.name = name\n",
    "    # objects of abstract class cannot be created\n",
    "    # implement all the abstract method in the child class\n",
    "    def start(self):\n",
    "        pass\n",
    "    \n",
    "    def stop(self):\n",
    "        pass\n",
    "    \n",
    "    def drive(self):\n",
    "        pass"
   ]
  },
  {
   "cell_type": "code",
   "execution_count": 28,
   "id": "99365154",
   "metadata": {},
   "outputs": [
    {
     "name": "stdout",
     "output_type": "stream",
     "text": [
      "Bus Created\n"
     ]
    }
   ],
   "source": [
    "B = Bus(\"Delhi\")"
   ]
  },
  {
   "cell_type": "code",
   "execution_count": null,
   "id": "ac37ba24",
   "metadata": {},
   "outputs": [],
   "source": []
  }
 ],
 "metadata": {
  "kernelspec": {
   "display_name": "Python 3",
   "language": "python",
   "name": "python3"
  },
  "language_info": {
   "codemirror_mode": {
    "name": "ipython",
    "version": 3
   },
   "file_extension": ".py",
   "mimetype": "text/x-python",
   "name": "python",
   "nbconvert_exporter": "python",
   "pygments_lexer": "ipython3",
   "version": "3.8.10"
  }
 },
 "nbformat": 4,
 "nbformat_minor": 5
}
