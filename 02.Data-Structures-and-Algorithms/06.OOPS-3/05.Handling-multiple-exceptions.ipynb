{
 "cells": [
  {
   "cell_type": "code",
   "execution_count": 4,
   "id": "4c0a1994",
   "metadata": {},
   "outputs": [
    {
     "name": "stdout",
     "output_type": "stream",
     "text": [
      "Enter the numerator: 5\n",
      "Enter the denominator: 0\n",
      "Numerator and denominator should be integer and Denominator should not be zero\n",
      "Enter the numerator: 5\n",
      "Enter the denominator: 2\n",
      "2.5\n"
     ]
    }
   ],
   "source": [
    "while(True):\n",
    "    try:\n",
    "        n = input(\"Enter the numerator: \")\n",
    "        num = int(n)\n",
    "        n = input(\"Enter the denominator: \")\n",
    "        denom = int(n)\n",
    "\n",
    "        value = num / denom\n",
    "        print(value)\n",
    "        break\n",
    "#     except ValueError:\n",
    "#         print(\"Numerator and denominator should be int\")\n",
    "#     except ZeroDivisionError:\n",
    "#         print(\"Denominator should not be zero\")\n",
    "    except (ValueError,ZeroDivisionError):\n",
    "        print(\"Numerator and denominator should be integer and Denominator should not be zero\")"
   ]
  },
  {
   "cell_type": "code",
   "execution_count": null,
   "id": "4bbce00d",
   "metadata": {},
   "outputs": [],
   "source": []
  }
 ],
 "metadata": {
  "kernelspec": {
   "display_name": "Python 3",
   "language": "python",
   "name": "python3"
  },
  "language_info": {
   "codemirror_mode": {
    "name": "ipython",
    "version": 3
   },
   "file_extension": ".py",
   "mimetype": "text/x-python",
   "name": "python",
   "nbconvert_exporter": "python",
   "pygments_lexer": "ipython3",
   "version": "3.8.10"
  }
 },
 "nbformat": 4,
 "nbformat_minor": 5
}
