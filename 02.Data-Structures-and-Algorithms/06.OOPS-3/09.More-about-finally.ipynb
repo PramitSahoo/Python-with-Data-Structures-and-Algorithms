{
 "cells": [
  {
   "cell_type": "code",
   "execution_count": 5,
   "id": "6d82447a",
   "metadata": {},
   "outputs": [
    {
     "name": "stdout",
     "output_type": "stream",
     "text": [
      "Enter the numerator: 5\n",
      "Enter the denominator: 0\n",
      "Division by zero is not allowed\n",
      "5\n",
      "0\n",
      "2.5\n",
      "Exception may or may not be raised\n",
      "Enter the numerator: 5\n",
      "Enter the denominator: 2\n",
      "2.5\n",
      "5\n",
      "2\n",
      "2.5\n",
      "Exception may or may not be raised\n"
     ]
    }
   ],
   "source": [
    "class ZeroDenomError(ZeroDivisionError):\n",
    "    pass\n",
    "while(True):\n",
    "    try:\n",
    "        n = input(\"Enter the numerator: \")\n",
    "        num = int(n)\n",
    "        n = input(\"Enter the denominator: \")\n",
    "        denom = int(n)\n",
    "        if(denom == 0):\n",
    "            raise ZeroDenomError(\"Denominator should not be zero\")\n",
    "        value = num / denom\n",
    "    except ValueError:\n",
    "         print(\"Numerator and denominator should be int\")\n",
    "    except ZeroDivisionError:\n",
    "        print(\"Division by zero is not allowed\")\n",
    "    except ZeroDenomError:\n",
    "        print(\"ZeroDenominator Error is raised\")\n",
    "    except: \n",
    "        print(\"Some exception is raised\")\n",
    "    \n",
    "    else: \n",
    "        print(value)\n",
    "        break\n",
    "    finally:\n",
    "        print(num)\n",
    "        print(denom)\n",
    "        print(value)\n",
    "        print('Exception may or may not be raised')"
   ]
  },
  {
   "cell_type": "code",
   "execution_count": null,
   "id": "9af5b32c",
   "metadata": {},
   "outputs": [],
   "source": []
  }
 ],
 "metadata": {
  "kernelspec": {
   "display_name": "Python 3",
   "language": "python",
   "name": "python3"
  },
  "language_info": {
   "codemirror_mode": {
    "name": "ipython",
    "version": 3
   },
   "file_extension": ".py",
   "mimetype": "text/x-python",
   "name": "python",
   "nbconvert_exporter": "python",
   "pygments_lexer": "ipython3",
   "version": "3.8.10"
  }
 },
 "nbformat": 4,
 "nbformat_minor": 5
}
