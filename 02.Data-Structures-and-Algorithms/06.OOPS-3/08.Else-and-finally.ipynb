{
 "cells": [
  {
   "cell_type": "code",
   "execution_count": 4,
   "id": "7e05944c",
   "metadata": {},
   "outputs": [
    {
     "name": "stdout",
     "output_type": "stream",
     "text": [
      "Enter the numerator: 5\n",
      "Enter the denominator: 0\n",
      "Division by zero is not allowed\n",
      "Exception may or may not be raised\n",
      "Enter the numerator: 5\n",
      "Enter the denominator: 2\n",
      "2.5\n",
      "Exception may or may not be raised\n"
     ]
    }
   ],
   "source": [
    "class ZeroDenomError(ZeroDivisionError):\n",
    "    pass\n",
    "while(True):\n",
    "    try:\n",
    "        n = input(\"Enter the numerator: \")\n",
    "        num = int(n)\n",
    "        n = input(\"Enter the denominator: \")\n",
    "        denom = int(n)\n",
    "        if(denom == 0):\n",
    "            raise ZeroDenomError(\"Denominator should not be zero\")\n",
    "        value = num / denom\n",
    "#         print(value)\n",
    "#         break\n",
    "    except ValueError:\n",
    "         print(\"Numerator and denominator should be int\")\n",
    "    except ZeroDivisionError:\n",
    "        print(\"Division by zero is not allowed\")\n",
    "    except ZeroDenomError:\n",
    "        print(\"ZeroDenominator Error is raised\")\n",
    "    except: \n",
    "        print(\"Some exception is raised\")\n",
    "    \n",
    "    else: # if you dont get any exception then else will be executed\n",
    "        print(value)\n",
    "        break\n",
    "    finally: # if you have/don't have any exception , it will get executed\n",
    "        print('Exception may or may not be raised')"
   ]
  },
  {
   "cell_type": "code",
   "execution_count": null,
   "id": "b9a9b941",
   "metadata": {},
   "outputs": [],
   "source": []
  }
 ],
 "metadata": {
  "kernelspec": {
   "display_name": "Python 3",
   "language": "python",
   "name": "python3"
  },
  "language_info": {
   "codemirror_mode": {
    "name": "ipython",
    "version": 3
   },
   "file_extension": ".py",
   "mimetype": "text/x-python",
   "name": "python",
   "nbconvert_exporter": "python",
   "pygments_lexer": "ipython3",
   "version": "3.8.10"
  }
 },
 "nbformat": 4,
 "nbformat_minor": 5
}
