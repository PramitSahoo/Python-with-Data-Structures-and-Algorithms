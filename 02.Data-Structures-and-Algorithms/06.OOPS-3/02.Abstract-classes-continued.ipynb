{
 "cells": [
  {
   "cell_type": "code",
   "execution_count": 21,
   "id": "8b7e0fdc",
   "metadata": {},
   "outputs": [],
   "source": [
    "from abc import ABC,abstractmethod\n",
    "\n",
    "class Automobile(ABC):\n",
    "    def __init__(self,no_of_wheels):\n",
    "        self.no_of_wheels = no_of_wheels\n",
    "        print(\"Automobile Created\")\n",
    "         \n",
    "    @abstractmethod   # if you have any abstractmethods then you can not create an object of that class\n",
    "    def start(self):\n",
    "        print(\"Start of automobile called\")\n",
    "    @abstractmethod\n",
    "    def stop(self):\n",
    "        pass\n",
    "    @abstractmethod\n",
    "    def drive(self):\n",
    "        pass\n",
    "    @abstractmethod\n",
    "    def get_no_of_wheels(self):\n",
    "        return self.no_of_wheels\n",
    "class Car(Automobile):\n",
    "#     def __init__(self,name):\n",
    "#         print(\"Car Created\")\n",
    "#         self.name = name\n",
    "#     # you need to implement every function\n",
    "    def start(self):\n",
    "        super().start()\n",
    "        print(\"Start of Car called\")\n",
    "    \n",
    "    def stop(self):\n",
    "        pass\n",
    "    \n",
    "    def drive(self):\n",
    "        pass\n",
    "    def get_no_of_wheels(self):\n",
    "        return super().get_no_of_wheels()\n",
    "    \n",
    "class Bus(Automobile):\n",
    "#     def __init__(self,name):\n",
    "#         print(\"Bus Created\")\n",
    "#         self.name = name\n",
    "  \n",
    "    def start(self):\n",
    "        pass\n",
    "    \n",
    "    def stop(self):\n",
    "        pass\n",
    "    \n",
    "    def drive(self):\n",
    "        pass\n",
    "    def get_no_of_wheels(self):\n",
    "        return super().get_no_of_wheels()"
   ]
  },
  {
   "cell_type": "code",
   "execution_count": 22,
   "id": "869a4cdd",
   "metadata": {},
   "outputs": [],
   "source": [
    "# c = Car(\"Honda\")\n",
    "# B = Bus(\"Delhi\")"
   ]
  },
  {
   "cell_type": "code",
   "execution_count": 23,
   "id": "eba9d0e7",
   "metadata": {},
   "outputs": [],
   "source": [
    "# c.start()"
   ]
  },
  {
   "cell_type": "code",
   "execution_count": 24,
   "id": "e0cb58f6",
   "metadata": {},
   "outputs": [
    {
     "name": "stdout",
     "output_type": "stream",
     "text": [
      "Automobile Created\n",
      "Automobile Created\n"
     ]
    }
   ],
   "source": [
    "c = Car(4)\n",
    "b = Bus(8)"
   ]
  },
  {
   "cell_type": "code",
   "execution_count": 25,
   "id": "b70caa00",
   "metadata": {},
   "outputs": [
    {
     "data": {
      "text/plain": [
       "4"
      ]
     },
     "execution_count": 25,
     "metadata": {},
     "output_type": "execute_result"
    }
   ],
   "source": [
    "c.get_no_of_wheels()"
   ]
  },
  {
   "cell_type": "code",
   "execution_count": null,
   "id": "6eb5ecf7",
   "metadata": {},
   "outputs": [],
   "source": []
  }
 ],
 "metadata": {
  "kernelspec": {
   "display_name": "Python 3",
   "language": "python",
   "name": "python3"
  },
  "language_info": {
   "codemirror_mode": {
    "name": "ipython",
    "version": 3
   },
   "file_extension": ".py",
   "mimetype": "text/x-python",
   "name": "python",
   "nbconvert_exporter": "python",
   "pygments_lexer": "ipython3",
   "version": "3.8.10"
  }
 },
 "nbformat": 4,
 "nbformat_minor": 5
}
