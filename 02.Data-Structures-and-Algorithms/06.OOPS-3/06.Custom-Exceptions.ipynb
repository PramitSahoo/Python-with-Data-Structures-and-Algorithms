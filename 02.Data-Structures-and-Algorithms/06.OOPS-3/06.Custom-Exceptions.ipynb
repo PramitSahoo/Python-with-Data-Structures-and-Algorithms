{
 "cells": [
  {
   "cell_type": "code",
   "execution_count": 6,
   "id": "09170a5b",
   "metadata": {},
   "outputs": [
    {
     "name": "stdout",
     "output_type": "stream",
     "text": [
      "Enter the numerator: 4\n",
      "Enter the denominator: 0\n",
      "Denominator should not be zero\n",
      "Enter the numerator: 5\n",
      "Enter the denominator: 2\n",
      "Hi\n",
      "2.5\n"
     ]
    }
   ],
   "source": [
    "while(True):\n",
    "    try:\n",
    "        n = input(\"Enter the numerator: \")\n",
    "        num = int(n)\n",
    "        n = input(\"Enter the denominator: \")\n",
    "        denom = int(n)\n",
    "        if(denom == 0):\n",
    "             raise ZeroDivisionError\n",
    "        print(\"Hi\")\n",
    "        value = num / denom\n",
    "        print(value)\n",
    "        break\n",
    "    except ValueError:\n",
    "         print(\"Numerator and denominator should be int\")\n",
    "    except ZeroDivisionError:\n",
    "        print(\"Denominator should not be zero\")"
   ]
  },
  {
   "cell_type": "code",
   "execution_count": 10,
   "id": "847c4d50",
   "metadata": {},
   "outputs": [
    {
     "name": "stdout",
     "output_type": "stream",
     "text": [
      "Enter the numerator: 5\n",
      "Enter the denominator: 0\n",
      "ZeroDenominator Error is raised\n",
      "Enter the numerator: 2\n",
      "Enter the denominator: 3\n",
      "Hi\n",
      "0.6666666666666666\n"
     ]
    }
   ],
   "source": [
    "# raising your own error\n",
    "class ZeroDenomError(Exception):\n",
    "    pass\n",
    "while(True):\n",
    "    try:\n",
    "        n = input(\"Enter the numerator: \")\n",
    "        num = int(n)\n",
    "        n = input(\"Enter the denominator: \")\n",
    "        denom = int(n)\n",
    "        if(denom == 0):\n",
    "#              raise ZeroDivisionError\n",
    "            raise ZeroDenomError(\"Denominator should not be zero\")\n",
    "        print(\"Hi\")\n",
    "        value = num / denom\n",
    "        print(value)\n",
    "        break\n",
    "    except ValueError:\n",
    "         print(\"Numerator and denominator should be int\")\n",
    "    except ZeroDivisionError:\n",
    "        print(\"Division by zero is not allowed\")\n",
    "    except ZeroDenomError:\n",
    "        print(\"ZeroDenominator Error is raised\")"
   ]
  },
  {
   "cell_type": "code",
   "execution_count": null,
   "id": "686b5705",
   "metadata": {},
   "outputs": [],
   "source": []
  }
 ],
 "metadata": {
  "kernelspec": {
   "display_name": "Python 3",
   "language": "python",
   "name": "python3"
  },
  "language_info": {
   "codemirror_mode": {
    "name": "ipython",
    "version": 3
   },
   "file_extension": ".py",
   "mimetype": "text/x-python",
   "name": "python",
   "nbconvert_exporter": "python",
   "pygments_lexer": "ipython3",
   "version": "3.8.10"
  }
 },
 "nbformat": 4,
 "nbformat_minor": 5
}
